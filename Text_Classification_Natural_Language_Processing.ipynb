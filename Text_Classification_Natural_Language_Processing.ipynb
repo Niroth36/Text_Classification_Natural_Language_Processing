{
  "nbformat": 4,
  "nbformat_minor": 0,
  "metadata": {
    "colab": {
      "provenance": [],
      "authorship_tag": "ABX9TyNJtqIn8wiHmXFxMtMsTS6L",
      "include_colab_link": true
    },
    "kernelspec": {
      "name": "python3",
      "display_name": "Python 3"
    },
    "language_info": {
      "name": "python"
    }
  },
  "cells": [
    {
      "cell_type": "markdown",
      "metadata": {
        "id": "view-in-github",
        "colab_type": "text"
      },
      "source": [
        "<a href=\"https://colab.research.google.com/github/Niroth36/Text_Classification_Natural_Language_Processing/blob/main/Text_Classification_Natural_Language_Processing.ipynb\" target=\"_parent\"><img src=\"https://colab.research.google.com/assets/colab-badge.svg\" alt=\"Open In Colab\"/></a>"
      ]
    },
    {
      "cell_type": "markdown",
      "source": [
        "# Importing libraries"
      ],
      "metadata": {
        "id": "7GlzBw-msEmd"
      }
    },
    {
      "cell_type": "code",
      "execution_count": 8,
      "metadata": {
        "id": "fWa6qcEQfHXW"
      },
      "outputs": [],
      "source": [
        "import matplotlib.pyplot as plt\n",
        "import os\n",
        "import re\n",
        "import shutil\n",
        "import string\n",
        "import numpy as np\n",
        "import tensorflow as tf\n",
        "from tensorflow import keras\n",
        "import pandas as pd\n",
        "\n",
        "from keras import layers\n",
        "from keras import losses\n",
        "from keras import preprocessing\n",
        "from tensorflow.keras.layers.experimental.preprocessing import TextVectorization"
      ]
    },
    {
      "cell_type": "markdown",
      "source": [
        "# Importing dataset"
      ],
      "metadata": {
        "id": "RJt2CKlusQW4"
      }
    },
    {
      "cell_type": "markdown",
      "source": [
        "Download the CSV file"
      ],
      "metadata": {
        "id": "CuEH9BAqvOKm"
      }
    },
    {
      "cell_type": "code",
      "source": [
        "url = \"https://github.com/Niroth36/Text_Classification_Natural_Language_Processing/blob/main/dataset.csv.gz\"\n",
        "filename = \"dataset.csv\"\n",
        "\n",
        "csv_file = tf.keras.utils.get_file(filename, url, extract = True)"
      ],
      "metadata": {
        "id": "FTGnA4TxsTJF"
      },
      "execution_count": 9,
      "outputs": []
    },
    {
      "cell_type": "markdown",
      "source": [
        "Read the CSV file using pandas"
      ],
      "metadata": {
        "id": "DCr0xOXKvTWY"
      }
    },
    {
      "cell_type": "code",
      "source": [
        "df = pd.read_csv(csv_file, error_bad_lines=False)"
      ],
      "metadata": {
        "colab": {
          "base_uri": "https://localhost:8080/"
        },
        "id": "AcGxdHjzvV34",
        "outputId": "995b52c2-2759-462f-c1a9-4772667ecd70"
      },
      "execution_count": 11,
      "outputs": [
        {
          "output_type": "stream",
          "name": "stderr",
          "text": [
            "/usr/local/lib/python3.8/dist-packages/IPython/core/interactiveshell.py:3326: FutureWarning: The error_bad_lines argument has been deprecated and will be removed in a future version.\n",
            "\n",
            "\n",
            "  exec(code_obj, self.user_global_ns, self.user_ns)\n",
            "b'Skipping line 27: expected 1 fields, saw 367\\nSkipping line 81: expected 1 fields, saw 3\\nSkipping line 126: expected 1 fields, saw 3\\nSkipping line 190: expected 1 fields, saw 3\\nSkipping line 199: expected 1 fields, saw 6\\nSkipping line 231: expected 1 fields, saw 4\\nSkipping line 244: expected 1 fields, saw 4\\nSkipping line 257: expected 1 fields, saw 4\\nSkipping line 270: expected 1 fields, saw 4\\nSkipping line 283: expected 1 fields, saw 4\\nSkipping line 296: expected 1 fields, saw 4\\nSkipping line 309: expected 1 fields, saw 4\\nSkipping line 322: expected 1 fields, saw 4\\nSkipping line 339: expected 1 fields, saw 4\\nSkipping line 346: expected 1 fields, saw 4\\nSkipping line 355: expected 1 fields, saw 4\\nSkipping line 364: expected 1 fields, saw 4\\nSkipping line 389: expected 1 fields, saw 4\\nSkipping line 396: expected 1 fields, saw 4\\nSkipping line 403: expected 1 fields, saw 4\\nSkipping line 410: expected 1 fields, saw 4\\nSkipping line 423: expected 1 fields, saw 4\\nSkipping line 430: expected 1 fields, saw 4\\nSkipping line 439: expected 1 fields, saw 4\\nSkipping line 452: expected 1 fields, saw 4\\nSkipping line 459: expected 1 fields, saw 4\\nSkipping line 483: expected 1 fields, saw 4\\nSkipping line 497: expected 1 fields, saw 4\\nSkipping line 512: expected 1 fields, saw 4\\nSkipping line 519: expected 1 fields, saw 4\\nSkipping line 526: expected 1 fields, saw 4\\nSkipping line 538: expected 1 fields, saw 3\\nSkipping line 557: expected 1 fields, saw 2\\nSkipping line 756: expected 1 fields, saw 6\\nSkipping line 757: expected 1 fields, saw 3\\nSkipping line 764: expected 1 fields, saw 6\\nSkipping line 765: expected 1 fields, saw 3\\nSkipping line 870: expected 1 fields, saw 6\\nSkipping line 877: expected 1 fields, saw 6\\nSkipping line 886: expected 1 fields, saw 6\\nSkipping line 911: expected 1 fields, saw 4\\nSkipping line 923: expected 1 fields, saw 4\\nSkipping line 935: expected 1 fields, saw 4\\nSkipping line 947: expected 1 fields, saw 4\\nSkipping line 959: expected 1 fields, saw 4\\nSkipping line 971: expected 1 fields, saw 4\\nSkipping line 982: expected 1 fields, saw 4\\nSkipping line 1068: expected 1 fields, saw 5\\nSkipping line 1238: expected 1 fields, saw 2\\nSkipping line 1263: expected 1 fields, saw 7\\nSkipping line 1304: expected 1 fields, saw 2\\nSkipping line 1337: expected 1 fields, saw 2\\nSkipping line 1434: expected 1 fields, saw 6\\nSkipping line 1444: expected 1 fields, saw 2\\nSkipping line 1469: expected 1 fields, saw 2\\nSkipping line 1516: expected 1 fields, saw 2\\nSkipping line 1524: expected 1 fields, saw 3\\nSkipping line 1525: expected 1 fields, saw 3\\nSkipping line 1526: expected 1 fields, saw 3\\nSkipping line 1527: expected 1 fields, saw 3\\nSkipping line 1528: expected 1 fields, saw 3\\nSkipping line 1529: expected 1 fields, saw 3\\nSkipping line 1530: expected 1 fields, saw 3\\nSkipping line 1531: expected 1 fields, saw 3\\nSkipping line 1532: expected 1 fields, saw 3\\nSkipping line 1533: expected 1 fields, saw 3\\nSkipping line 1534: expected 1 fields, saw 3\\n'\n"
          ]
        }
      ]
    },
    {
      "cell_type": "code",
      "source": [
        "df.head()"
      ],
      "metadata": {
        "colab": {
          "base_uri": "https://localhost:8080/",
          "height": 206
        },
        "id": "urScw2vMx9bz",
        "outputId": "b99fe2a6-d86d-4930-a45f-c17581c9bf26"
      },
      "execution_count": 12,
      "outputs": [
        {
          "output_type": "execute_result",
          "data": {
            "text/plain": [
              "                                     <!DOCTYPE html>\n",
              "0  <html lang=\"en\" data-color-mode=\"auto\" data-li...\n",
              "1                                             <head>\n",
              "2                             <meta charset=\"utf-8\">\n",
              "3    <link rel=\"dns-prefetch\" href=\"https://githu...\n",
              "4    <link rel=\"dns-prefetch\" href=\"https://avata..."
            ],
            "text/html": [
              "\n",
              "  <div id=\"df-f8935f3c-b26e-4447-b9a1-51f254f93dc5\">\n",
              "    <div class=\"colab-df-container\">\n",
              "      <div>\n",
              "<style scoped>\n",
              "    .dataframe tbody tr th:only-of-type {\n",
              "        vertical-align: middle;\n",
              "    }\n",
              "\n",
              "    .dataframe tbody tr th {\n",
              "        vertical-align: top;\n",
              "    }\n",
              "\n",
              "    .dataframe thead th {\n",
              "        text-align: right;\n",
              "    }\n",
              "</style>\n",
              "<table border=\"1\" class=\"dataframe\">\n",
              "  <thead>\n",
              "    <tr style=\"text-align: right;\">\n",
              "      <th></th>\n",
              "      <th>&lt;!DOCTYPE html&gt;</th>\n",
              "    </tr>\n",
              "  </thead>\n",
              "  <tbody>\n",
              "    <tr>\n",
              "      <th>0</th>\n",
              "      <td>&lt;html lang=\"en\" data-color-mode=\"auto\" data-li...</td>\n",
              "    </tr>\n",
              "    <tr>\n",
              "      <th>1</th>\n",
              "      <td>&lt;head&gt;</td>\n",
              "    </tr>\n",
              "    <tr>\n",
              "      <th>2</th>\n",
              "      <td>&lt;meta charset=\"utf-8\"&gt;</td>\n",
              "    </tr>\n",
              "    <tr>\n",
              "      <th>3</th>\n",
              "      <td>&lt;link rel=\"dns-prefetch\" href=\"https://githu...</td>\n",
              "    </tr>\n",
              "    <tr>\n",
              "      <th>4</th>\n",
              "      <td>&lt;link rel=\"dns-prefetch\" href=\"https://avata...</td>\n",
              "    </tr>\n",
              "  </tbody>\n",
              "</table>\n",
              "</div>\n",
              "      <button class=\"colab-df-convert\" onclick=\"convertToInteractive('df-f8935f3c-b26e-4447-b9a1-51f254f93dc5')\"\n",
              "              title=\"Convert this dataframe to an interactive table.\"\n",
              "              style=\"display:none;\">\n",
              "        \n",
              "  <svg xmlns=\"http://www.w3.org/2000/svg\" height=\"24px\"viewBox=\"0 0 24 24\"\n",
              "       width=\"24px\">\n",
              "    <path d=\"M0 0h24v24H0V0z\" fill=\"none\"/>\n",
              "    <path d=\"M18.56 5.44l.94 2.06.94-2.06 2.06-.94-2.06-.94-.94-2.06-.94 2.06-2.06.94zm-11 1L8.5 8.5l.94-2.06 2.06-.94-2.06-.94L8.5 2.5l-.94 2.06-2.06.94zm10 10l.94 2.06.94-2.06 2.06-.94-2.06-.94-.94-2.06-.94 2.06-2.06.94z\"/><path d=\"M17.41 7.96l-1.37-1.37c-.4-.4-.92-.59-1.43-.59-.52 0-1.04.2-1.43.59L10.3 9.45l-7.72 7.72c-.78.78-.78 2.05 0 2.83L4 21.41c.39.39.9.59 1.41.59.51 0 1.02-.2 1.41-.59l7.78-7.78 2.81-2.81c.8-.78.8-2.07 0-2.86zM5.41 20L4 18.59l7.72-7.72 1.47 1.35L5.41 20z\"/>\n",
              "  </svg>\n",
              "      </button>\n",
              "      \n",
              "  <style>\n",
              "    .colab-df-container {\n",
              "      display:flex;\n",
              "      flex-wrap:wrap;\n",
              "      gap: 12px;\n",
              "    }\n",
              "\n",
              "    .colab-df-convert {\n",
              "      background-color: #E8F0FE;\n",
              "      border: none;\n",
              "      border-radius: 50%;\n",
              "      cursor: pointer;\n",
              "      display: none;\n",
              "      fill: #1967D2;\n",
              "      height: 32px;\n",
              "      padding: 0 0 0 0;\n",
              "      width: 32px;\n",
              "    }\n",
              "\n",
              "    .colab-df-convert:hover {\n",
              "      background-color: #E2EBFA;\n",
              "      box-shadow: 0px 1px 2px rgba(60, 64, 67, 0.3), 0px 1px 3px 1px rgba(60, 64, 67, 0.15);\n",
              "      fill: #174EA6;\n",
              "    }\n",
              "\n",
              "    [theme=dark] .colab-df-convert {\n",
              "      background-color: #3B4455;\n",
              "      fill: #D2E3FC;\n",
              "    }\n",
              "\n",
              "    [theme=dark] .colab-df-convert:hover {\n",
              "      background-color: #434B5C;\n",
              "      box-shadow: 0px 1px 3px 1px rgba(0, 0, 0, 0.15);\n",
              "      filter: drop-shadow(0px 1px 2px rgba(0, 0, 0, 0.3));\n",
              "      fill: #FFFFFF;\n",
              "    }\n",
              "  </style>\n",
              "\n",
              "      <script>\n",
              "        const buttonEl =\n",
              "          document.querySelector('#df-f8935f3c-b26e-4447-b9a1-51f254f93dc5 button.colab-df-convert');\n",
              "        buttonEl.style.display =\n",
              "          google.colab.kernel.accessAllowed ? 'block' : 'none';\n",
              "\n",
              "        async function convertToInteractive(key) {\n",
              "          const element = document.querySelector('#df-f8935f3c-b26e-4447-b9a1-51f254f93dc5');\n",
              "          const dataTable =\n",
              "            await google.colab.kernel.invokeFunction('convertToInteractive',\n",
              "                                                     [key], {});\n",
              "          if (!dataTable) return;\n",
              "\n",
              "          const docLinkHtml = 'Like what you see? Visit the ' +\n",
              "            '<a target=\"_blank\" href=https://colab.research.google.com/notebooks/data_table.ipynb>data table notebook</a>'\n",
              "            + ' to learn more about interactive tables.';\n",
              "          element.innerHTML = '';\n",
              "          dataTable['output_type'] = 'display_data';\n",
              "          await google.colab.output.renderOutput(dataTable, element);\n",
              "          const docLink = document.createElement('div');\n",
              "          docLink.innerHTML = docLinkHtml;\n",
              "          element.appendChild(docLink);\n",
              "        }\n",
              "      </script>\n",
              "    </div>\n",
              "  </div>\n",
              "  "
            ]
          },
          "metadata": {},
          "execution_count": 12
        }
      ]
    }
  ]
}