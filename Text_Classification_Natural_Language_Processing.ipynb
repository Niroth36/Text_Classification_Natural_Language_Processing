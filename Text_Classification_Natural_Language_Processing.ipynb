{
  "nbformat": 4,
  "nbformat_minor": 0,
  "metadata": {
    "colab": {
      "provenance": [],
      "authorship_tag": "ABX9TyMXMz8RceApYg0PeunJNxfN",
      "include_colab_link": true
    },
    "kernelspec": {
      "name": "python3",
      "display_name": "Python 3"
    },
    "language_info": {
      "name": "python"
    }
  },
  "cells": [
    {
      "cell_type": "markdown",
      "metadata": {
        "id": "view-in-github",
        "colab_type": "text"
      },
      "source": [
        "<a href=\"https://colab.research.google.com/github/Niroth36/Text_Classification_Natural_Language_Processing/blob/main/Text_Classification_Natural_Language_Processing.ipynb\" target=\"_parent\"><img src=\"https://colab.research.google.com/assets/colab-badge.svg\" alt=\"Open In Colab\"/></a>"
      ]
    },
    {
      "cell_type": "markdown",
      "source": [
        "# Importing libraries"
      ],
      "metadata": {
        "id": "7GlzBw-msEmd"
      }
    },
    {
      "cell_type": "code",
      "execution_count": 1,
      "metadata": {
        "id": "fWa6qcEQfHXW"
      },
      "outputs": [],
      "source": [
        "import matplotlib.pyplot as plt\n",
        "import os\n",
        "import re\n",
        "import shutil\n",
        "import string\n",
        "import numpy as np\n",
        "import tensorflow as tf\n",
        "from tensorflow import keras\n",
        "import pandas as pd\n",
        "\n",
        "from keras import layers\n",
        "from keras import losses\n",
        "from keras import preprocessing\n",
        "from tensorflow.keras.layers.experimental.preprocessing import TextVectorization"
      ]
    },
    {
      "cell_type": "markdown",
      "source": [
        "# Importing dataset"
      ],
      "metadata": {
        "id": "RJt2CKlusQW4"
      }
    },
    {
      "cell_type": "markdown",
      "source": [
        "Download the CSV file"
      ],
      "metadata": {
        "id": "CuEH9BAqvOKm"
      }
    },
    {
      "cell_type": "code",
      "source": [
        "url = \"https://raw.githubusercontent.com/Niroth36/Text_Classification_Natural_Language_Processing/main/dataset.csv.gz\"\n",
        "filename = \"dataset.csv.gz\"\n",
        "\n",
        "path = tf.keras.utils.get_file(filename, url)"
      ],
      "metadata": {
        "id": "FTGnA4TxsTJF"
      },
      "execution_count": 54,
      "outputs": []
    },
    {
      "cell_type": "code",
      "source": [
        "# load data with pandas\n",
        "df = pd.read_csv(path, compression='gzip')"
      ],
      "metadata": {
        "id": "95aux2G6_DGb"
      },
      "execution_count": 55,
      "outputs": []
    },
    {
      "cell_type": "code",
      "source": [
        "df.isnull().sum()"
      ],
      "metadata": {
        "id": "RBPLObksCjIR",
        "outputId": "1e4f2c8f-6b77-4c7b-9a09-2b34fd4a33a4",
        "colab": {
          "base_uri": "https://localhost:8080/"
        }
      },
      "execution_count": 56,
      "outputs": [
        {
          "output_type": "execute_result",
          "data": {
            "text/plain": [
              "Unnamed: 0            0\n",
              "Release Year          0\n",
              "Title                 0\n",
              "Origin/Ethnicity      0\n",
              "Director              0\n",
              "Cast                486\n",
              "Wiki Page             0\n",
              "Plot                  0\n",
              "Genre                 0\n",
              "dtype: int64"
            ]
          },
          "metadata": {},
          "execution_count": 56
        }
      ]
    },
    {
      "cell_type": "code",
      "source": [
        "df= df.drop(\"Cast\", axis='columns')"
      ],
      "metadata": {
        "id": "CoCKmcTNjsHS"
      },
      "execution_count": 57,
      "outputs": []
    },
    {
      "cell_type": "markdown",
      "source": [
        "I decided to drop Cast column because it has missing values and it has no point in categorizing the movies according to their genre."
      ],
      "metadata": {
        "id": "-pofsP5Oj20v"
      }
    },
    {
      "cell_type": "code",
      "source": [
        "def preprocess_text(text):\n",
        "    # convert text to lowercase\n",
        "    text = text.lower()\n",
        "\n",
        "    # remove special characters and digits\n",
        "    text = re.sub(r'[^\\w\\s]', '', text)\n",
        "\n",
        "    # remove punctuation\n",
        "    text = text.translate(str.maketrans('', '', string.punctuation))\n",
        "\n",
        "    return text"
      ],
      "metadata": {
        "id": "1cawr1JW9pR2"
      },
      "execution_count": 58,
      "outputs": []
    },
    {
      "cell_type": "markdown",
      "source": [
        "Extract the file and read the CSV file using pandas"
      ],
      "metadata": {
        "id": "pKcACLpE-_6b"
      }
    },
    {
      "cell_type": "markdown",
      "source": [
        "The first line creates a dictionary genre2id that maps each unique genre in the Genre column of df to a unique integer ID. The genres are sorted alphabetically using the sorted() function and then enumerated using the enumerate() function, starting from 0. The resulting dictionary genre2id has keys that are the unique genre names and values that are the corresponding integer IDs.\n",
        "The second line maps the genre names in the Genre column of df to the corresponding integer IDs using the map() method. The resulting integer IDs are added as a new column label in df.\n",
        "\n",
        "The integer IDs are useful for training machine learning models, as many models require integer labels instead of string labels."
      ],
      "metadata": {
        "id": "iUyG0Izq-H8b"
      }
    },
    {
      "cell_type": "markdown",
      "source": [
        "This function should load the data from the CSV file at file_path, preprocess it as described, and return three tf.data.Dataset objects for training, validation, and testing, respectively. The batch_size, p_train, and p_val parameters control the size of the batches and the proportion of the data used for training, validation, and testing, respectively. The function also returns the number of labels in the dataset as n_labels."
      ],
      "metadata": {
        "id": "7j6XHU64Deeu"
      }
    },
    {
      "cell_type": "code",
      "source": [
        "import numpy as np\n",
        "import pandas as pd\n",
        "import tensorflow as tf\n",
        "\n",
        "def load_data_wiki(file_path, batch_size=32, p_train=.65, p_val=0.15):\n",
        "    # load data with pandas\n",
        "    df = pd.read_csv(file_path, compression='gzip')\n",
        "\n",
        "    # randomize the data, (shuffle rows)\n",
        "    df = df.sample(frac=1, random_state=42)\n",
        "\n",
        "    # preprocess text data\n",
        "    df['Plot'] = df['Plot'].apply(preprocess_text)\n",
        "    df['Title'] = df['Title'].apply(preprocess_text)\n",
        "\n",
        "    # convert Origin/Ethnicity to one-hot encoding\n",
        "    ethnicity_onehot = pd.get_dummies(df['Origin/Ethnicity'], prefix='Ethnicity')\n",
        "\n",
        "    # concatenate the data and one-hot encoded ethnicity\n",
        "    df = pd.concat([df, ethnicity_onehot], axis=1)\n",
        "\n",
        "    # one-hot encode the genre labels\n",
        "    genre_onehot = pd.get_dummies(df['Genre'], prefix='Genre')\n",
        "\n",
        "    # concatenate the data and one-hot encoded genre\n",
        "    df = pd.concat([df, genre_onehot], axis=1)\n",
        "\n",
        "    # split data into train, val, and test\n",
        "    train_size = int(p_train * len(df))\n",
        "    val_size = int(p_val * len(df))\n",
        "    test_size = len(df) - train_size - val_size\n",
        "\n",
        "    train_df = df[:train_size]\n",
        "    val_df = df[train_size:train_size + val_size]\n",
        "    test_df = df[train_size + val_size:]\n",
        "        \n",
        "    # convert dataframes to dictionaries\n",
        "    ethnicity_cols = [col for col in df.columns if col.startswith('Ethnicity_')]\n",
        "    genre_cols = [col for col in df.columns if col.startswith('Genre_')]\n",
        "    \n",
        "    train_title = np.array(train_df['Title'])\n",
        "    train_plot = np.array(train_df['Plot'])\n",
        "    train_ethnicity = np.array(train_df[ethnicity_cols])\n",
        "    train_genre = np.array(train_df[genre_cols])\n",
        "\n",
        "    val_title = np.array(val_df['Title'])\n",
        "    val_plot = np.array(val_df['Plot'])\n",
        "    val_ethnicity = np.array(val_df[ethnicity_cols])\n",
        "    val_genre = np.array(val_df[genre_cols])\n",
        "\n",
        "    test_title = np.array(test_df['Title'])\n",
        "    test_plot = np.array(test_df['Plot'])\n",
        "    test_ethnicity = np.array(test_df[ethnicity_cols])\n",
        "    test_genre = np.array(test_df[genre_cols])\n",
        "    \n",
        "    train_data = {'Title': train_title, 'Plot': train_plot, 'Ethnicity': train_ethnicity, 'Genre': train_genre}\n",
        "    val_data = {'Title': val_title, 'Plot': val_plot, 'Ethnicity': val_ethnicity, 'Genre': val_genre}\n",
        "    test_data = {'Title': test_title, 'Plot': test_plot, 'Ethnicity': test_ethnicity, 'Genre': test_genre}\n",
        "\n",
        "    # create tf.data.Dataset objects\n",
        "    train_ds = tf.data.Dataset.from_tensor_slices(train_data)\n",
        "    train_ds = train_ds.shuffle(buffer_size=train_size)\n",
        "    train_ds = train_ds.batch(batch_size)\n",
        "\n",
        "    val_ds = tf.data.Dataset.from_tensor_slices(val_data)\n",
        "    val_ds = val_ds.shuffle(buffer_size=val_size)\n",
        "    val_ds = val_ds.batch(batch_size)\n",
        "\n",
        "    test_ds = tf.data.Dataset.from_tensor_slices(test_data)\n",
        "    test_ds = test_ds.batch(batch_size)\n",
        "\n",
        "    # return datasets and number of labels\n",
        "    return train_ds, val_ds, test_ds, len(genre_onehot.columns)"
      ],
      "metadata": {
        "id": "CLALK_idCzmO"
      },
      "execution_count": 101,
      "outputs": []
    },
    {
      "cell_type": "code",
      "source": [
        "raw_train_ds, raw_val_ds, raw_test_ds, n_labels = load_data_wiki(path)"
      ],
      "metadata": {
        "id": "z07a6zspyyuy"
      },
      "execution_count": 102,
      "outputs": []
    },
    {
      "cell_type": "code",
      "source": [
        "print(n_labels)"
      ],
      "metadata": {
        "id": "rvur9c8tCc7d",
        "outputId": "16c3c54a-f566-4587-d45a-60a7b082f3bc",
        "colab": {
          "base_uri": "https://localhost:8080/"
        }
      },
      "execution_count": 103,
      "outputs": [
        {
          "output_type": "stream",
          "name": "stdout",
          "text": [
            "20\n"
          ]
        }
      ]
    },
    {
      "cell_type": "code",
      "source": [
        "# Peek at the first batch of the training dataset\n",
        "for batch in raw_train_ds.take(1):\n",
        "    print(batch)"
      ],
      "metadata": {
        "colab": {
          "base_uri": "https://localhost:8080/"
        },
        "id": "urScw2vMx9bz",
        "outputId": "4fb9d90b-47e3-4156-c955-03e5bcd5ad32"
      },
      "execution_count": 114,
      "outputs": [
        {
          "output_type": "stream",
          "name": "stdout",
          "text": [
            "{'Title': <tf.Tensor: shape=(32,), dtype=string, numpy=\n",
            "array([b'the flame of new orleans', b'the next of kin',\n",
            "       b'the old barn dance', b'die laughing', b'tiger cage',\n",
            "       b'velugu needalu', b'shout at the devil', b'downhill racer',\n",
            "       b'aadu', b'a price above rubies', b'jungle goddess',\n",
            "       b'the girl next door', b'gunga din', b'veeranna', b'parugu',\n",
            "       b'stanley  iris', b'night crossing', b'trail of the vigilantes',\n",
            "       b'under the hawthorn tree', b'the dark past', b'lets get harry',\n",
            "       b'derby day', b'gumrah', b'where is parsifal',\n",
            "       b'simon king of the witches', b'shanghai story',\n",
            "       b'what just happened', b'darkness falls', b'wrong is right',\n",
            "       b'the pink panther 2', b'aadu magaadra bujji',\n",
            "       b'billy elliot the musical live'], dtype=object)>, 'Plot': <tf.Tensor: shape=(32,), dtype=string, numpy=\n",
            "array([b'the legend of claire of new orleans is born after two fishermen find a wedding dress floating around on the mississippi river one day the legend tells that the countess claire ledux disappeared on her wedding day in the year of 1840 and when the dress was found the people of new orleans assumed that the bride had committed suicide by throwing herself into the river this is how the story begins and then we find out what really happened as the story of claire ledux is revealed\\r\\nwhen claire arrives in new orleans for the first time in her life she has a strong ambition to become mrs charles giraud  a very rich and renowned banker she gets her opening one night at the opera when she manages to bet the seat next to the banker trying to catch the unsuspecting bankers attention she fakes fainting in her seat the banker immediately rushes to her rescue and claires mission is accomplished desperate to the beautiful claire again charles sends his valet over to claires maid clementine after the opera the maid forwards the message asking claire to meet with charles in the park claire and the maid make a plan to let a man harass claire in the park so that charles can come to her rescue but even the simplest plans go wrong and on the way to the park claires carriage runs over a monkey by accident the monkey belongs to river boat captain robert latour he stops the carriage but since clementine believes this is the man they hired to make a fuzz with them she tells the driver to go on and ignore the man robert latour is aggravated by this behaviour and tips the carriage over\\r\\nafter this incident where charles was not only stood up by claire since the carriage never arrived but also deprived of a chance to come to her aid he swears to avenge robert latours insolent behaviour he also vows to properly take care of and guard claire every night from now on\\r\\nattending a mardi gras festivity claire recognizes robert latour in the crowd and points him out to charles who is quick to challenge robert to a duel robert gets to choose weapons and he chooses knives something charles isnt quite prepared for robert gets a distinct advantage over charles in the duel and claire steps in to interrupt what she fears will be the end of the bankers life she tells charles that she mistook robert for someone else thus ending the battle\\r\\nso settle the matter once and for all robert invites claire to dinner on his rover boat the following night he borrows 150 dollars to pay for the feast but while claire is getting ready for her meeting with robert charles arrives and throws her a proposal of marriage there on the spot claire accepts his proposl and sends a message via her maid to robert cancelling the dinner without telling him the real reason robert fears that claire is taken ill and in need of a doctor he rushes over to her house to offer his assistance but sees charles through the window and realizes the real reason for her rejection\\r\\nonly two days before their wedding charles throws a party in claires honor to the party comes many distinguished guests and among them are the newly arrived russian gentleman zolotov this man sees claire and recognizes her from st petersburg during the evening zolotov tells stories of claire to a friend of his bellows and charles brotherinlaw hears them talk charles hears of the stories and is upset challenging zolotov to a duel zolotov has no wish to enter a duel with the banker and swears he must have been mistaken since the girl he knew was known to fake fainting to get a mans attention at this point claire faints  for real this time and is carried out of the room\\r\\nthe next day charles comes to visit claire in her home in order to break off their engagement he doesnt get to meet claire but is instead confronted by a woman named lili  claires lookalike and illegitimate cousin from st petersburg a woman of highly questionable reputation seen from charles point of view charles agrees to meet with lili that same night at the oyster bed caf\\xc3\\xa9 located down by the docks charles brings zolotov and bellows to the restaurant and demands that lili leave town never to return  he doesnt wish to be associated with the kind of woman she is feeling threatened lili decides to leave but before she does she bumps into robert latour robert opens his heart to lili and tells her he is in love with claire and has been since he first met with her charles finds lili and robert talking and promises to settle roberts loan debt if he takes lili out of new orleans robert agrees to this\\r\\nrobert passes by claires house and peers through the window seeing lili inside he puts two and two together and realizes that lili and claire are the same person he doesnt confront her but tells what he has found out to charles they conspire to abduct liliclaire and hide her away on roberts boat until the wedding once robert arrives back to his boat with claire he sets her free and she decides to stay the night the morning after claire tells robert that they will never see each other again\\r\\nthe wedding is held as planned a day later but when claire sees robert as one of the guests she realizes that he is the one she loves and fakes fainting again in the turmoil that follows claire disappears and is nowhere to be found she sails away with robert on his boat and throws her wedding dress into the mississippi river2',\n",
            "       b'the british are preparing a secret raid on the germanheld french coastal village of norville where a lightly defended submarine base has been newly set up major richards is assigned as the security officer for the 95th brigade the unit chosen for the task german intelligence learns that the 95th are being moved to westport for training for some mission via miss clare an attractive showgirl who has a talkative admirer in lieutenant cummins\\r\\nthey send agents 23 and 16 to england to discover the intended target by piecing together information from different sources including conversations overheard in pubs railway stations shops and other public places 16 is caught when he claims to be a soldier with the same company as private durnford but 23 reaches his contact mr barratt a bookseller at westport when richards spots miss clare in a pub in westport having a drink with cummins he has the police search her belongings not expecting them to find anything however they discover spy equipment and she is arrested agent 23 witnesses this and departs hastily having already come to the attention of richards barratt assigns him to 16s job to infiltrate an ordnance depot after he helps an ats driver with a punctured tyre she invites him to a dance there he learns that the 95th have top priority for special equipment\\r\\ncertain that the mission is imminent and without any agents to spare barratt forces his employee dutch refugee beppie leemans to take on the task of finding out where and when the 95th are going from her soldier boyfriend in exchange for the safety of her parents in germanoccupied holland she informs him that the 95th are expecting aerial photographs barratt sends 23 to london to contact another agent to try to obtain the photographs when leemans realises the seriousness of what she has done she stabs barratt to death but 23 returns unexpectedly and knocks her out he then turns on the gas and makes it look like a murdersuicide an agent manages to steal the briefcase containing an aerial negative carelessly left unattended at a cafe by a wing commander the officer believes his briefcase was taken by mistake and is relieved when it is returned to the cafe after a photograph is developed the photograph is smuggled to german intelligence and used to identify the 95ths objective as a result the germans are waiting in ambush\\r\\noriginally the commando raid depicted was intended to be a complete failure however the war office were uncomfortable about showing such a defeat in the final version the raid is successful albeit with heavy losses winston churchill reportedly wanted the film banned as a threat to morale but was eventually persuaded of the importance of its message\\r\\nbasil radford and naunton wayne appear in cameos at the end of the film as two careless talkers on a train in the same compartment as 23 the two men made many appearances together in british films of the 1940s following their successful pairing as charters and caldicott in hitchcocks the lady vanishes',\n",
            "       b'a horse trader named gene autry gene autry arrives in grainville with his horses and outfit prepared to put on a barn dance to attract potential horse buyers to an auction the horse trading business has been affected lately by the increased use of tractors to replace horses for farm work radio station owner sally dawson joan valerie approaches gene and offers him a contract to sing on a program sponsored by thornton farming equipment the areas leading manufacturer of tractors unconvinced that tractors could ever replace horses gene refuses her offer but is still attracted to her and invites her to his barn dance that night\\r\\nunknown to gene sally is facing bankruptcy and needs to find a way to save the radio station knowing that mr thornton ivan miller the tractor company owner would sign a contract with her station if gene would promote his product sally and her kid brother johnny secretly broadcast genes show under the sponsorship of thornton farming equipment after hearing the broadcast and the audience reaction thornton agrees to give sally an advance for genes upcoming shows thereby saving the radion station later she tells gene that if he signs a general contract with her he would make enough money to offset his poor horse sales\\r\\nin the coming weeks sally broadcasts genes barn dances via remote control hookups presenting them as promotions for the tractor company the farmers of the area believing that gene is endorsing the use of tractors begin to purchase them using loans from a finance company as harvest time approaches however many of the farmers are unable to make their payments on time and the finance company conspiring with thornton threatens to repossess the tractors unless the farmers sign over a percentage of their harvest profits the farmers are given less than a week to decide\\r\\nbelieving that gene is involved in the finance companys scheme the farmers confront him at a barn dance and a major fight breaks out afterwards when gene learns the truth from sally about how he has been used to promote tractor sales he promises the farmers that he will provide horses to all of them to get them through the harvest meanwhile thornton demands that sally return his advance payment since gene will no longer be performing on the radio show fearing for her fathers health and with no other option available sally agrees to broadcast recordings of genes barn dances to continue promoting the tractor company\\r\\nwhen thornton learns that gene and his men are rounding up horses for the farmers he orders his henchmen to stampede the herd during the stampede a cowboy is seriously injured later when the farmers hear genes voice on sallys radio station they suspect he has betrayed them but when gene arrives they all realize they are listening to a recording angered by the deception gene heads over to the radio station with his sidekick frog millhouse smiley burnette and destroy the records leaving the station in ruins later sallys kid brother johnny is able to restore a record he made of thornton discussing the stampede\\r\\nat the county fair gene arrives with his horses but the sheriff seizes them based on thorntons claim for damages to the radio station while frog uses a tractor to destroy thorntons platform sally and johnny broadcast the incriminating record of thornton discussing the stampede over the public address system when thornton and his men arrive at the station sally and johnny drive off with thornton in hot pursuit gene chases after the cars on horseback shoots one of the henchmen and captures thornton afterwards gene and sally head back to town together on horseback',\n",
            "       b'a young cab driver and aspiring singer becomes embroiled in a plot to kidnap a monkey that has memorized a scientific formula with the potential to destroy the world',\n",
            "       b'inspector michael wong simon yam alongside shirley ho carol cheng brother lung bryan leung fan chunyau jacky cheung uncle tat ng mantat and terry donnie yen are all part of the antidrug unit of the royal hong kong police force the relationship between them are like brothers in general during an operation they worked together to bust a drug den but the chief drug trafficker swatow hung wang lungwei escaped just as they were celebrating their success hung found them and killed lung in order to avenge lung and find hung they took a variety of means and finally found and killed hung during an accident yau filmed tat trading with a drug trafficker and tells terry and michael after michael found out in order to protect himself he killed terry and framed yau who was then suspended from duty which caused yau to suspect something fishy one day yaus girlfriend amy irene wan found a videotape at home and discovered that michael and tat were accomplices but in order to save yau she handed the tape to michael which also led to her fatal demise at this point yau and shirley discover the truth to everything that hung luckily escaped from the drug bust earlier and came back to revenge on lung who was an undercover cop on the night before his wedding with shirley yau vows to bring the perpetrator to justice and dig out the mole inside the police force terry who was partners with tat discovered his relationship with the drug traffickers and conflicted for his loyalty to tat or his ethnic standards tat was used by his superior michael and was ultimately abandoned and killed shirley finally discovers the truth to the case but now it is difficult for all of them to escape death',\n",
            "       b'rao bahadur venkataramaiah s v ranga rao owns a printing press and a magazine vengalappa relangi works for him venkataramaiah and his wife kanaka durgamma suryakantham adopt a girl suguna baby sasikala  savitri after she gives birth to a child varalakshmi girija kanaka durgammas affection towards suguna diminishes and throws her out vengalappa and his wife santhamma tg kamala devi raise her suguna joins mbbs chandra shekar akkineni nageswara rao nephew of vengalappa is also a student of the same college and they fell in love suguna gives tuition to subhadrammas sandhya son subhadrammas brother dr raghunath jaggaiah returns from london chandram is a chain smoker is afflicted with tuberculosis heeding to chandrams words suguna marries raghu chandram is admitted to the union mission sanatorium in madanapalle and is cured raghu meets with a fatal accident on his way to receive chandram bowing to sugunas wish chandram marries varalakshmi and steers the press and the magazine towards profit kanaka durgamma sows suspicion in varalakshmi about suguna and chandrams relationship chandram joins the workers in their fight for the bonus venkataramaiah brings in new workers while trying to stop the fight between them varalakshmi is grievously injured suguna saves her the shadows are a thing of the past in their family',\n",
            "       b'colonel flynn oflynn lee marvin a harddrinking american manipulates british aristocrat sebastian oldsmith roger moore into helping poach ivory in tanganyika which is part of the germancontrolled preworld war i territory of german east africa on hearing news that the american has returned herman fleischer the local german commander of the southern provinces relentlessly hunts oflynn with his schutztruppen colonial troops\\r\\nlater sebastian meets and falls in love with oflynns daughter rosa barbara parkins they are married and have a daughter together meanwhile the poaching continues fleischer has his warship ram and sink oflynns arab dhow ship loaded with poached ivory later while attacking oflynns home schutztruppe under fleischers command kill sebastians daughter maria\\r\\noflynn and sebastian decide to go and kill fleischer as revenge for the death of the little girl but when it is discovered that britain is at war with germany allied officers convince oflynn to locate and destroy the german warship awaiting repair\\r\\noflynn sebastian and rosa pursue fleischer who happens to be on the warship eventually they find her in an inlet and plant a bomb on board oflynn sacrifices himself so that sebastian and rosa can escape while fleischers crew search for the bomb fleischer jumps overboard just in time to get away also but as he comes ashore sebastian dispatches him with a rifle sebastian and rosa then watch the ship as it is ripped apart by more explosions and burns',\n",
            "       b'american downhill skier david chappellet robert redford arrives in wengen switzerland to join the us ski team along with fellow newcomer d k bryan kenneth kirk both men were sent for by team coach eugene claire gene hackman to replace one of his top skiers who was recently injured during an fis competition raised in the small town of idaho springs colorado chappellet is a loner with a singleminded focus on becoming a skiing champion and shows little interest in being a team player after refusing to race at the lauberhorn because of a late starting position he makes his european skiing debut at the arlbergkandahar in austria where he finishes in an impressive fourth position in the final race of the season at the hahnenkammrennen in kitzb\\xc3\\xbchel austria he crashes\\r\\nthat summer chappellet joins the team in oregon for offseason training and visits his father at his home in idaho springs but they have little to say to each other chappellet drives into town and picks up an old girlfriend and they make love in the back seat of his fathers old chevrolet afterwards he shows little interest in the girls feelings later when his father asks him why he is wasting his life on skiing chappellet reveals that he is racing as an amateur to become an olympic champion his father observes the worlds full of em6\\r\\nback in france that winter chappellet wins the grand prix de meg\\xc3\\xa8ve in france and soon attracts the attention of machet karl michael vogler a ski manufacturer who wants chappellet to use his skis for the advertising value chappellet is more interested in machets attractive assistant carole stahl camilla sparv after a chance encounter at a bakery he and carole spend some time with each other they meet up again in wengen ski the slopes together and eventually make love\\r\\nat kitzb\\xc3\\xbchel chappellet wins the hahnenkamm but afterwards his cockiness alienates his teammates and his coach who feel he is only out for himself the teams top racer johnny creech jim mcmullan tells assistant coach mayo dabney coleman hes never been for the team and he never will be mayo responds well its not exactly a team sport is it chappellet finishes the season with several impressive victories ensuring his place on next seasons olympic team\\r\\nduring the offseason chappellet and carole continue to see each other at the start of the third season he calls her from meg\\xc3\\xa8ve asking to spend christmas with her after waiting several days alone chappellet realizes that she is not coming he travels to zurich to machets office to find her but learns she is spending christmas with her family the next week chappellet runs into carole in wengen and is annoyed that she never called and that she is with another man after a brief confrontation he realizes their relationship is over\\r\\ntwo weeks before the olympics after a day of training at wengen chappellet challenges creech to a oneonone race and the two take off to the bottom as the coaches looks on in horror on the way down chappellet forces creech into the stone wall of a narrowarched bridge jungfrau railway overpass wasserstation and creech barely escapes injury the next day during the lauberhorn race creech is seriously injured during his run leaving chappellet as the teams best hope for an olympic gold medal\\r\\nat the winter olympics with austrian champion max meier in first place chappellet uncorks one of his best runs beating meiers time and ending up in first place with all the highlyranked racers having already run he is thronged by elated fans and teammates in the finish area however on the course an unheralded german skier in a later seed is turning in very fast split times the fans fall quiet and chappellet takes notice of the german watching nervously as the german approaches the final schuss he crashes and chappellet becomes an olympic gold medal champion the german makes his way to the finish area and chappellet looks into his eyes briefly before being carried off in victory',\n",
            "       b'the film opens in bangkok with an ungainly gangster named dude vinayakan being roped in by his boss to fetch an exotic herb known as neelakoduveli which is believed to bring eternal fortune to its bearer somewhere in kerala shaji pappan jayasurya is the captain of a tugofwar team hailing from the high range in idukki the team are known officially as winners pothumukku all the members are illiterate young men who are slackers by drinking alcohol and outing they manage to win the tournament and along with the cash prize and the trophy they also receive a female goat lolan harikrishnan one of the team members names the goat pinky shaji has a tough past with females which is revealed to be a result of his wife mary srinda arhaan eloping with his unfaithful driver ponnapachan aju varghese he allows the female goat inside his van reluctantly as he doesnt allow females in his van usually after arakkal abu saiju kurup assures he will slaughter it and have it as a barbecue\\r\\nthe decision lands them into a slew of hilarious problems as the team crashes into a tree with a coconut falling on the head of captain cleetus leaving him with cognitive slippage as the team expects arakkal abu to do the slaughter his cowardice is revealed this situational inconvenience makes shaji paappan mad who determines to eliminate or eat the goat at any cost\\r\\nafter a few failed attempts they accidentally run into inspector shameer vijay babu he is also known as sarbath shameer for his habit of ramming the culprits forehead on a lemon placed on a table and drinking its juice as shameer interrogates the team on grounds of drunken driving menaka kanthan sandra thomas an animal welfare activist accuses the group for abusing and presses charges however the team are allowed to go\\r\\nin the meantime dude and his boys arrive in kerala in search of neelakkoduveli which is now in possession of satan xavier sunny wayne a highprofile drug dealer in the high range kanjavu soman makes a deal with dude to retrieve the herb from xavier en route soman was robbed of the chest containing neelakkoduveli by masked assailants wearing caps he reports the mishap to dude shaji paappan and the team runs into the dude henchman they knock out shaji and capture abu along with pinky as hostages because dude believes abu to be the thief as he was wearing his traditional cap similar to somans assailants\\r\\nsomewhere else a veteran left wing leader named pp sasi indrans gets into legal trouble as he foolishly discloses the politically driven murder hits to the public when the police comes to arrest him sasi escapes from them as shaji pappan is worried about abu a ransom video sent to the team by dudes boys betrays the location of their hideout shaji and friends rush to the place and rescues abu and pinky however they run into shameer and in crossways with dude who madly opens fire in the end abu and pinky are captured once again\\r\\nwith a new lead in hand shameer apprehends soman and hakkim the righthand men of pp sasi aassaan to counter his armed adversaries shaji paappan unwillingly decides to seek help from his elder brother thomas paappan renji panicker whom shaji hates as an ironsmith thomas paappan arms the group with rifles to confront dude and his thugs the century old rifles turns out to be useless but they defeat dude and save abu and pinky\\r\\nrefusing to give up dude pulls out his gun and points at shaji thomas arrives and manages to shoot the gun away thomas appears to be a poor marksman and runs away on seeing the police beside the gang sasi who was hiding in an empty water tank is exposed out of his hiding shameer apprehends the dude and sasis groups leaving shaji and friends on their own\\r\\nshameer is being praised by his superior officer on recovering the neelakkoduveli however when the trunk is uncovering there was only cowdung satan xavier ran out of luck due to the transfer of neelakkoduveli resulting in his weed forest being burned down by police shameer gets suspended due to his negligence which then results in getting himself beaten up by the vengeful public\\r\\nwithout being able to retrieve the herb dude decides to finish off soman in a flashback facts oblivious to everybody else in the film universe is shown soman didnt have the intention to hand over the neelakkoduveli to dude and switched the herb chest with a decoy trunk filled with dung as he was getting away with the valuable chest he runs into an elephant pit accidentally throwing the chest outside when soman came back to his senses he discovers that pinky had eaten away the neelakkoduveli from the popped open chest the power of the exotic herb might have rendered pinky auspicious which might be the reason why the ewe lamb didnt get harmed\\r\\npappan finally manages to sell off pinky to a butcher on the sight of his friends evoked grievances while the goat was being dragged away he feels a stroke of sympathy as he calls the goat he meets a girl with the same name swathi reddy his friends are delighted to see pinky safe and the filmmovie leaves us clueless about the sequel',\n",
            "       b'the film tells the story of sonia zellweger a young brooklyn woman who has just given birth to her first child she is married through an arranged marriage to mendel glenn fitzgerald a devout hasidic jew who is too immersed in his studies to give his wife the attention she craves as a result sonia develops a relationship with mendels brother the jeweler sender eccleston who brings her into the business sender is the only release for sonias repressed sexuality and he takes full advantage of that fact as often as he can but she is repelled by his utter lack of morals as she finds balance between what she feels and what she has been taught is sinful the jewellery business brings her into close contact with the young puerto rican artist and jewellery designer ramon payne but when sender finds out about their connection he reveals it to the family and sonia is divorced and ostracized the film ends on a more tolerancefriendly note with sonia balancing desire and every day life and mendel accepting her differences with a blessing and the promise to restore custody of their son',\n",
            "       b'in africa pilot mike patton is persuaded by an acquaintance bob simpson to conduct a search for a missing heiress whose plane supposedly went down in the jungle resulting in her never being seen again\\r\\nencountering an indigenous tribe of natives bob recklessly shoots a man he is taken before a woman greta who is being treated like a high priestess bob is sentenced to die but when she gets mike off to herself greta pleads with him to help her escape\\r\\nduring a struggle a gun goes off and a guard is left dead with the tribesmen in pursuit mike and greta are betrayed by bob who has gone mad but after he is killed by a spear mike and greta make it to the plane and safely get away',\n",
            "       b'a popular performer jeannie laird decides to buy her first house and celebrate with a big party the guests enjoyment is interfered with by the happenings at the home of the next door neighbor bill carter\\r\\ncarter is a comicstrip artist he prides himself on every story he tells being true to life including that of 10yearold son joey whom he is raising alone but when a relationship blossoms between bill and jeannie after a shaky start a neglected joey ends up blabbing to bills bosses that the comic strips adventures have become far more fiction than fact',\n",
            "       b'on the northwest frontier of india circa 1880 contact has been lost with a british outpost at tantrapur in the midst of a telegraph message colonel weed montagu love dispatches a detachment of 25 british indian army troops to investigate led by three sergeants of the royal engineers macchesney victor mclaglen cutter cary grant and ballantine douglas fairbanks jr longtime friends and veteran campaigners although they are a disciplinary headache for their colonel they are the right men to send on a dangerous mission accompanying the detail are six indian camp workers including regimental bhisti water carrier gunga din jaffe who longs to throw off his lowly status and become a soldier of the queen\\r\\nthey find tantrapur apparently deserted and set about repairing the telegraph however they are soon surrounded by hostile natives the troops fight their way out colonel weed and major mitchell lumsden hare identify an enemy weapon brought back as belonging to the thuggee a hostile indigenous group that had been suppressed for many years\\r\\nballantine is due to leave the army in a few days to wed emmy stebbins joan fontaine and go into the tea business a combined calamity that macchesney and cutter consider worse than death meanwhile gunga din tells cutter of a temple he has found one made of gold cutter is determined to make his fortune but macchesney will have none of it and has cutter put in the stockade to prevent his desertion that night cutter escapes with dins help and goes to the temple which is all that din had claimed unfortunately they discover that it belongs to the thugs when the owners return cutter creates a distraction and allows himself to be captured so that din can slip away and sound the warning\\r\\nwhen din gives macchesney the news he decides to go to the rescue ballantine wants to go too but macchesney points out that he cannot as he is now a civilian ballantine reluctantly agrees to reenlist on the understanding that the enlistment paper will be torn up after the rescue emmy tries to dissuade him from going but he refuses to desert his friends\\r\\ndue to miscommunication between din and macchesney the trio foolishly enters the temple by themselves and are easily captured they manage to free themselves and take the guru of the cultists eduardo ciannelli hostage on the roof of the temple a standoff ensues\\r\\nwhen the regiment comes to the rescue the guru boasts that they are marching into the trap he has set with the three sergeants as bait he orders his men to take their positions but when he sees that they are unwilling to leave him in enemy hands he leaps to his death in a pit full of cobras to remove that obstacle thugs then climb the temple and overwhelm the soldiers and shoot and bayonet cutter gunga din is also bayoneted but manages with the last of his strength to climb to the top of the gold dome of the temple and sound the alarm with a bugle taken from a dead thug he is then shot dead but the british force is alerted and defeats the thuggee forces at dins funeral pyre the colonel formally inducts gunga din as a british corporal and reads the last lines of the kipling poem over the body some edited versions of the film omit the four italicised lines which presumably offended the american hays code of censorship\\r\\nthe film ends with a final image of gunga dins spirit standing proudly and saluting at attention in british uniform',\n",
            "       b'mariappan napoleon is the faithful servant of rajeshwari sheela whereas rajeshwari spreads terror among the villagers mariappans son veeranna napoleon a military officer is back to his village and he tires to be more quiet than before his cousin vennila loves him\\r\\none day children drunk the rivers water and they fell ill because of a ladder factory which threw wastewater in the river as a responsible citizen veeranna files complaint against the owner of the company rajeshwari in addition to this veeranna saves rajeshwaris daughter aishwarya preethi varma who was naked from drowning rajeshwari orders him to leave the village on the spot but he refuses and he gets married with aishwarya what transpires later forms the crux of the story',\n",
            "       b'neelakanta prakash raj is a revered person in the village he resides whose daughters subbalakshmi poonam bajwa and meenakshi sheela kaur are more than anything for him in the world subbalakshmi loves a native called errababu with whom she elopes on the night of her arranged marriage ceremony neelakantas relative chinnabbai subbaraju suspects that errababus friends are involved in this and when interrogated brutally they reveal that two more people sarma from ongole and krishna allu arjun from hyderabad also helped the couple to elope by mistaken reference of initials in the names p yagnanarayana sarma saptagiri was kidnapped at ongole while the original man was left unevoked at hyderabad a drunk krishna is kidnapped at night near his house who is notoriously known for being a nomad and an expert in escaping they are literally imprisoned at the villages temple and all of them plan to escape the next early morning by catching a train while all others almost approach the train next morning krishna stops when he sees meenakshi at an anjaneya statue and falls in love with her though meenakshi is unaware of his presence they all are kidnapped yet again by neelakantas men there and are imprisoned in a small pent house near the main house of neelakanta its doors remain closed an locked and only 3 windows are there where a man can see the entrance door of main house and the nearby flooring and parking area while his friends are horrified krishna is not influenced by the fact that he is in love with a native of the village and on eloping with her all of them have to face big trouble from the villagers meanwhile meenakshi tries to speak with them with an intention to find out details about subbalakshmi and neither krishna nor his friends can see her face because of the pent houses style of construction\\r\\nhe asks her to help him find his love and in return promises her to tell details about subbalakshmis whereabouts added advantage to krishna is a set of love letters received by subbalakshmi from errababu which are presently in his custody and meenakshi is hell bent to recover them back meanwhile krishnas friend srinu chitram srinu is caught red handed who after execution of brutal force by neelakantas men reveals that the couple is in vishakhapatnam at vishakhapatnam krishna manages to send the couple guntur without the knowledge of neelakantas henchmen and later at the pent house he reveals that he is the mastermind behind the act of subbalakshmi eloping with errababu which is heard by meenakshi who hid there and escapes through the back door because of her the truth is revealed and krishna too finds out that his love is none other than meenakshi when krishna and his friends are brutally tortured he lies that the couple are in hyderabad to save his friends neelakanta bullabbai chinnabbai and others along with meenakshi go to hyderabad along with krishna and his friends but krishna is unaware of the fact that errababu and subbalakshmi are actually in hyderabad all of them start searching for the couple and meanwhile krishna earns the trust of neelakanta his henchmen and meenakshi by saving her from a bunch of goons who try to molest her and she slowly starts reciprocating his love though never confesses it krishna too realizes the pain faced by neelakanta because of subbalakshmis wrongdoings the next day neelakanta and krishna manage to catch subbalakshmi and errababu red handed and there subbalakshmi revolts against her doting father and threatens to file a police case on him he leaves in dejection and krishna watches on at the railway station everyone parts ways with neelakanta apologizing to krishna and his friends and invites them to meenakshis marriage meenakshi stares at krishna waiting to confess her love though krishna stands like a statue there till the train leaves\\r\\nseeing his son leading a lazy dull and unexcited life against the way he lived makes krishnas mother yashoda jayasudha send him away to bring meenakshi as his wife with srinu and sarma pressurizing him krishna goes along with his friends to attend the marriage while neelakanta is afraid that meenakshi would elope with krishna this night krishna confronts neelakanta and confesses his love for meenakshi and assures that he would not elope with her realizing that meenakshis happiness lies in the company of krishna he lets the lovers unite that night after halting the ongoing ceremony and also plans to bring subbalakshmi and errababu back to the village thus accepting them too',\n",
            "       b'iris king a widow still grieving 6 months after the loss of her husband works in a baking factory in connecticut and lives in a highcrime area she lives from paycheck to paycheck as she raises her two children kelly and richard also staying with her are her sister sharon and sharons abusive husband joe both unemployed with money already tight for the family kelly discovers she is pregnant which makes matters worse\\r\\niris makes the acquaintance of stanley cox a cook in the bakerys lunchroom cafeteria when he comes to her aid after her purse is snatched on a bus but as their friendship develops she begins noticing peculiarities about stanley  he doesnt own a car he instead bicycles wherever he needs to go he lives with and supports his elderly father becomes frustrated when asked to sign his name doesnt believe in opening chinese fortune cookies and cannot pick out a specific item from a shelf iris soon realizes that stanley is illiterate and when she innocently mentions this to stanleys boss stanley is fired the next day over food safety and legal concerns despite being a good cook and model employee afterwards stanley is unable to obtain any steady work forcing him to move into a garage and put his father in a shabby retirement home his father dies in the home only a few weeks later upsetting stanley over the fact that his illiteracy prevented him from caring for his father properly stanley seeks iris out and asks her to teach him to read explaining that his travelingsalesman father moved him all over the country when stanley was a boy bouncing him to nearly 50 different schools in total resulting in stanley developing no reading or writing skills from this lack of educational stability iris begins giving stanley basic reading lessons and he gradually grows close to her and her family it is during one of these reading exercises that he tells her that he has wanted to be intimate with her since they first met but iris is hesitant\\r\\niris tests stanleys developing reading skills by making him a map and having him meet her at a certain street corner in 15 minutes but stanley gets hopelessly lost hours later he reaches the corner where a frantic iris is still waiting frustrated stanley marches off alone without saying a word his interest in learning to read gone iris visits him at his garage home to try to persuade him to continue learning to read looking around she sees a large mechanical project that stanley is working on as he invents things as a hobby he has designed a cakecooling machine that can outperform anything in the commercial marketplace iris is immensely impressed and stanley reveals that a local company has shown interest in his invention and even offered him a job stanley agrees to start reading again with iris and in time learns to write short sentences stanley surprises iris by cooking a big dinner for her and her family and the two of them begin to grow close again\\r\\nafter kelly has her baby iris is displeased when she drops out of school to work at the bakery as she doesnt want her daughter wasting her life in the kind of deadend job she herself is in stanley and iris finally decide to make love but iris is still clinging to her late husbands memory this threatens their budding relationship further and they dont see each other for some time not prepared to give up on iris the way she didnt give up on him stanley finally goes to see her iris hands him an unmailed letter she wrote to him and stanley surprises her by reading it aloud nearly perfectly iris now ready to start letting go of the past accompanies stanley to a fancy hotel where they order room service and spend the night together\\r\\nstanley soon moves to detroit for a new wellpaying job he has been offered his inventing ability finally having paid off several months later back in connecticut iris is walking home carrying groceries when an expensive car pulls up next to her and she is surprised to find stanley behind the wheel stanley tells her that hes been given a raise and is looking to buy a large sixbedroom house in detroit  and that he wants her to move there with him as his wife iris accepts',\n",
            "       b'the film opens with a brief summary of 1961s thencurrent conditions in east germany and nature of the border zone featuring stock footage such as conrad schumanns jump over barbed wire in berlin as the berlin wall is being built\\r\\nin april 1978 in the small town of p\\xc3\\xb6\\xc3\\x9fneck thuringia a teenager lukas keller attempts to escape east germany by riding a bulldozer through the inner german border zone however he is shot by automatic machine guns and is left for dead by the guards his family is informed while having a picnic with their friends the strelzyks and the wetzels and the entire keller family are taken away by the police finally fed up with his life under the gdr regime peter strelzyk proposes a daring plan to his friend g\\xc3\\xbcnter wetzel they will build a balloon to carry themselves and their families eight people total over the border to west germany they purchase 1250 square yards of taffeta claiming it is for a camping club g\\xc3\\xbcnter sews the fabric together with a sewing machine in his attic and peter experiments for months to construct a hot air balloon burner of course they face setbacks fires while trying to inflate the balloon struggles to build a burner with sufficient power extremely suspicious neighbors and doubts about the plans workability from g\\xc3\\xbcnters wife petra\\r\\neventually peter and g\\xc3\\xbcnter then stop seeing each other to avoid suspicion for when the strelzyks escape peter and his eldest son frank complete the burner and after extensive testing manage to inflate the balloon on july 3 1979 the four members of the strelzyk family attempt to fly out they successfully take off though they are spotted by the border guard who do not know what to make of it however a cloud dampens the balloon and the burner and they crash within the border zone only a few hundred feet from the fences and the balloon floats away miraculously they escape the zone return to their car and drive home meanwhile the border guard finds the balloon and the stasi led by major koerner played by g\\xc3\\xbcnter meisner begins an investigation to find whoever built it so they can prevent them from trying again initially distraught over his failure peter is convinced by his sons to try again as they did fly and no one was hurt and now the stasi will stop at nothing to find them peter convinces g\\xc3\\xbcnter to help him and both families begin work on a larger balloon to carry them all out petra agrees to go with the plan especially since her mother in west berlin is very sick\\r\\nhaving identified the initial launch area the stasi begins closing in on p\\xc3\\xb6\\xc3\\x9fneck the strelzyks and wetzels purchase smaller quantities of taffeta from various stores to avoid suspicion but they are running out of time in one scene peter tries to buy taffeta claiming it is for his group of young pioneers the manager leaves him to notify the stasi prompting peter to leave the store they eventually finish the balloon but have no time to test it on september 15 1979 the families prepare to move out while the stasi finds blood pressure medicine belonging to peters wife doris at the place where the first balloon initially landed they contact the pharmacy and run through all the people whom the medicine is prescribed to eventually coming to doris their neighbor a member of the stasi identifies them as acting suspiciously the families leave only minutes before the stasi arrives at their homes they reach their launch point while the border is placed on emergency alert\\r\\nthe balloon is inflated and the burner is lit both families climb into the balloons basket and cut their ropes a fire is started in the cloth but it is quickly put out by g\\xc3\\xbcnter and they later see a hole in the balloon and hope it will hold as they fly over the balloon is spotted and koerner pursues them in a helicopter eventually the burner runs out of propane and they descend the border guard is mobilized to find them the balloon lands in a clearing with all eight people unharmed peter and g\\xc3\\xbcnter scout to find out where they are they are found by a police car peter asks if they are in the west puzzled the police officer says of course you are overjoyed peter and g\\xc3\\xbcnter light their signal flare the families all then happily embrace each other over the amazing success of their journey',\n",
            "       b'undercover agent tim kansas mason is sent from the east deep into the midwest to investigate the murder of a newspaperman kansa arrives in the middle of a bar fight when the sheriff corley and his deputies defend themselves against local cowboy swanee and his valet meadows kansas manages to take the wrong side in the brawl the commotion stops when swanees boss john thornton and mark dawson from the cattlemens protective association arrive on the scene\\r\\nkansas is hired by thornton as a cowboy and he returns with the rest of the cowboys to the ranch thorntons teenage daughter barbara instantly falls in love with kansas he soon learns that this ranch and other ones that have refused to become members of the cattlemens association have been victims of vandalism kansas is therefore suspicious and decides to search dawsons office for clues he finds proof that dawson has been taking money from the association for various unknown purposes\\r\\nunfortunately dawson walks in on kansas when he is in the office but he manages to escape and brings the proof with him dawson reports the breakin to the police and make them arrest kansas the other cowboys at the ranch rescues him from the town jail and they know that he is a federal marshal undercover\\r\\nkansas deduces that dawson and his men pan to rob the cattlemens money 20000 in total with the help of the other cowboys kansas manages to take the box with all the money before dawson gets it\\r\\njailed for robbery kansas is rescued by bolo meadows and swanee who know that he is a federal marshal dawson tries to frame kansas claiming that he has robbed the cattlemen of its money again he tries to get kansas arrested but the other cowboys all testify on kansas behalf\\r\\nhaving retrieved the money dawson plans to leave town but the sheriff has got hold of the proof of dawsons illegal activities and plans kansas and the three cowboys ride into town to confront dawson and stop him and meet him at the saloon when kansas horse runs amok into the saloon scared by gunfire the rest of the cowboys manage to overpower and apprehend dawson and hs men after dawsons men are put behind bars kansas remains in town and marries barbara settling down as a fulltime cowboy1',\n",
            "       b'set during the end of chinas cultural revolution in a small village in yichang city hubei province china this film is about a pure love that develops between a beautiful high school student zhang jing qiu and a handsome young prospector named lao san jing qiu is one of the educated youth sent to be reeducated through work in the countryside under a directive from chairman mao zedong\\r\\nshe arrives with a group in xiping village in the yangtze rivers three gorges region where they are shown a hawthorn tree called the tree of heroes which was reputedly nourished by the blood of chinese martyrs executed by the japanese during world war ii jing qiu is lodged with the family of village head where she meets geology student sun jianxin nicknamed lao san who also takes his meals at zhangs home and shes drawn to his responsible and honorable character2\\r\\nlao sans father held a high position in the military but his mother committed suicide four years ago after being branded as a rightist jings father was also a political prisoner somewhere in china and her mother branded as a capitalist was reduced to menial work to support their family following the political persecution of her father jing qiu lived with her mother and little siblings working towards becoming a teacher to support her family3\\r\\ndespite the fact that this could endanger the future of jing qiu and her family jing qiu and lao san fell in love and their relationship continues the following year lao san also promised to wait for her until she grew up jing qiu was torn between her feelings for lao san and her filial duty to her family4\\r\\nhowever lao san later developed leukemia and forced himself to leave jing qiu jing without knowing about lao sans deadly disease was only reunited with him when he was dying in hospital the film closed with jing qiu tearfully calling the unconscious lao san repeatedly saying i am jing qiu i am jing qiu 5',\n",
            "       b'a psychoanalyst and his young family and some friends are taken hostage by a gang led by an escaped killer al walker the doctor gets the killer to talk to him in an attempt to find out the killers unconscious motivation for his evil ways\\r\\nwalker relates a dramatic dream hes been having since childhood eventually his crimes are traced back to his childhood and lack of parental guidance and by the end of the night the doctor has calmed the killers murderous rage and prevented any further killings',\n",
            "       b'in colombia an american engineer named harry burck is overseeing the opening of his companys water pipeline in the middle of the unveiling ceremony a group of rebels arrives to kidnap an american diplomat who is in attendance in the process harry is also kidnapped\\r\\nword of the kidnapping reaches harrys brother corey and his friends bob spence and kurt who were all awaiting harrys return the men coworkers at a factory learn that harrys kidnapping was orchestrated by a drug lord named carlos ochobar corey and bob travel to washington dc to seek assistance from the us government only to be told that there are no plans to mount a rescue harrys father harry burck sr is despondent over the kidnapping of his son\\r\\nkurt reminds his friends that they all personally owe harry something and that their only choice is to rescue him themselves despite some resistance and skepticism from kurt and spence all the men eventually agree to go before heading to colombia they enlist the financial help of a sympathetic local car salesman jack who insists on going along as a condition of funding the rescue and the military expertise of a mercenary named norman shrike due to the urgency of the mission shrike is only able to give the group perfunctory training in military tactics\\r\\nonce in colombia the group encounters resistance both from local officials and from the us government the group eventually lands in jail after being set up by one of shrikes contacts who was going to supply them with weapons they are handed over to us officials and put on a plane back to the us just prior to takeoff the group manages to escape but kurt decides to give up and go home\\r\\nthe group resumes their trek toward ochobars camp eventually they are engaged by rebels shrike is killed in a firefight while saving one of the mens lives the group ventures on with the help of a local woman veronica and they eventually find ochobars hideout in the ensuing shootout with ochobars men jack is killed the group is able to save harry and escape destroying ochobars camp in the process\\r\\nharry and the men return home to a heros welcome',\n",
            "       b'on the morning of the epsom derby a disparate group of people prepare to go to the races lady helen forbes a recently widowed aristocrat is planning to make the journey in spite of the disapproval of her social set who consider it unseemly to go while still in mourning david scott a newspaper cartoonist is ordered to go by his editor against his wishes meanwhile as part of a charity raffle a dissolute film star gerald berkeley is to escort a wealthy grand dame to epsom for the day something he is equally reluctant about happily she falls and injures her leg and her crafty housekeeper arranges for one of the young maids to go in her place meanwhile in hackney a lodger kills a man whose wife he is having an affair with they plan to flee the country and also head to epsom where he knows a tipster who can smuggle them out',\n",
            "       b'meena mala sinha and kamla nirupa roy are two daughters of a wealthy nainital resident while kamla lives with her established attorney husband ashok ashok kumar in mumbai meena is in love with artistsinger rajendra sunil dutt when kamla comes to nainital for her delivery she comes to know of meenas affair and plans to get her married to rajendra ashok however is totally unaware of this fact\\r\\nbefore kamla can do this she dies after falling off a cliff near her fathers home afraid that her sisters children will be illtreated by a stepmother meena is compelled to marry ashok ashok does not know about her love affair with rajendra for a while things go well until she meets rajendra again he follows her to mumbai and they begin meeting secretly\\r\\none day meena is caught by leela shashikala a woman who claims to be rajendras wife and who begins blackmailing her meenas life comes to a crisis and she is forced to make a choice between rajendra and ashok\\r\\nthe movie examines the conflict of a married woman who is caught between her feelings for her lover and her duty to her husband and family a bold theme for the times 1963 the same conflict is examined again in the 2005 akshay kumarstarrer bewafaa',\n",
            "       b'parsifal katzenellenbogen tony curtis is an eccentric hypochondriac who has invented a laser skywriter parsifal invites businessmen to his castle in the hopes of selling his invention potential buyers include gangster henry board ii erik estrada accompanied by hasbeen movie star montague chippendale peter lawford scotsman mackintosh donald pleasence and gypsy klingsor orson welles',\n",
            "       b'simon sinestrari andrew prine a cynical ceremonial magician is on a quest to become a god simon is living in a storm sewer selling his charms and potions for money when he is befriended by a young male prostitute named turk george paulsin turk introduces simon to his world of drugs wild parties and bizarre satanic rituals featuring a goat and andy warhol star ultra violet death freakouts and mayhem ensue along with romance for simon with the district attorneys vague daughter brenda scott',\n",
            "       b'the film follows the rise and fall of a family in shanghai once wealthy and capitalist the family unraveled during the cultural revolution in the 1960s and 1970s their home once a french concession mansion was converted into a multifamily dwelling years later the matriarch of the family announces that she is dying when her four grown children return it becomes the first time the family has been under one roof in decades',\n",
            "       b'ben robert de niro a veteran hollywood producer is suffering a number of professional and personal problems his latest film fiercely has a disastrous test screening mostly because of its ending which features the murder of its main character played by sean penn who plays himself elsewhere in the film along with his pet dog\\r\\nben and his maverick british director jeremy brunell michael wincott plead their case to studio executive lou tarnow catherine keener she accuses ben of filming the dogs killing only so he could use it as a bargaining chip  to make it easier to negotiate against cutting other problematic scenes lou threatens to pull bens movie from cannes and take over editing unless at least the dogs death is removed jeremy adamantly refuses throwing a tantrum\\r\\nadding to bens problems he is having trouble making a clean break from kelly his second wife ben later discovers his wife is having an affair with scott solomon a married screenwriter who ben has previously worked with scott has a screenplay that hes trying to get off the ground to which brad pitt later becomes attached\\r\\nlastly the studio is threatening to cancel a planned bruce willis movie because of the stars unwillingness to shave the large thick beard that he has grown bens career hinges on the fate of the film but any attempt to reason with willis inevitably meets a violent foulmouthed response\\r\\nultimately jeremy relents and reedits the ending of fiercely to have the dog survive ben tries to get williss agent dick bell to reason with him and get the beard removed but his efforts only get ben fired nonetheless willis does eventually shave his beard off and the film goes ahead\\r\\na week later ben lou and jeremy attend cannes hopeful that they might take a palme dor award unfortunately and without telling ben or lou jeremy has reedited fiercely again not only killing the dog but adding nearly a full minute of bullets being shot into their bodies while the new ending destroys the films chances of a palme dor and angers many in the audience others eagerly applaud the final version of the film including sean penn playing himself lou is not impressed and immediately flies out of cannes on the studios private jet leaving ben stranded in france\\r\\nben eventually does make it back home in time for a photoshoot of hollywoods top thirty producers with vanity fair although after the magazines publishers hear about the debacle in cannes ben is relegated to the far edge of the photo meaning he will be barely noticeable',\n",
            "       b'with his pregnant wife at deaths door after a car crash desperate husband john barrett winstone invades the home of mark driscoll dutton and holds both driscoll and his rich neglected wife sally fenn hostage in order to understand the events that led to his wife ending up in a coma',\n",
            "       b'in the near future violence has become something of a national sport and television news has fallen to tabloid depths patrick hale a globetrotting reporter with access to a staggering array of world leaders has ventured to the arab country of hegreb to interview his old acquaintance king ibn awad\\r\\nawad has learned that the president of the united states may have issued orders for his removal as a result awad is apparently making arrangements to deliver two suitcase nukes to a terrorist with the intention of detonating them in israel and the united states unless the president resigns\\r\\nin the intricate plot that unfolds nothing is quite the way it seems and hale finds himself caught between political leaders revolutionaries cia agents and other figures trying to get to the bottom of it all',\n",
            "       b'when the master thief the tornado steals expensive artifacts from around the world france assembles a dream team of amateur detectives to solve the case inspector clouseau is reassigned from his task as a parking officer by chief inspector dreyfus to join the dream team in japan site of the tornados recent heist at the airport as soon as he steps over the border and leaves france news breaks that the pink panther diamond has been stolen prompting clouseau who had up to that point been wary of leaving to say i told you\\r\\nclouseau travels back to the scene of the crime and joins the other members of the dream team inspector pepperidge from great britain vincenzo from italy kenji an electronics specialist from japan and sonia a researcher and criminology expert from india they go to rome to investigate a black market fence alonso avellaneda who deals with the tornado assuming he is the tornado the dream team question him while clouseau snoops around avellaneda vindicates himself by demonstrating that he lacks a bulletwound to the right shoulder that the tornado suffered over a decade ago after they leave he meets with the real tornado\\r\\nthat night clouseau and his partner ponton spy on avellaneda using a wire they planted on him as he takes a date out for dinner the mission is compromised when they find vincenzo and clouseaus girlfriend nicole together at the restaurant having been banned for burning down the restaurant three months earlier clouseau disguises himself as a dancer and switches the wire to nicoles table in the process he ends up burning down the restaurant again at the same time the tornado steals the popes ring an act which turns public opinion against the dream team\\r\\nwhen clouseaus acts of foolishness aggravate the situation he is voted off the team only sonia sympathizes with him shortly afterward clouseau is called to an office where they see the tornado has killed himself and left a suicide note that claims he destroyed the pink panther  regarding it as being so beautiful that he could not bring anyone other than himself to own it  and left the other treasures to be recovered examining a key they found in the popes chambers they match the dna of the victim with dna of the tornado acquired when he was shot and thus believe themselves to have solved the case however clouseau is unconvinced and believes the tornado was not the thief\\r\\nfor their victory a celebration is thrown in the dream teams honor clouseau who was not invited discovers something in a license plate of sonias car and calls ponton he tries to tell dreyfus the real thief is still at large but is ignored dreyfus relays to the group that clouseau told him sonia was the thief and the group treating the idea as a joke work out a plausible explanation for how she could have done it as the tornados exlover she would have indepth knowledge of his methods and has set up a situation to draw all attention to the thefts of the other artifacts while leaving her free to sell the pink panther as sonia leaves nicole beginning to realize that what clouseau and the group said could be true asks her to take everything out of her purse sonia pulls out a gun and after initially threatening to shoot nicole she shoots clouseau but the bullet hits the medal of honor a chase ensues with clouseau and the dream team attempting to catch sonia while all the members of the team but clouseau make fools of themselves through various accidents caused by clouseaus clumsiness\\r\\nfinally cornered sonia threatens to destroy the pink panther and clouseau goads her to do so sonia attempts to escape but is knocked out by ponton and arrested by the police clouseau reveals that sonia had destroyed a fake gem clouseau had in fact kept the real pink panther in his possession having switched them at the museum before he was about to leave france the tornado an expert on gems would have recognized the pink panther to be a fake therefore his suicide note was forged and he was murdered he reveals that he had given sonias car a ticket two days before the pink panther was stolen contradicting her alibi of having been delayed to the crime scene because of her flight which revealed to him that sonia was the culprit dreyfus tries to claim credit for having appointed clouseau to his parking job but clouseau remembering dreyfus told him to deny this to anyone who asked rebukes the claim',\n",
            "       b'siddhu sudheer a naughty easy going guy falls in love with indu asmita sood but indu is the sister of cherry ranadheer who keeps on protecting his sister from others eyes but on the other hand cherry he loves anjali poonam kaur the sisterinlaw of a dangerous man bujji aka shankar ajay how things move among these people how siddhu plays with shankar forms the main story',\n",
            "       b'in county durham the 198485 coal miners strike is just beginning the stars look down motherless elevenyearold billy is required to stay behind after his boxing class and finds his way into a ballet class run by mrs wilkinson he is the only boy but becomes attracted to the grace of the dance shine the secret is at first easily kept as the only person home at the time is his grandmother she reveals her abusive relationship with her dead husband and that she too loved to dance which made everything all right grandmas song\\r\\nwhile billys father jackie brother tony and neighbours are on strike and clash with riot police he continues to take dance lessons keeping it a secret from his family solidarity a number which intersperses the violent reality of the strike with the peaceful practice of ballet\\r\\neventually jackie discovers billy in the ballet class and forbids him from attending the lessons mrs wilkinson who recognizes billys talent privately suggests that he should audition for the royal ballet school in london to prepare for the audition she offers free private lessons billy is not sure what he wants to do so he visits his best friend michael for advice he finds michael wearing a dress he persuades billy to have fun with him by dressing up in womens clothing and disdaining the restrictive inhibitions of their working class community expressing yourself\\r\\nbilly arrives for his first private ballet lesson bringing with him things to inspire a special dance for the audition dear billy mums letter he begins learning from and bonding with mrs wilkinson while he develops an impressive routine for his audition born to boogie mrs wilkinsons daughter debbie tries to discourage billy because she has a crush on him meanwhile jackie and tony are engaged in daily battles with riot police that often turn bloody they struggle to support the family with very little strike and union pay a difficult task that goes on for nearly a year\\r\\nwhen the day of the royal ballet school audition arrives police are coming through the village and tony has been injured by the police because billy had not come to the miners hall to get picked up by mrs wilkinson for the audition she goes to the elliot home billys family and some members of the community have gathered there she is forced to reveal that she has been teaching billy ballet in preparation for this very day this news upsets jackie and tony who gets in an argument with mrs wilkinson tony tries to force billy to dance on the table in front of everyone the police approach and as everyone escapes billy calls out to his father saying that his mother would have let him dance but jackie refuses to accept that saying that your mams dead billy goes into a rage angry dance and for nearly a year stays away from anything related to ballet\\r\\nsix months later at the miners annual christmas show the children put on a show disparaging prime minister margaret thatcher who is seen as the antagonist by the coal miners merry christmas maggie thatcher jackie gets drunk and sings an old folk song that elicits memories of his deceased wife and the usually stoic man leaves in tears deep into the ground left alone with billy in the community centre michael reveals he has feelings for him but billy explains that the fact that he likes ballet does not mean that he is gay michael gives him a kiss on the cheek michael tries to get billy to show him some dancing but billy is sad and just tells him to leave\\r\\nmichael departs but leaves a music player running billy feels like dancing for the first time since the day of the aborted audition and dances while dreaming of being a grownup dancer dream ballet unknown to billy his father arrives and watches him dance overcome with emotion his father goes to mrs wilkinsons house to discuss billys prospects as a dancer she confirms billys talent but is not sure whether or not he would get into the royal ballet school mrs wilkinson offers to help pay for the trip to london for the audition but jackie refuses he leaves questioning his workingclass pride and the future of mining for his boys\\r\\njackie decides the only way to help billy is to return to work when tony sees his father cross the picket line he becomes infuriated and the two argue over what is more important unity of the miners or helping billy achieve his dream he could be a star the argument eventually comes to blows and billy is accidentally hit one of the miners chastises them for fighting and says that the important thing is looking after the child one by one the miners give money to help pay for the trip to the audition but billy still does not have enough for the bus fare to london a strikebreaker arrives and offers him hundreds of pounds an enraged tony attempts to shun his donation but no one else speaks up in his support now drained of hope tony dismally ponders whether theres a point for anything any more and runs off\\r\\nbilly and his father arrive at the royal ballet school for the audition while jackie waits outside an uppercrust londoner highlights the contrast between the elliots and the families of the other applicants jackie meets a dancer with a thick scottish accent the dancer confesses that his father does not support his ballet career he sharply advises jackie to get behind his boy billy nervously finishes the audition with a sinking feeling that he did not do well as he packs his gear he lets that emotion overwhelm him and he punches another dancer who was trying to comfort him the audition committee reminds billy of the strict standards of the school they have received an enthusiastic letter from mrs wilkinson explaining billys background and situation and they ask him to describe what it feels like when he dances billy responds with a heartfelt declaration of his passion electricity\\r\\nback in durham the elliots resume life but times are tough and the miners are running a soup kitchen to ensure everyone is fed eventually billy receives a letter from the school and overwhelmed and fearful knowing that it heralds the end of the life he has known informs his family that he wasnt accepted tony retrieves the letter from the waste bin and discovers that his brother was accepted at the same time the miners union has caved in they lost the strike billy visits mrs wilkinson at the dance class to thank her for everything she did to help him debbie is sad that billy will be leaving\\r\\nbilly packs his things for the trip to the school and says goodbye to the soon to be unemployed miners who are unhappily returning to work once we were kings billy says goodbye to his dead mother who often visits him in his imagination dear billy billys reply michael arrives to say goodbye and billy gives him a kiss on the cheek billy takes his suitcase and walks out to his future alone\\r\\nthe entire cast comes out on stage and calls billy back to celebrate the bright future ahead of him finale'],\n",
            "      dtype=object)>, 'Ethnicity': <tf.Tensor: shape=(32, 24), dtype=uint8, numpy=\n",
            "array([[1, 0, 0, 0, 0, 0, 0, 0, 0, 0, 0, 0, 0, 0, 0, 0, 0, 0, 0, 0, 0, 0,\n",
            "        0, 0],\n",
            "       [0, 0, 0, 0, 0, 0, 1, 0, 0, 0, 0, 0, 0, 0, 0, 0, 0, 0, 0, 0, 0, 0,\n",
            "        0, 0],\n",
            "       [1, 0, 0, 0, 0, 0, 0, 0, 0, 0, 0, 0, 0, 0, 0, 0, 0, 0, 0, 0, 0, 0,\n",
            "        0, 0],\n",
            "       [1, 0, 0, 0, 0, 0, 0, 0, 0, 0, 0, 0, 0, 0, 0, 0, 0, 0, 0, 0, 0, 0,\n",
            "        0, 0],\n",
            "       [0, 0, 0, 0, 0, 0, 0, 0, 0, 0, 0, 1, 0, 0, 0, 0, 0, 0, 0, 0, 0, 0,\n",
            "        0, 0],\n",
            "       [0, 0, 0, 0, 0, 0, 0, 0, 0, 0, 0, 0, 0, 0, 0, 0, 0, 0, 0, 0, 0, 0,\n",
            "        1, 0],\n",
            "       [1, 0, 0, 0, 0, 0, 0, 0, 0, 0, 0, 0, 0, 0, 0, 0, 0, 0, 0, 0, 0, 0,\n",
            "        0, 0],\n",
            "       [1, 0, 0, 0, 0, 0, 0, 0, 0, 0, 0, 0, 0, 0, 0, 0, 0, 0, 0, 0, 0, 0,\n",
            "        0, 0],\n",
            "       [0, 0, 0, 0, 0, 0, 0, 0, 0, 0, 0, 0, 0, 0, 1, 0, 0, 0, 0, 0, 0, 0,\n",
            "        0, 0],\n",
            "       [1, 0, 0, 0, 0, 0, 0, 0, 0, 0, 0, 0, 0, 0, 0, 0, 0, 0, 0, 0, 0, 0,\n",
            "        0, 0],\n",
            "       [1, 0, 0, 0, 0, 0, 0, 0, 0, 0, 0, 0, 0, 0, 0, 0, 0, 0, 0, 0, 0, 0,\n",
            "        0, 0],\n",
            "       [1, 0, 0, 0, 0, 0, 0, 0, 0, 0, 0, 0, 0, 0, 0, 0, 0, 0, 0, 0, 0, 0,\n",
            "        0, 0],\n",
            "       [1, 0, 0, 0, 0, 0, 0, 0, 0, 0, 0, 0, 0, 0, 0, 0, 0, 0, 0, 0, 0, 0,\n",
            "        0, 0],\n",
            "       [0, 0, 0, 0, 0, 0, 0, 0, 0, 0, 0, 0, 0, 0, 0, 0, 0, 0, 0, 0, 0, 1,\n",
            "        0, 0],\n",
            "       [0, 0, 0, 0, 0, 0, 0, 0, 0, 0, 0, 0, 0, 0, 0, 0, 0, 0, 0, 0, 0, 0,\n",
            "        1, 0],\n",
            "       [1, 0, 0, 0, 0, 0, 0, 0, 0, 0, 0, 0, 0, 0, 0, 0, 0, 0, 0, 0, 0, 0,\n",
            "        0, 0],\n",
            "       [1, 0, 0, 0, 0, 0, 0, 0, 0, 0, 0, 0, 0, 0, 0, 0, 0, 0, 0, 0, 0, 0,\n",
            "        0, 0],\n",
            "       [1, 0, 0, 0, 0, 0, 0, 0, 0, 0, 0, 0, 0, 0, 0, 0, 0, 0, 0, 0, 0, 0,\n",
            "        0, 0],\n",
            "       [0, 0, 0, 0, 0, 0, 0, 0, 1, 0, 0, 0, 0, 0, 0, 0, 0, 0, 0, 0, 0, 0,\n",
            "        0, 0],\n",
            "       [1, 0, 0, 0, 0, 0, 0, 0, 0, 0, 0, 0, 0, 0, 0, 0, 0, 0, 0, 0, 0, 0,\n",
            "        0, 0],\n",
            "       [1, 0, 0, 0, 0, 0, 0, 0, 0, 0, 0, 0, 0, 0, 0, 0, 0, 0, 0, 0, 0, 0,\n",
            "        0, 0],\n",
            "       [0, 0, 0, 0, 0, 0, 1, 0, 0, 0, 0, 0, 0, 0, 0, 0, 0, 0, 0, 0, 0, 0,\n",
            "        0, 0],\n",
            "       [0, 0, 0, 0, 0, 1, 0, 0, 0, 0, 0, 0, 0, 0, 0, 0, 0, 0, 0, 0, 0, 0,\n",
            "        0, 0],\n",
            "       [0, 0, 0, 0, 0, 0, 1, 0, 0, 0, 0, 0, 0, 0, 0, 0, 0, 0, 0, 0, 0, 0,\n",
            "        0, 0],\n",
            "       [1, 0, 0, 0, 0, 0, 0, 0, 0, 0, 0, 0, 0, 0, 0, 0, 0, 0, 0, 0, 0, 0,\n",
            "        0, 0],\n",
            "       [0, 0, 0, 0, 0, 0, 0, 0, 1, 0, 0, 0, 0, 0, 0, 0, 0, 0, 0, 0, 0, 0,\n",
            "        0, 0],\n",
            "       [1, 0, 0, 0, 0, 0, 0, 0, 0, 0, 0, 0, 0, 0, 0, 0, 0, 0, 0, 0, 0, 0,\n",
            "        0, 0],\n",
            "       [0, 0, 0, 0, 0, 0, 1, 0, 0, 0, 0, 0, 0, 0, 0, 0, 0, 0, 0, 0, 0, 0,\n",
            "        0, 0],\n",
            "       [1, 0, 0, 0, 0, 0, 0, 0, 0, 0, 0, 0, 0, 0, 0, 0, 0, 0, 0, 0, 0, 0,\n",
            "        0, 0],\n",
            "       [1, 0, 0, 0, 0, 0, 0, 0, 0, 0, 0, 0, 0, 0, 0, 0, 0, 0, 0, 0, 0, 0,\n",
            "        0, 0],\n",
            "       [0, 0, 0, 0, 0, 0, 0, 0, 0, 0, 0, 0, 0, 0, 0, 0, 0, 0, 0, 0, 0, 0,\n",
            "        1, 0],\n",
            "       [0, 0, 0, 0, 0, 0, 1, 0, 0, 0, 0, 0, 0, 0, 0, 0, 0, 0, 0, 0, 0, 0,\n",
            "        0, 0]], dtype=uint8)>, 'Genre': <tf.Tensor: shape=(32, 20), dtype=uint8, numpy=\n",
            "array([[0, 0, 0, 0, 0, 0, 0, 0, 0, 0, 0, 0, 0, 0, 0, 0, 0, 1, 0, 0],\n",
            "       [0, 0, 1, 0, 0, 0, 0, 0, 0, 0, 0, 0, 0, 0, 0, 0, 0, 0, 0, 0],\n",
            "       [1, 0, 0, 0, 0, 0, 0, 0, 0, 0, 0, 0, 0, 0, 0, 0, 0, 0, 0, 0],\n",
            "       [0, 0, 0, 0, 0, 0, 0, 0, 1, 0, 0, 0, 0, 0, 0, 0, 0, 0, 0, 0],\n",
            "       [1, 0, 0, 0, 0, 0, 0, 0, 0, 0, 0, 0, 0, 0, 0, 0, 0, 0, 0, 0],\n",
            "       [0, 0, 0, 0, 0, 0, 0, 0, 0, 0, 0, 0, 1, 0, 0, 0, 0, 0, 0, 0],\n",
            "       [1, 0, 0, 0, 0, 0, 0, 0, 0, 0, 0, 0, 0, 0, 0, 0, 0, 0, 0, 0],\n",
            "       [0, 0, 0, 0, 0, 0, 0, 0, 0, 0, 0, 0, 1, 0, 0, 0, 0, 0, 0, 0],\n",
            "       [0, 0, 0, 0, 0, 0, 0, 0, 0, 0, 0, 0, 0, 0, 0, 0, 0, 1, 0, 0],\n",
            "       [0, 0, 0, 0, 0, 0, 0, 0, 0, 0, 0, 0, 1, 0, 0, 0, 0, 0, 0, 0],\n",
            "       [1, 0, 0, 0, 0, 0, 0, 0, 0, 0, 0, 0, 0, 0, 0, 0, 0, 0, 0, 0],\n",
            "       [0, 0, 0, 0, 0, 0, 0, 0, 0, 0, 0, 0, 0, 0, 1, 0, 0, 0, 0, 0],\n",
            "       [1, 0, 0, 0, 0, 0, 0, 0, 0, 0, 0, 0, 0, 0, 0, 0, 0, 0, 0, 0],\n",
            "       [1, 0, 0, 0, 0, 0, 0, 0, 0, 0, 0, 0, 0, 0, 0, 0, 0, 0, 0, 0],\n",
            "       [0, 0, 0, 0, 0, 0, 0, 0, 0, 0, 0, 0, 0, 0, 0, 0, 1, 0, 0, 0],\n",
            "       [0, 0, 0, 0, 0, 0, 0, 0, 0, 0, 0, 0, 0, 0, 0, 0, 0, 0, 1, 0],\n",
            "       [0, 0, 0, 0, 0, 0, 0, 0, 0, 0, 0, 0, 1, 0, 0, 0, 0, 0, 0, 0],\n",
            "       [1, 0, 0, 0, 0, 0, 0, 0, 0, 0, 0, 0, 0, 0, 0, 0, 0, 0, 0, 0],\n",
            "       [0, 0, 0, 0, 0, 0, 0, 0, 0, 0, 0, 0, 0, 0, 0, 0, 1, 0, 0, 0],\n",
            "       [0, 0, 0, 0, 0, 0, 1, 0, 0, 0, 0, 0, 0, 0, 0, 0, 0, 0, 0, 0],\n",
            "       [0, 0, 0, 0, 0, 0, 0, 0, 1, 0, 0, 0, 0, 0, 0, 0, 0, 0, 0, 0],\n",
            "       [0, 0, 0, 0, 0, 0, 0, 0, 0, 0, 0, 0, 1, 0, 0, 0, 0, 0, 0, 0],\n",
            "       [0, 0, 0, 0, 0, 0, 0, 0, 0, 0, 0, 0, 0, 0, 0, 0, 0, 0, 1, 0],\n",
            "       [0, 0, 0, 0, 0, 0, 0, 0, 1, 0, 0, 0, 0, 0, 0, 0, 0, 0, 0, 0],\n",
            "       [0, 0, 0, 0, 0, 0, 0, 0, 0, 0, 0, 0, 0, 0, 0, 0, 0, 0, 0, 1],\n",
            "       [0, 0, 0, 0, 0, 0, 0, 0, 0, 0, 0, 0, 1, 0, 0, 0, 0, 0, 0, 0],\n",
            "       [0, 0, 0, 0, 0, 0, 0, 0, 1, 0, 0, 0, 0, 0, 0, 0, 0, 0, 0, 0],\n",
            "       [0, 0, 0, 0, 0, 0, 0, 0, 0, 0, 0, 0, 1, 0, 0, 0, 0, 0, 0, 0],\n",
            "       [0, 0, 0, 0, 0, 0, 0, 0, 0, 0, 0, 0, 1, 0, 0, 0, 0, 0, 0, 0],\n",
            "       [0, 0, 0, 0, 0, 0, 0, 0, 1, 0, 0, 0, 0, 0, 0, 0, 0, 0, 0, 0],\n",
            "       [1, 0, 0, 0, 0, 0, 0, 0, 0, 0, 0, 0, 0, 0, 0, 0, 0, 0, 0, 0],\n",
            "       [0, 0, 0, 0, 0, 0, 0, 0, 0, 0, 0, 0, 0, 0, 1, 0, 0, 0, 0, 0]],\n",
            "      dtype=uint8)>}\n"
          ]
        }
      ]
    },
    {
      "cell_type": "code",
      "source": [
        "# Define max number of words\n",
        "max_features = 500\n",
        "\n",
        "# Create vectorization layer\n",
        "vectorize_layer = TextVectorization(\n",
        "    max_tokens=max_features,\n",
        "    output_mode='binary',\n",
        "    pad_to_max_tokens=True)\n",
        "\n",
        "# Adapt vectorization layer to training set\n",
        "train_titles = raw_train_ds.map(lambda x: x['Title'])\n",
        "vectorize_layer.adapt(train_titles)\n",
        "\n",
        "# Adapt vectorization layer to validation set\n",
        "val_titles = raw_val_ds.map(lambda x: x['Title'])\n",
        "vectorize_layer.adapt(val_titles)\n",
        "\n",
        "# Adapt vectorization layer to test set\n",
        "test_titles = raw_test_ds.map(lambda x: x['Title'])\n",
        "vectorize_layer.adapt(test_titles)\n",
        "\n",
        "# Define function to vectorize text\n",
        "def vectorize_text(text):\n",
        "  return vectorize_layer(tf.expand_dims(text, -1))\n",
        "\n",
        "# Vectorize titles in datasets and create new datasets\n",
        "train_ds = raw_train_ds.map(lambda x: (vectorize_text(x['Title']), x['Genre']))\n",
        "val_ds = raw_val_ds.map(lambda x: (vectorize_text(x['Title']), x['Genre']))\n",
        "test_ds = raw_test_ds.map(lambda x: (vectorize_text(x['Title']), x['Genre']))\n",
        "\n",
        "# Define the model\n",
        "model = tf.keras.Sequential([\n",
        "    layers.Dense(20, activation='sigmoid', input_shape=(max_features,))\n",
        "])\n",
        "\n",
        "# Compile the model\n",
        "model.compile(\n",
        "    loss=losses.BinaryCrossentropy(),\n",
        "    optimizer=tf.keras.optimizers.Adam(learning_rate=0.001),\n",
        "    metrics=['accuracy']\n",
        ")\n",
        "\n",
        "# Train the model\n",
        "epochs = 20\n",
        "history = model.fit(\n",
        "    train_ds,\n",
        "    validation_data=val_ds,\n",
        "    epochs=epochs\n",
        ")\n",
        "\n",
        "# Evaluate the model\n",
        "loss, accuracy = model.evaluate(test_ds)\n",
        "print(\"Accuracy: \", accuracy)\n",
        "print(\"Loss: \", loss)"
      ],
      "metadata": {
        "id": "EODu0M44zuXC",
        "outputId": "fc0a8efc-a18b-4a33-9fa2-928e751bf12b",
        "colab": {
          "base_uri": "https://localhost:8080/"
        }
      },
      "execution_count": 119,
      "outputs": [
        {
          "output_type": "stream",
          "name": "stdout",
          "text": [
            "Epoch 1/20\n",
            "468/468 [==============================] - 2s 3ms/step - loss: 0.5019 - accuracy: 0.0762 - val_loss: 0.3717 - val_accuracy: 0.2580\n",
            "Epoch 2/20\n",
            "468/468 [==============================] - 1s 2ms/step - loss: 0.3053 - accuracy: 0.2828 - val_loss: 0.2606 - val_accuracy: 0.2734\n",
            "Epoch 3/20\n",
            "468/468 [==============================] - 1s 2ms/step - loss: 0.2321 - accuracy: 0.2871 - val_loss: 0.2140 - val_accuracy: 0.2748\n",
            "Epoch 4/20\n",
            "468/468 [==============================] - 1s 2ms/step - loss: 0.1989 - accuracy: 0.2915 - val_loss: 0.1911 - val_accuracy: 0.2798\n",
            "Epoch 5/20\n",
            "468/468 [==============================] - 1s 2ms/step - loss: 0.1816 - accuracy: 0.2993 - val_loss: 0.1786 - val_accuracy: 0.2815\n",
            "Epoch 6/20\n",
            "468/468 [==============================] - 1s 2ms/step - loss: 0.1717 - accuracy: 0.3065 - val_loss: 0.1714 - val_accuracy: 0.2855\n",
            "Epoch 7/20\n",
            "468/468 [==============================] - 1s 2ms/step - loss: 0.1656 - accuracy: 0.3133 - val_loss: 0.1670 - val_accuracy: 0.2925\n",
            "Epoch 8/20\n",
            "468/468 [==============================] - 2s 4ms/step - loss: 0.1617 - accuracy: 0.3193 - val_loss: 0.1643 - val_accuracy: 0.2957\n",
            "Epoch 9/20\n",
            "468/468 [==============================] - 1s 2ms/step - loss: 0.1591 - accuracy: 0.3241 - val_loss: 0.1625 - val_accuracy: 0.2974\n",
            "Epoch 10/20\n",
            "468/468 [==============================] - 1s 2ms/step - loss: 0.1572 - accuracy: 0.3274 - val_loss: 0.1613 - val_accuracy: 0.2983\n",
            "Epoch 11/20\n",
            "468/468 [==============================] - 1s 2ms/step - loss: 0.1558 - accuracy: 0.3318 - val_loss: 0.1605 - val_accuracy: 0.3000\n",
            "Epoch 12/20\n",
            "468/468 [==============================] - 1s 2ms/step - loss: 0.1546 - accuracy: 0.3326 - val_loss: 0.1599 - val_accuracy: 0.2980\n",
            "Epoch 13/20\n",
            "468/468 [==============================] - 1s 2ms/step - loss: 0.1536 - accuracy: 0.3348 - val_loss: 0.1595 - val_accuracy: 0.3006\n",
            "Epoch 14/20\n",
            "468/468 [==============================] - 1s 2ms/step - loss: 0.1528 - accuracy: 0.3353 - val_loss: 0.1591 - val_accuracy: 0.3018\n",
            "Epoch 15/20\n",
            "468/468 [==============================] - 1s 2ms/step - loss: 0.1520 - accuracy: 0.3371 - val_loss: 0.1588 - val_accuracy: 0.3015\n",
            "Epoch 16/20\n",
            "468/468 [==============================] - 1s 2ms/step - loss: 0.1512 - accuracy: 0.3406 - val_loss: 0.1586 - val_accuracy: 0.3003\n",
            "Epoch 17/20\n",
            "468/468 [==============================] - 2s 4ms/step - loss: 0.1505 - accuracy: 0.3408 - val_loss: 0.1584 - val_accuracy: 0.3018\n",
            "Epoch 18/20\n",
            "468/468 [==============================] - 1s 2ms/step - loss: 0.1499 - accuracy: 0.3406 - val_loss: 0.1582 - val_accuracy: 0.3032\n",
            "Epoch 19/20\n",
            "468/468 [==============================] - 1s 2ms/step - loss: 0.1493 - accuracy: 0.3428 - val_loss: 0.1581 - val_accuracy: 0.3041\n",
            "Epoch 20/20\n",
            "468/468 [==============================] - 1s 2ms/step - loss: 0.1487 - accuracy: 0.3451 - val_loss: 0.1581 - val_accuracy: 0.3064\n",
            "144/144 [==============================] - 0s 1ms/step - loss: 0.1569 - accuracy: 0.3137\n",
            "Accuracy:  0.313721239566803\n",
            "Loss:  0.15691672265529633\n"
          ]
        }
      ]
    },
    {
      "cell_type": "code",
      "source": [
        "# Define max number of words\n",
        "max_features = 10000\n",
        "\n",
        "# Create vectorization layer\n",
        "vectorize_layer = TextVectorization(\n",
        "    max_tokens=max_features,\n",
        "    output_mode='binary',\n",
        "    pad_to_max_tokens=True)\n",
        "\n",
        "# Adapt vectorization layer to training set\n",
        "train_titles = raw_train_ds.map(lambda x: x['Title'])\n",
        "vectorize_layer.adapt(train_titles)\n",
        "\n",
        "# Adapt vectorization layer to validation set\n",
        "val_titles = raw_val_ds.map(lambda x: x['Title'])\n",
        "vectorize_layer.adapt(val_titles)\n",
        "\n",
        "# Adapt vectorization layer to test set\n",
        "test_titles = raw_test_ds.map(lambda x: x['Title'])\n",
        "vectorize_layer.adapt(test_titles)\n",
        "\n",
        "# Define function to vectorize text\n",
        "def vectorize_text(text):\n",
        "  return vectorize_layer(tf.expand_dims(text, -1))\n",
        "\n",
        "# Vectorize titles in datasets and create new datasets\n",
        "train_ds = raw_train_ds.map(lambda x: (vectorize_text(x['Title']), x['Genre']))\n",
        "val_ds = raw_val_ds.map(lambda x: (vectorize_text(x['Title']), x['Genre']))\n",
        "test_ds = raw_test_ds.map(lambda x: (vectorize_text(x['Title']), x['Genre']))\n",
        "\n",
        "# Define the model\n",
        "model = tf.keras.Sequential([\n",
        "    layers.Dense(20, activation='sigmoid', input_shape=(max_features,))\n",
        "])\n",
        "\n",
        "# Compile the model\n",
        "model.compile(\n",
        "    loss=losses.BinaryCrossentropy(),\n",
        "    optimizer=tf.keras.optimizers.Adam(learning_rate=0.001),\n",
        "    metrics=['accuracy']\n",
        ")\n",
        "\n",
        "# Train the model\n",
        "epochs = 20\n",
        "history = model.fit(\n",
        "    train_ds,\n",
        "    validation_data=val_ds,\n",
        "    epochs=epochs\n",
        ")\n",
        "\n",
        "# Evaluate the model\n",
        "loss, accuracy = model.evaluate(test_ds)\n",
        "print(\"Accuracy: \", accuracy)\n",
        "print(\"Loss: \", loss)"
      ],
      "metadata": {
        "id": "fudhx3Qy6B7T",
        "outputId": "373d0fce-c7de-4319-c271-3da15c0d9ea4",
        "colab": {
          "base_uri": "https://localhost:8080/"
        }
      },
      "execution_count": 120,
      "outputs": [
        {
          "output_type": "stream",
          "name": "stdout",
          "text": [
            "Epoch 1/20\n",
            "468/468 [==============================] - 4s 7ms/step - loss: 0.5157 - accuracy: 0.2334 - val_loss: 0.3898 - val_accuracy: 0.2966\n",
            "Epoch 2/20\n",
            "468/468 [==============================] - 3s 6ms/step - loss: 0.3239 - accuracy: 0.3201 - val_loss: 0.2771 - val_accuracy: 0.2916\n",
            "Epoch 3/20\n",
            "468/468 [==============================] - 3s 7ms/step - loss: 0.2468 - accuracy: 0.3247 - val_loss: 0.2270 - val_accuracy: 0.2928\n",
            "Epoch 4/20\n",
            "468/468 [==============================] - 3s 6ms/step - loss: 0.2093 - accuracy: 0.3304 - val_loss: 0.2009 - val_accuracy: 0.3041\n",
            "Epoch 5/20\n",
            "468/468 [==============================] - 3s 6ms/step - loss: 0.1884 - accuracy: 0.3478 - val_loss: 0.1859 - val_accuracy: 0.3119\n",
            "Epoch 6/20\n",
            "468/468 [==============================] - 3s 6ms/step - loss: 0.1755 - accuracy: 0.3603 - val_loss: 0.1767 - val_accuracy: 0.3157\n",
            "Epoch 7/20\n",
            "468/468 [==============================] - 3s 6ms/step - loss: 0.1669 - accuracy: 0.3703 - val_loss: 0.1707 - val_accuracy: 0.3215\n",
            "Epoch 8/20\n",
            "468/468 [==============================] - 4s 8ms/step - loss: 0.1609 - accuracy: 0.3815 - val_loss: 0.1667 - val_accuracy: 0.3238\n",
            "Epoch 9/20\n",
            "468/468 [==============================] - 3s 6ms/step - loss: 0.1565 - accuracy: 0.3902 - val_loss: 0.1638 - val_accuracy: 0.3241\n",
            "Epoch 10/20\n",
            "468/468 [==============================] - 4s 7ms/step - loss: 0.1531 - accuracy: 0.3972 - val_loss: 0.1618 - val_accuracy: 0.3267\n",
            "Epoch 11/20\n",
            "468/468 [==============================] - 3s 7ms/step - loss: 0.1503 - accuracy: 0.4034 - val_loss: 0.1603 - val_accuracy: 0.3281\n",
            "Epoch 12/20\n",
            "468/468 [==============================] - 3s 6ms/step - loss: 0.1479 - accuracy: 0.4106 - val_loss: 0.1591 - val_accuracy: 0.3296\n",
            "Epoch 13/20\n",
            "468/468 [==============================] - 3s 6ms/step - loss: 0.1458 - accuracy: 0.4161 - val_loss: 0.1582 - val_accuracy: 0.3307\n",
            "Epoch 14/20\n",
            "468/468 [==============================] - 3s 7ms/step - loss: 0.1440 - accuracy: 0.4188 - val_loss: 0.1574 - val_accuracy: 0.3313\n",
            "Epoch 15/20\n",
            "468/468 [==============================] - 3s 6ms/step - loss: 0.1423 - accuracy: 0.4254 - val_loss: 0.1568 - val_accuracy: 0.3330\n",
            "Epoch 16/20\n",
            "468/468 [==============================] - 3s 6ms/step - loss: 0.1407 - accuracy: 0.4272 - val_loss: 0.1563 - val_accuracy: 0.3345\n",
            "Epoch 17/20\n",
            "468/468 [==============================] - 4s 8ms/step - loss: 0.1392 - accuracy: 0.4324 - val_loss: 0.1559 - val_accuracy: 0.3351\n",
            "Epoch 18/20\n",
            "468/468 [==============================] - 3s 6ms/step - loss: 0.1378 - accuracy: 0.4375 - val_loss: 0.1556 - val_accuracy: 0.3368\n",
            "Epoch 19/20\n",
            "468/468 [==============================] - 4s 8ms/step - loss: 0.1364 - accuracy: 0.4389 - val_loss: 0.1553 - val_accuracy: 0.3400\n",
            "Epoch 20/20\n",
            "468/468 [==============================] - 3s 6ms/step - loss: 0.1351 - accuracy: 0.4437 - val_loss: 0.1551 - val_accuracy: 0.3409\n",
            "144/144 [==============================] - 0s 3ms/step - loss: 0.1594 - accuracy: 0.3569\n",
            "Accuracy:  0.35692575573921204\n",
            "Loss:  0.15941157937049866\n"
          ]
        }
      ]
    }
  ]
}