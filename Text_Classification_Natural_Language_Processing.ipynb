{
  "nbformat": 4,
  "nbformat_minor": 0,
  "metadata": {
    "colab": {
      "provenance": [],
      "authorship_tag": "ABX9TyO+8p98UAE6+ULBv09Ku2gE",
      "include_colab_link": true
    },
    "kernelspec": {
      "name": "python3",
      "display_name": "Python 3"
    },
    "language_info": {
      "name": "python"
    }
  },
  "cells": [
    {
      "cell_type": "markdown",
      "metadata": {
        "id": "view-in-github",
        "colab_type": "text"
      },
      "source": [
        "<a href=\"https://colab.research.google.com/github/Niroth36/Text_Classification_Natural_Language_Processing/blob/main/Text_Classification_Natural_Language_Processing.ipynb\" target=\"_parent\"><img src=\"https://colab.research.google.com/assets/colab-badge.svg\" alt=\"Open In Colab\"/></a>"
      ]
    },
    {
      "cell_type": "markdown",
      "source": [
        "# Importing libraries"
      ],
      "metadata": {
        "id": "7GlzBw-msEmd"
      }
    },
    {
      "cell_type": "code",
      "execution_count": 1,
      "metadata": {
        "id": "fWa6qcEQfHXW"
      },
      "outputs": [],
      "source": [
        "import matplotlib.pyplot as plt\n",
        "import os\n",
        "import re\n",
        "import shutil\n",
        "import string\n",
        "import numpy as np\n",
        "import tensorflow as tf\n",
        "from tensorflow import keras\n",
        "import pandas as pd\n",
        "\n",
        "from keras import layers\n",
        "from keras import losses\n",
        "from keras import preprocessing\n",
        "from tensorflow.keras.layers.experimental.preprocessing import TextVectorization"
      ]
    },
    {
      "cell_type": "markdown",
      "source": [
        "# Importing dataset"
      ],
      "metadata": {
        "id": "RJt2CKlusQW4"
      }
    },
    {
      "cell_type": "markdown",
      "source": [
        "Download the CSV file"
      ],
      "metadata": {
        "id": "CuEH9BAqvOKm"
      }
    },
    {
      "cell_type": "code",
      "source": [
        "url = \"https://raw.githubusercontent.com/Niroth36/Text_Classification_Natural_Language_Processing/main/dataset.csv.gz\"\n",
        "filename = \"dataset.csv.gz\"\n",
        "\n",
        "path = tf.keras.utils.get_file(filename, url)"
      ],
      "metadata": {
        "id": "FTGnA4TxsTJF",
        "outputId": "14ba75f1-196e-4739-db9d-d94c1e5c8d98",
        "colab": {
          "base_uri": "https://localhost:8080/"
        }
      },
      "execution_count": 2,
      "outputs": [
        {
          "output_type": "stream",
          "name": "stdout",
          "text": [
            "Downloading data from https://raw.githubusercontent.com/Niroth36/Text_Classification_Natural_Language_Processing/main/dataset.csv.gz\n",
            "20876395/20876395 [==============================] - 0s 0us/step\n"
          ]
        }
      ]
    },
    {
      "cell_type": "code",
      "source": [
        "# load data with pandas\n",
        "df = pd.read_csv(path, compression='gzip')"
      ],
      "metadata": {
        "id": "95aux2G6_DGb"
      },
      "execution_count": 4,
      "outputs": []
    },
    {
      "cell_type": "code",
      "source": [
        "df.isnull().sum()"
      ],
      "metadata": {
        "id": "RBPLObksCjIR",
        "outputId": "c32f7ae9-8e0d-47e6-a3f1-6f56eb2a538d",
        "colab": {
          "base_uri": "https://localhost:8080/"
        }
      },
      "execution_count": 5,
      "outputs": [
        {
          "output_type": "execute_result",
          "data": {
            "text/plain": [
              "Unnamed: 0            0\n",
              "Release Year          0\n",
              "Title                 0\n",
              "Origin/Ethnicity      0\n",
              "Director              0\n",
              "Cast                486\n",
              "Wiki Page             0\n",
              "Plot                  0\n",
              "Genre                 0\n",
              "dtype: int64"
            ]
          },
          "metadata": {},
          "execution_count": 5
        }
      ]
    },
    {
      "cell_type": "code",
      "source": [
        "df= df.drop(\"Cast\", axis='columns')"
      ],
      "metadata": {
        "id": "CoCKmcTNjsHS"
      },
      "execution_count": 7,
      "outputs": []
    },
    {
      "cell_type": "markdown",
      "source": [
        "I decided to drop Cast column because it has missing values and it has no point in categorizing the movies according to their genre."
      ],
      "metadata": {
        "id": "-pofsP5Oj20v"
      }
    },
    {
      "cell_type": "code",
      "source": [
        "import re\n",
        "import string\n",
        "\n",
        "def preprocess_text(text):\n",
        "    # convert text to lowercase\n",
        "    text = text.lower()\n",
        "\n",
        "    # remove special characters and digits\n",
        "    text = re.sub(r'[^\\w\\s]', '', text)\n",
        "\n",
        "    # remove punctuation\n",
        "    text = text.translate(str.maketrans('', '', string.punctuation))\n",
        "\n",
        "    return text"
      ],
      "metadata": {
        "id": "1cawr1JW9pR2"
      },
      "execution_count": 6,
      "outputs": []
    },
    {
      "cell_type": "markdown",
      "source": [
        "Extract the file and read the CSV file using pandas"
      ],
      "metadata": {
        "id": "pKcACLpE-_6b"
      }
    },
    {
      "cell_type": "markdown",
      "source": [
        "The first line creates a dictionary genre2id that maps each unique genre in the Genre column of df to a unique integer ID. The genres are sorted alphabetically using the sorted() function and then enumerated using the enumerate() function, starting from 0. The resulting dictionary genre2id has keys that are the unique genre names and values that are the corresponding integer IDs.\n",
        "The second line maps the genre names in the Genre column of df to the corresponding integer IDs using the map() method. The resulting integer IDs are added as a new column label in df.\n",
        "\n",
        "The integer IDs are useful for training machine learning models, as many models require integer labels instead of string labels."
      ],
      "metadata": {
        "id": "iUyG0Izq-H8b"
      }
    },
    {
      "cell_type": "markdown",
      "source": [
        "This function should load the data from the CSV file at file_path, preprocess it as described, and return three tf.data.Dataset objects for training, validation, and testing, respectively. The batch_size, p_train, and p_val parameters control the size of the batches and the proportion of the data used for training, validation, and testing, respectively. The function also returns the number of labels in the dataset as n_labels."
      ],
      "metadata": {
        "id": "7j6XHU64Deeu"
      }
    },
    {
      "cell_type": "code",
      "source": [
        "def load_data_wiki(file_path, batch_size=32, p_train=.65, p_val=0.15):\n",
        "    # load data with pandas\n",
        "    df = pd.read_csv(file_path, compression='gzip')\n",
        "\n",
        "    # drop cast column\n",
        "    df= df.drop(\"Cast\", axis='columns')\n",
        "\n",
        "    # randomize the data, (shuffle rows)\n",
        "    df = df.sample(frac=1, random_state=42)\n",
        "\n",
        "    # preprocess text data\n",
        "    df['Plot'] = df['Plot'].apply(preprocess_text)\n",
        "\n",
        "    # convert Origin/Ethnicity to one-hot encoding\n",
        "    ethnicity_onehot = pd.get_dummies(df['Origin/Ethnicity'], prefix='Ethnicity')\n",
        "\n",
        "    # concatenate the data and one-hot encoded ethnicity\n",
        "    df = pd.concat([df, ethnicity_onehot], axis=1)\n",
        "\n",
        "    # convert the genre labels to integer IDs\n",
        "    genre2id = {g: i for i, g in enumerate(sorted(df['Genre'].unique()))}\n",
        "    df['label'] = df['Genre'].map(genre2id)\n",
        "\n",
        "    # split data into train, val, and test\n",
        "    train_size = int(p_train * len(df))\n",
        "    val_size = int(p_val * len(df))\n",
        "    test_size = len(df) - train_size - val_size\n",
        "\n",
        "    train_df = df[:train_size]\n",
        "    val_df = df[train_size:train_size + val_size]\n",
        "    test_df = df[train_size + val_size:]\n",
        "        \n",
        "    # convert dataframes to dictionaries\n",
        "    ethnicity_cols = [col for col in df.columns if col.startswith('Ethnicity_')]\n",
        "    train_data = dict(train_df[['Title', 'Plot'] + ethnicity_cols].items())\n",
        "    train_data['label'] = np.array(train_df['label'].tolist())\n",
        "\n",
        "    val_data = dict(val_df[['Title', 'Plot'] + ethnicity_cols].items())\n",
        "    val_data['label'] = np.array(val_df['label'].tolist())\n",
        "\n",
        "    test_data = dict(test_df[['Title', 'Plot'] + ethnicity_cols].items())\n",
        "    test_data['label'] = np.array(test_df['label'].tolist())\n",
        "\n",
        "    # create tf.data.Dataset objects\n",
        "    train_ds = tf.data.Dataset.from_tensor_slices(train_data)\n",
        "    train_ds = train_ds.shuffle(buffer_size=train_size)\n",
        "    train_ds = train_ds.batch(batch_size)\n",
        "\n",
        "    val_ds = tf.data.Dataset.from_tensor_slices(val_data)\n",
        "    val_ds = val_ds.shuffle(buffer_size=val_size)\n",
        "    val_ds = val_ds.batch(batch_size)\n",
        "\n",
        "    test_ds = tf.data.Dataset.from_tensor_slices(test_data)\n",
        "    test_ds = test_ds.batch(batch_size)\n",
        "\n",
        "    # return datasets and number of labels\n",
        "    return train_ds, val_ds, test_ds, len(genre2id)\n"
      ],
      "metadata": {
        "id": "CLALK_idCzmO"
      },
      "execution_count": 7,
      "outputs": []
    },
    {
      "cell_type": "code",
      "source": [
        "raw_train_ds, raw_val_ds, raw_test_ds, n_labels = load_data_wiki(path)"
      ],
      "metadata": {
        "id": "z07a6zspyyuy"
      },
      "execution_count": 13,
      "outputs": []
    },
    {
      "cell_type": "code",
      "source": [
        "print(n_labels)"
      ],
      "metadata": {
        "id": "rvur9c8tCc7d",
        "outputId": "9902f20d-be97-43ce-9fd6-2ceed9c93632",
        "colab": {
          "base_uri": "https://localhost:8080/"
        }
      },
      "execution_count": 14,
      "outputs": [
        {
          "output_type": "stream",
          "name": "stdout",
          "text": [
            "20\n"
          ]
        }
      ]
    },
    {
      "cell_type": "code",
      "source": [
        "for element in raw_train_ds.take(1):\n",
        "    print(element)\n"
      ],
      "metadata": {
        "colab": {
          "base_uri": "https://localhost:8080/"
        },
        "id": "urScw2vMx9bz",
        "outputId": "35d27a7e-a5f2-4d91-ed5a-9ff01f84982e"
      },
      "execution_count": 9,
      "outputs": [
        {
          "output_type": "stream",
          "name": "stdout",
          "text": [
            "{'Title': <tf.Tensor: shape=(32,), dtype=string, numpy=\n",
            "array([b'Roudram', b'In the Land of Women', b'The Spoilers',\n",
            "       b'The Reckoning', b'Angel on My Shoulder', b'Carry On Teacher',\n",
            "       b'Spellcaster', b'The Seeker', b'Pink Floyd \\xe2\\x80\\x93 The Wall',\n",
            "       b'Purple People Eater', b'Green Fire', b'Assassin', b'Iyer IPS',\n",
            "       b'Silambattam', b'Mudhoney', b'Knight Without Armour', b'Billa',\n",
            "       b'The Fighting Marshal', b'The She-Creature',\n",
            "       b'Storm over Wyoming', b'Noor Jahaan', b'Pecker', b'Hungry Hill',\n",
            "       b' Janky Promoters', b'Detachment', b'Raid on Rommel',\n",
            "       b'Thunder Over the Plains', b'Anchors Aweigh',\n",
            "       b'The Affairs of Martha', b'Big Trouble', b'What About Bob?',\n",
            "       b'KL 10 Patthu'], dtype=object)>, 'Plot': <tf.Tensor: shape=(32,), dtype=string, numpy=\n",
            "array([b'the film starts in the 1980s a young shiva jiiva is trained in the ancient indian martial art kalarippayattu by his grandfather prakash raj to be bold and brave and fight against all odds especially all thats evil shiva grows up with his grandfathers words as his bhagavad gita however shivas parents jayaprakash and lakshmi want him to lead a peaceful life shiva gets arrested by the police after fighting with another law student guna who is one of gowris gang enters priya shriya a law college student she is the daughter of a police official babu antony she bails shiva out and falls for him after seeing him fight for other peoples good eventually shiva too falls for her guna wants revenge as shiva had humiliated him in front of everyone he wants shiva dead things take a turn when shiva goes to the bus stop with his friend to pick up ramanujams sathyan tamil actor father there a couple of rowdies kidnap a young girl shiva could not stand this and fights with them gowri was one of the rowdies there and shiva hits him gowri is infuriated and wants shiva dead at any cost shivas entire family stops talking to shiva though he insisted that what he did was for the good shivas sister gets married to ramanujam eventually and his brother srinath marries his longtime love these marriages happens without shivas knowledge and he becomes shocked and shattered he packs up and leaves his house since he realises that his presence will only make things dangerous for his family he takes his grandfathers photo along with him shiva and his sister kavitha monica the lawyer who helps shiva to escape when he is caught by police\\r\\nthe climax is when the father of priya and the father of shiva convince shiva to force him out of helping others and ruining his life and concealing it with danger for him and priya priyas father then receives a message that gowri was arrested however he escaped and the police shot him down to that priyas father responded that he will come and see him in the hospital after hearing that shiva sees a problem involving a girl and some rowdies and tells to stop the car his fatherinlaw refuses so shiva jumps out of the car to save the girls life and then a few words are said in response to this and the film ends this is a contrast of the official ending as this is more of a positive way rather than priya dying',\n",
            "       b'carter webb adam brody is a young softcore writer living in los angeles whose young starlet girlfriend sofia elena anaya breaks up with him carter pleads with her to stay but she leaves\\r\\nwhen carter goes to his mothers home in order to reclaim an item he sees his mother crying in the living room she explains that her mentally unstable mother phyllis olympia dukakis claims that she is dying  though her doctor cannot find anything fatal carters mother tells him that she will be leaving for michigan to take care of phyllis carter offers to take his mothers place as caregiver for his grandmother explaining that he wanted to get out of the life he was currently living and write a biographical story he has been working on for the past eleven years though his mother objects to this decision he ignores her and flies to michigan\\r\\noutside carter finally arrives he knocks on the door with a cheerful remark and phyllis obviously forgetting her own grandson slams the door on him after a quick negotiation she lets him inside phyllis reveals that she has been starving herself the past three weeks and carter sees that all of the food in her home has gone stale after a few brief phone calls with his mother and his boss carter begins to clean up his grandmothers home\\r\\nmeanwhile paige makenzie vega and lucy kristen stewart hardwicke who live across the street from phyllis are returning from school lucys mother sarah meg ryan calls lucy to the kitchen she hesitantly tells lucy that she has found a lump in her breast a possible sign of breast cancer and is to see a doctor in the coming days lucy shocked wants to come with her mother when she receives her results but sarah quickly refuses\\r\\nwhen carter takes out the trash lucy who is smoking on her roof watches him he drops the trash and lucy begins to snicker hearing her laughter carter turns toward her and she hides in the shadow of the roof sarah hears the noise and comes outside with her dog bozo and warmly introduces herself to carter they have a brief talk before lucys friends arrive loudly down the road and sarah goes back inside lucy and carter meet and she asks carter not to tell her parents that she smokes he agrees and takes a cigarette from her before she leaves\\r\\nthe next morning sarah arrives at carters doorstep bringing cookies and offering for him to walk with her they walk around the neighborhood talking about their lives carter eventually mentions sofia wondering about his love for her carter thinks about his relationship and decides that it really wasnt true love he explains that he has written love letters for sofia pouring out his affection in these epistles carter believes that the letters contain his best work\\r\\nafter sarah returns home she sees that carter is heartbroken and needs someone to take his mind off sofia she asks lucy to ask carter out on a date lucy bitterly refuses calling it lame to ask someone out from across the street that she doesnt even know sarahs husband agrees and sarah abruptly leaves the room frustrated she goes to her bathroom filling a small cup of medicine to subdue her pain her husband follows her trying to assuage the situation by insisting that lucy will apologize and ask carter on a date\\r\\nthe next day carter decides to go on a run while running he has flashbacks of all the memorable times he had with sofia their meeting their first kiss and so on until it finally leads to the breakup when she utters the word goodbye once more carter runs into a tree and passes out when he wakes up he sees lucy standing over him she gives him a ride home and then asks him out carter tells her to ask her parents if they would allow her to take him out on a school night as they normally would not lucy confused agrees and goes back inside\\r\\nshortly thereafter sarah invites carter on another walk this time she leads him into a small patch of forest she admits that her husband is having an affair and that she does not love him  at least not the way carter loved sofia they hug and leave to run errands together they share an awkward moment of both having something to say to the other carter begins with the declaration that sarahs husband is out of his mind sarah smiles and dismisses what she has to say eventually the two deepen their friendship and later when she tells him she is sick they kiss each other\\r\\ncarter also goes to the movies with lucy and paige he finds out that sofia has been dating colin farrell afterward lucy brings carter to a football field because he was curious about the typical high school experience there she confesses that she is sort of dating the high school quarterback gabe who is arrogant and cocky but that they have not kissed yet they also talk about gabes best friend eric who seems to be the opposite of gabe soft and shy she also confesses that she knows her father is having an affair but believes her mother does not know\\r\\nshe claims to be more upset with her mother than her father because her mother is cold and more interested in her image than the truth lucy later finds out that gabe could not wait for lucy and hooked up with her best friend she convinces carter to come to a party with her because he is older and mysterious during the party gabe tries to fight carter but eric steps in saying that gabe is the one who screwed up after the party carter and lucy share a kiss which sarah sees she tells carter to leave lucy alone and to never speak to them again afterwards he slips her a letter\\r\\nlucy goes to see carter who tells her that he is not the guy for her and that if she thought about it she would realize that she would know who he is sarah gets her cancer treatments and it is revealed that everything will be all right sarah and lucy talk and start to heal their relationship as lucy drives home from the hospital she stops to see eric who she realizes is the guy carter was referring to sarah finally reads carters letter which though similar to a love letter winds up being more of a thank you note\\r\\ncarter comes downstairs to find his grandmother has died but does not immediately call the hospital instead he goes outside for some air and meets up with sarah she apologizes and they are able to end their friendship on good terms\\r\\nthe story closes with carter back in la at the diner where sofia broke up with him he is writing presumably a script about his grandmother he talks to the waitress and seems to be getting on with his life without sofia',\n",
            "       b'struggling miners flapjack and banty go to the office of alex mcnamara the new gold commissioner in nome alaska to complain about claim jumpers he isnt there so they drown their sorrows at cherry malottes gambling house and saloon\\r\\ncherry looks ready to steal the mens claim herself in alexs office when he suddenly appears he assures her judge stillman is on his way to nome to review all legal matters regarding the mines\\r\\nwhen a ship arrives bringing her sweetheart roy glennister back to town cherry runs out eagerly to meet it to the jealousy of blackie her croupier to her anger roy is traveling with an attractive stranger helen chester an irate cherry leaves in a huff with roys coowner of a nearby mine dextry\\r\\nroy insists he still loves cherry but she slaps his face alex and the newly arrived judge stillman set out to survey and inspect roys mine insisting it will take weeks before any claims can be settled roy is shocked to observe that alex the judge and helen are all conspirators to steal the miners claims\\r\\nblackie shoots the town marshal and makes sure roy is blamed and arrested for it a jailbreak is arranged but cherry rushes to warn roy of what she has learned from helen that as soon as he escapes alex is planning to ambush roy and make it look like a lawful shooting\\r\\na shootout between alex and the miners ensues blackie dies but not before confessing to the sheriffs murder while roy and alex end up in a knockdown dragout fistfight cherry and roy ultimately end up happily in love and in legal possession of the mine',\n",
            "       b'in 1380 england the priest nicholas bettany flees his village when found in flagrante delicto with a married woman during flight he witnesses a group that has euthanized a member to give relief from his long recurring internal pain he becomes known to the group and is captured the group is a travelling acting troupe who think he is a robber and they explain the killing reluctantly they allow him to join their troupe to replace the member killed on their journey to the next town they are forced to travel to a new district after a collapsed bridge stops them taking their normal route and to mend the cart that carries their goods although they have no money the troupe reach a strange town with castle under reconstruction and find a woman being sentenced to death for killing a boy upon the testimony of benedictine monk simon damian ewen bremner the troupe perform a biblical passion play but as told by the groups leader martin willem dafoe so few attend they are unable to bury the dead troupe member and fix their cart\\r\\nmartin makes the decision to perform a new play based on the events surrounding the child murder he and nicholas visit the condemned mute woman in the dungeons coming away with the strong belief she is innocent the woman is portrayed a seductress which infuriates the crowd and the parents of the dead boy since he was virtuous and too physically strong to be overtaken by the woman norman lord de guise vincent cassel watches from the castle and sends the sheriff to clear the square by force crowds people on leaving the square tell the troupe about more details of the death or disappearance of boys\\r\\nthe troupe is told to leave town by first light but nicholass convictions urge him to first hand determine what happened to the boy so in the night the body is uncovered and it is found subjected to sodomy before death and exposed to the plague the kings justice and his squire come upon nicholas and they share some of their suspicions nicholas is then forced to leave town but before long returns under disguise as a monk the troupe remains on their journey to durham but martin relinquishes his role as troupe leader and returns\\r\\nnicholas is aware of the transitions in death from limber to rigor and return he visits the monk who testified at trial to say all that he is aware the monk reveals he had nothing to do with the death intimating he is protecting someone else nicholas leaves and is found by martin the two of them then learn from the kings justice that the monk has been found dead and with it any chance evidence concerning de guise proclivity and also is planning a revolt to seize the english throne\\r\\nthe sheriff reveals that it seems that wherever de guise goes boys disappear nicholas then obtains more evidence to prove that the woman is not the real killer the body was found with rigor mortis which meant the killing was more recent the execution is set but before it can be carried out the troupe has returned and seized the scaffold as stage for their new play based on the most recent information the crowd is incensed toward de guise and the guards are called out again to clear the town square forcing the actors to the church and unknown to them de guise is there performing an act of penitence\\r\\nnicholas presents the evidence to de guise who admits everything with an air of invulnerability knowing that he is untouchable under the feudal system when de guise asks nicholas about his sins nicholas confesses he murdered the husband of the woman he was caught with after he attacked nicholas when leaving de guise learns from nicholas he has been exposed to the plague de guise then stabs nicholas who stumbles outside the church de guise walks back to his castle through the throng of townsfolk unaware of the revelations of the new play he reaches the gate to find that the portcullis is down and he is surrounded by the crowd who lynch him and set fire to the castle\\r\\nthe new authorities in the town hope the reason for the deaths will be forgotten the kings justice promises the work of nicholas will be told to the king but sarah replies the sheriff that nicholas didnt act for the kings sake but for the wrongly accused and his own redemption martin announces that nicholas will live on in their new play which will be presented when they reach durham the troupe then departs while the castle is burned to the ground',\n",
            "       b'after his release from prison gangster eddie kagle paul muni is killed by his partner in crime smiley williams hardie albright kagle ends up in hell where nick claude rains offers him a chance to leave and avenge his own death in exchange for help with a problem kagle looks exactly like judge frederick parker an upright man who is causing nick distress because he is entirely too honest nick fears that parkerkagle may cause him more anxiety in future as he is running for governor of his state nick wants to destroy parkers reputation and kagle readily agrees to have his soul transferred into parkers body\\r\\nas soon as kagle appears as parker odd things begin to happen kagle pursues his goal with evil intent though often at cross purposes with the devil but everything he does to ruin judge parkers reputation somehow results in making parker look better along the way kagle falls in love with barbara foster anne baxter the judges fianc\\xc3\\xa9e causing him to question his whole outlook on life and eventually rebel against nick\\r\\nnick presents kagle the opportunity to shoot williams but instead kagle confronts the man with the truth shocked and frightened williams backs away and falls out an open window to his death\\r\\nexasperated and defeated nick takes kagle back to hell leaving judge parker in a much better position than before nick threatens to make the reformed mans punishment even more painful than usual but kagle blackmails his wouldbe tormentor in return for not revealing nicks blunders kagle wants to be made a trustee nick has no option but to agree to kagles demand',\n",
            "       b'during the current term at maudlin street secondary modern school william wakefield ted ray  who has been at the school for 20 years  is acting headmaster he spots an advertisement for a headmaster of a brand new school near where he was born and decides to apply for the post\\r\\nbecause of a coinciding visit by a ministry of education inspector miss wheeler played by rosalind knight and the noted child psychiatrist alistair grigg leslie phillips he decides to enlist the help of his staff to ensure that the school routine runs smoothly during their visit\\r\\nwhile in conference with his teaching staff including gregory adams kenneth connor science master edwin milton kenneth williams english master michael bean charles hawtrey music teacher sarah allcock joan sims gym mistress and grace short hattie jacques maths teacher a senior pupil robin stevens played by richard osullivan overhears that wakefield is planning to leave at the end of term the pupils are fond of the venerable teacher and stevens immediately rushes this information to his schoolmates they plan to sabotage every endeavour that might earn wakefield praise which would set him on the road to his new post\\r\\non arrival grigg and miss wheeler are escorted by wakefield on a tour of inspection and the pupils go out of their way to misbehave in each class they visit however griggs tour has not been in vain he has taken a shine to sarah allcock the gym mistress and it is obvious the feeling is mutual\\r\\nmiss wheeler is disgusted at the behaviour of the children towards the teachers but is softened when she visits the science masters class where she feels an instinctive maternal affection for the charm of the nervous science master adams\\r\\nwakefield realises his position as headmaster of the new school is in jeopardy and on seeing miss wheelers interest in adams enlists his help he asks adams to make advances to miss wheeler to win her over adams is aghast at the thought but eventually agrees to do his best after many unsuccessful attempts to tell miss wheeler of his love adams finds an untruth has become truth and finally finds enough courage to declare his love\\r\\nthe pupils meanwhile have been doing everything in their power to make things go wrong and on the last day of term are caught trying to sabotage the prizegiving they are told to report to wakefields study and after much crossexamination he learns the reason for the weeks events  the pupils simply did not want to see him leave wakefield  deeply moved  tells the children he will not leave and will see them all next term\\r\\nmiss wheeler softened by her newfound love announces that she intends to tell the ministry that staffpupil relationships at the school are excellent',\n",
            "       b'winning a trip to italy through a contest jackie ogrady and her brother tom pruett join other winners myrna demson yvette lind terri ulrich harlan zorek and tony modugno they settle into the rooms of an old castle together with cassandra bailey a rock star playing along in the contest wanting to get a leg up on each other they all try to sneak out and find the prize before it starts to no avail when the contest begins they start to die onebyone from a mysterious source within the castle figuring that evil forces are at work the remaining members race to stop the assailant from finishing their work',\n",
            "       b'will stanton alexander ludwig is a day away from his fourteenth birthday as the stanton children walk home miss greythorne frances conroy the local mistress of the manor and her butler merriman lyon ian mcshane invite the siblings to a christmas party later two farmers dawson james cosmo and old george jim piddock whom will does not know arrive at his house with a large christmas tree ordered by the family the farmers know wills name wish him a happy birthday and predict a storm despite the relatively clear sky wills birthday is so close to christmas that everyone in his large family ignores it except for his little sister gwen emma lockhart who gives him his only birthday present a casio gshock mudman wristwatch the family has moved from the united states to a small english village and one of his brothers has arrived home for the holidays and displaces will to the attic for a christmas present will buys gwen an enigmatic stone pendant at the local mall two suspicious security guards accuse him of shoplifting and take him to their office alarmingly as they question will under the rooms flickering lights the guards metamorphose into rooks they attack will but he manages to escape accidentally using his powers for the first time will begins to experience more odd incidents and receives a strange and celticlooking belt from his oldest brother stephen jordan j dale\\r\\nat the manor christmas party will once again sees dawson and old george who seem to know him well miss greythorne and merriman debate about when and how to approach will about his destiny maggie barnes amelia warner an attractive local girl appears at the party and will becomes upset when one of his older brothers approaches her and begins chatting to her will leaves the manor and an ominous figure mounted on a white horse and accompanied by dogs chases will as the ominous figure prepares to kill will who is currently no match for him miss greythorne merriman dawson and old george suddenly appear and save will merriman names the threatening figure as the rider christopher eccleston who warns them all that in five days time his power  the dark  will rise the four adults are the last of the old ones  ancient warriors who serve the light  and take will on a walk through time and space to a place called the great hall which in the present day is the church the stantons attend will is the last of the old ones to have been born he is the seventh son of a seventh son whose power begins to ascend on his fourteenth birthday though will disputes this idea because he believes he is the sixth son will is the seeker the signseeker who must locate six signs whose possession will grant the light power over the dark the rider is also seeking them will returns home to his attic room and falls and twists his ankle the doctor who calls is the rider in disguise but he is recognized by will the rider demonstrates his powers on wills ankle by alternately healing it and making it much worse before restoring it to its injured state he offers will the chance to have any desire he wants fulfilled in exchange for giving him the signs will discovers he has a lost twin brother named tom who as a baby mysteriously disappeared one night and was never found merriman instructs will on his powers which include sensing the signs summoning superhuman strength commanding light and fire telekinesis stepping through time and the unique knowledge to decipher an ancient text in the book of gramarye unfortunately will learns he cant fly a power he wanted\\r\\nwill returns to the great hall and learns the form each sign will take will reveals the first sign within gwens pendant as the signseeker will travels through time to find the next four signs the rider enlists a mysterious figure to help him get the signs from will when wills brother invites maggie to their home she reveals some of her powers to will will reveals his affections for her saying he felt an instant connection with her he tells her he has been thinking of her constantly the rider also tricks wills older brother max using his magic to partially control him the spell over max is finally broken when will uses his great strength to give max a concussion by the fifth day the dark that the rider commands has now gained tremendous power and begins to attack the village with a terrible blizzard will locates the fifth sign but without the sixth sign the dark continues to rise maggie is revealed to be the mysterious witch helping the rider in exchange for eternal youth she is betrayed by him for failing to get any of the signs when she fails to get the fifth sign and ages rapidly disintegrating into a flood of water while trying to steal them from will the old ones and will seek sanctuary in the great hall where the rider cannot enter unless invited however the riders final trick impersonating the voices of wills mother and father as well as gwen gains him access to the great hall the rider reveals that he has trapped tom whom the rider mistook for the seeker and kidnapped within a glass sphere and apparently took care of all these years he sends will into an evil dark cloud as he enters will solves the riddle of the sixth sign he himself is the sixth sign with all six signs identified the rider cannot touch nor harm will using his power over the dark will banishes both the rider  imprisoning the evil figure within one of his own glass spheres  and the dark the sphere disappears into murky water will and tom are reunited and return to their family who are shocked to see tom',\n",
            "       b'pink is a rock star one of several reasons behind his apparent depressive and detached emotional state he is first seen in an unkempt hotel room motionless and expressionless watching television while the vera lynn recording of the little boy that santa claus forgot plays it is later revealed that pinks father a british soldier was killed in action while defending the anzio bridgehead during world war ii in pinks infancy\\r\\nin a flashback pink is a young english boy growing up in the early 1950s throughout his childhood pink longs for a father figure he discovers a scroll from kind old king george and other relics from his fathers military service and death placing a bullet on the track of an oncoming train at school he is caught writing poems in class and humiliated by the teacher to the tune of another brick in the wall part 2 pink imagines a surrealistically oppressive school system in which children fall into a meat grinder the children then rise in rebellion and destroy the school carrying the teacher away to an unknown fate pink is also negatively affected by his overprotective mother such traumatic experiences are represented as bricks in the metaphorical wall he constructs around himself that divides him from society\\r\\nas an adult pink eventually marries but he and his wife soon grow apart while he is in the united states on tour pink learns that his wife is having an affair he turns to a willing groupie whom he brings back to his hotel room only to trash it in a fit of violence terrifying the groupie out of the room\\r\\npink slowly begins to lose his mind to metaphorical worms he shaves all his body hair and while watching the dam busters on television morphs into a neonazi alterego pinks manager along with the hotel manager and some paramedics discover pink unresponsive and inject him with drugs to enable him to perform\\r\\npink fantasizes that he is a dictator and his concert is a neonazi rally his followers proceed to attack ethnic minorities and pink holds a rally in suburban london singing waiting for the worms the scene is intercut with images of animated marching hammers that goosestep across ruins pink then stops hallucinating and screams stop he then takes refuge in the toilets at the concert venue reciting poems\\r\\nin a climactic animated sequence pink depicted as a small almost inanimate rag doll is on trial and his sentence is to be exposed before his peers the judge gives the order to tear down the wall following a prolonged silence the wall is smashed\\r\\nseveral children are seen cleaning up a pile of debris after an earlier riot with a freezeframe on one of the children emptying a molotov cocktail',\n",
            "       b'when young billy johnson neil patrick harris plays the novelty song a oneeyed onehorned flying purple alien from outer space appears the creature helps billy prevent an elderly couple ned beatty and shelley winters from being evicted by their greedy landlord all while playing in a rock n roll band',\n",
            "       b'rugged mining engineer rian mitchell stewart granger discovers a lost emerald mine in the highlands of colombia which had last been operated by the spanish conquistadors rian is a man consumed by the quest for wealth however he has to contend with local bandits and a savage jaguar\\r\\ntaken to recuperate at the plantation home of local coffee grower catherine knowland grace kelly and her brother donald john ericson rian manages to charm catherine\\r\\nhis partner vic leonard paul douglas is preparing to leave colombia on the next ship rian anxious to get vics assistance to mine the emeralds tricks him into staying returning to the mine rian first gets catherines cooperation and then resumes his romantic overtures\\r\\nhowever his greed to get the emeralds at any cost soon creates trouble he comes into conflict with the chief of the local bandits who threatens catherine at her home he also takes donald into the mining operation despite donalds complete inexperience solely in order to obtain the coffee plantation workers on for his mining needs this however means that catherine does not have enough workers available to pick the coffee when harvest time arrives rians mining operations also put the plantation at risk of flooding\\r\\nwhen a tragic accident at the mine site kills donald even vic abandons his old friend rian and sets out to help catherine with her harvest all the while harboring his own passion for the beautiful young woman\\r\\nit takes a final shootout between the bandits and rians men in which catherine and vic do support him for rian to finally come to his senses and realize his mistakes at great risk to himself he sets in place an explosion of dynamite that not only diverts the water away from catherines plantation but also buries the mine under tons of rubble from where it can no longer be reached rian then reunites with a forgiving catherine',\n",
            "       b'the british government hires an assassin to kill a ministry of defence official suspected of leaking secrets2',\n",
            "       b'sathyaraj in a dual role one role is of an ips officer iyer and the other is of a dada venkatachalapathy the dada throughout the film has a dark skin and sports a bald head\\r\\niyer believes that dadas and rowdies must be eliminated through encounters but his father thinks one does not have the right to take any life dada venkatachalapthy plants bombs at various places in the city and puts the blame on muslims iyer takes venkatachalapathy into custody his sons pasupathi and gajapathi try to kill iyer now iyers father turns against him and joins the villain this sets off a chain of events leading to murders',\n",
            "       b'vichu silambarasan is a quiet village priest brought up by his maternal grandfather nedumudi venu owing to specific reasons the caring elder has purposefully toned down simbu uses his eyes to convey the inner quietude of vichu the young boys emotional quotient and has taught him a peculiar art of living as a result vichu is softspoken passive and is groomed to tolerate all sorts of malicious misdemeanors aimed at him vichu assists his grandfather in carrying out the religious rituals as well as being the caretaker of the temple vichus only consolation comes in the company of his sweetheart janu sana khan janus kiddish jokes and teasing remarks make up for all the precious and youthful moments he has missed in his growingup years\\r\\nthough vichu abides by his elders advice an incident in the temple premises reveals his real persona on the particular day vichu witnesses a big band of ruffians bashing a seemingly meek individual becoming furious at the sight of the powerplay vichu gets into the tussle and saves the victim but as the man takes a hard look at his saviour face he is stunned what is the secrecy in vichus past how does it intimidate the stranger\\r\\ncut to a flashback there is a huge clash between the two village groups headed by muthuvel prabhu and veeraiyan ponvannan reason veeriayan claims back every bit of land he has donated to the landless and poor villagers whereas muthuvel and his brother tamizharasan silambarasan oppose his order in the violent powerstruggle too many people die it includes the fervent activist tamizh his dear wife gayathri sneha and veeraiyan himself veeraiyan stabs himself and says that tamizh stabbed him to death the police come in search of tamizh but he is missing in the house he is with gayathri on that night in a goods train tamizh is produced before court and as he was missing on that night he is doubted and granted punishment but gayathri intervenes and says that she spent that night along with tamizh on that train she says that they behaved like how a husband  wife would be in each others company its proven and tamizh is released only veeraiyans last son duraisingham kishore of polladhavan fame and muthuvel are spared in the tragedy the burning intensity of the mishap stays alive in duraisinghams heart and muthuvel is another witness to the past what happens next duraisingam enters muthuvels house and kills everyone including tamizh a large group of rowdies enter and kill the rest it is revealed that gayathri escapes to her fathers home and later dies giving birth to vichu the rest of the film is about vichu settling the longterm dispute and explaining the situation to his grandfather',\n",
            "       b'in this depressionera tale calef mckinney john furlong is traveling from michigan to california and stops in spooner missouri where lute wade stuart lancaster hires him for odd jobs\\r\\nmckinney gets involved with wades niece hannah brenshaw antoinette christiani but she is married to sidney hal hopper a wifebeating drunk who hopes to inherit his uncleinlaws money\\r\\nsidney and an eccentric preacher named brother hanson frank bolger plot against mckinney who finds it difficult to conceal his mysterious past and his growing affection for sidneys wife',\n",
            "       b'englishman a j fothergill robert donat is recruited by colonel forrester laurence hanray to spy on russia for the british government because he can speak the language fluently as peter ouranoff he infiltrates a revolutionary group led by axelstein basil gill the radicals try to blow up general gregor vladinoff herbert lomas the father of alexandra marlene dietrich when the attempt fails the wouldbe assassin is shot but manages to reach peters apartment where he dies for his inadvertent involvement peter is sent to siberia\\r\\nworld war i makes alexandra a widow and brings the bolsheviks to power freeing peter and axelstein when the russian civil war breaks out alexandra is arrested for being an aristocrat and peter is assigned by nowcommissar axelstein to take her to petrograd to stand trial however peter instead takes her to the safety of the white army their relief is shortlived the red army defeats the white the next day and alexandra is taken captive once more peter steals a commission as a commissar of prisons from a drunk and uses the document to free her the two now deeply in love flee into the forest later they catch a train\\r\\nat a railway station the countess is identified by one communist official but commissar poushkoff john clements is entranced by alexandras beauty insisting that her identity be verified he arranges to take her and fothergill to samara on the train they become good friends he allows the couple to escape at a stop committing suicide to provide a diversion\\r\\nthe lovers board a barge travelling down the volga river alexandra becomes seriously ill when peter goes for a doctor he is arrested by the whites for not having papers meanwhile a red cross doctor finds alexandra and takes her for treatment about to be executed peter makes a break for it and catches the red cross train transporting alexandra out of russia',\n",
            "       b'the movie begins with an underworld don billa prabhas hiding and operating out of malaysia hiding from interpols international criminal list krishnamoorthy krishnam raju an acp working for the interpol has spent the last few years looking for billa leaving behind a life in india\\r\\nduring a chase with the police billa is severely wounded after an accident and dies in front of the acp the acp then secretly holds a funeral for billa interpol officer dharmendra rahman is assigned to work with the acp to capture the elusive billa as noone knows of billas death the acp keeps the death of billa as a secret even from his fellow officers and tracks down a lookalike called swami ranga prabhas a petty thief based in visakhapatnam he asks ranga to infiltrate billas gang by pretending to be billa in return he will make sure that the children ranga adopted lakshmi and sreenu get a proper education in hyderabad\\r\\nthe acp trains ranga and sends him back to billas gang as a person who has lost his memory slowly ranga starts to learn about billas gang and even speaks to devil billas boss on the phone ranga provides a pen drive with the secret information of the crime network to the acp but he is about to be killed by a woman named maya anushka shetty because her brother vikram subbaraju as well as his fiancee priya hansika motwani were killed by billa at this juncture the acp arrives and tells her that he is ranga and not billa since then she begins to assist ranga and the acp in their mission and soon falls in love with ranga later before a party ranga secretly provides information to the acp about a meeting of billas network and lisa namitha billas girlfriend overhears his conversation she challenges ranga but in the fight he accidentally kills her a shootout occurs at the party and the acp is secretly killed by devil leaving his gun behind ranga finds the acps body and the gun but is taken into the custody of the police team now headed by interpol officer dharmendra he argues during interrogation that he is ranga and not billa to dharmendra ranga mentions a piece of evidence  the pen drive which may prove his innocence but the pen drive is nowhere to be found\\r\\nunable to prove his innocence he escapes from a police van he phones dharmendra and ask him to meet at the aero bridge here it is revealed that dharmendra is none other than the underworld crime don devil rahman and he is the one who killed acp krishnamoorthy while escaping from devils gang he meets officer adithya adithya menon who apparently had the pen drive all along and strikes a deal with ranga to get hold of devil meanwhile maya has been kidnapped by devil after she tried to defend ranga from devil maya is tied up and kept in a car with her mouth gagged with a strip of tape ranga decides to pose as billa to devil and provides russian explosives to an arms dealer rashid kelly dorjee who insisted on dealing with billa enraged at being slighted by rashid following the completion of the deal devil and his henchman ranjith fight with ranga soon the police arrive and devil posing as dharmendra asks the police to arrest ranga as billa but gets shot by the squad of police and dies as the police have wired the entire conversation between devil and ranga thus proving rangas innocence\\r\\nthe movie ends with ranga returning to visakhapatnam with maya and deciding to start a school and college there with the government reward given to him and four suitcases of cash he stole from malaysia',\n",
            "       b'tim benton tim mccoy is falsely accused of killing his own father and escapes from prison along with brutish red larkin matthew betz the fugitives head for the former benton mine now operated by the villainous john sebastian ethan laidlaw where tim plans to rob the payroll en route they are discovered by bob dinsmore anders van haden the new marshal of silver city who is killed by red2',\n",
            "       b'an oily carnival hypnotist dr carlo lombardi chester morris conducts experiments in hypnotic regression that take his unwitting female subject andrea talbott marla english to a past life as a prehistoric humanoid form of sea life he uses the physical manifestation of the prehistoric creature to commit murders',\n",
            "       b'a range war develops between cattlemen and sheepmen4 a couple of cowhands dave saunders and chito rafferty get caught in the middle when they rescue tug campbell whos about to be lynched by sheep ranch foreman jess rawlins and his men without a fair trial\\r\\nin town rawlins seeks revenge but saloon singer ruby slips a gun to dave who shoots rawlins pistol from his hand ranch owner chris marvin returns to town and she believes her foreman rawlinss lies including his attempt to frame dave and chito after they catch one of rawlins men redhanded rustling sheep\\r\\nrawlins shoots the rustler with a rifle then takes dave and chito prisoner and intends to hang them ruby intervenes again sneaking a gun to chito inside a guitar the cowhands prove to chris that the rustler was killed with a rifle which neither of them carries a gunfight leads to dawkins being dealt with dave and chris forming a bond but when ruby begins feeling romantic chito has other ideas and rides off',\n",
            "       b'noor jahaan is the story of two young lovers noor played by adrit roy and jahaan played by puja cherry3',\n",
            "       b'in a baltimore neighborhood known for having the thickest local accent pecker is an unassuming 18yearold who works in a sandwich shop and takes photos of his loving but peculiar family and friends on the side pecker so named for his childhood habit of pecking at his food stumbles into fame when his work is discovered by a savvy new york art dealer rorey wheeler peckers pictures taken with a cheap canon canonet 28 are grainy outoffocus studies of unglamorous subjects but they strike a chord with new york art collectors\\r\\nunfortunately instant overexposure has its downside roreys efforts to turn pecker into an art sensation threaten to ruin the lowkey lifestyle that was his inspiration he abandons his trusty old rangefinder camera for a new fullfeatured nikon n50 pecker finds that his best friend matt cant shoplift anymore now that peckers photographs have increased his visibility shelley peckers obsessive girlfriend who runs a laundromat seems especially distressed when the press dub her a stain goddess and mistake her goodnatured pinup poses for pornographic comeons\\r\\nwhen his family is dubbed culturally challenged by an overzealous critic they begin to feel the uncomfortable glare of stardom peckers mother joyce is no longer free to dispense fashion tips to the homeless clientele at her thrift shop peckers grandmother memama endures public ridicule when her experience with a talking statue of the virgin mary is exposed on the cover of a national art magazine tina peckers older sister is fired from her job emceeing gogo dancing at a gay bar because peckers edgy photographs chronicle the sex practices of the clubs patrons even little chrissy his sixyearold sister feels the pressure of celebrity when her eating disorder is exposed bringing unwanted attention from nosy child welfare agencies and shes mistakenly diagnosed with attentiondeficit hyperactivity disorder and prescribed ritalin\\r\\nafter peckers newfound fame disrupts the lives of his family and friends pecker turns the tables on the art world by refusing to participate in a scheduled show at the whitney museum of art instead he forces new york art collectors to come to baltimore to see his latest photographs which portray the same people who disparaged his family in an unflattering light one photo shows lynn wentworth adjusting her breasts in a mirror\\r\\npecker is then asked what he plans to do next he replies that he would like to direct a film',\n",
            "       b'a feud is waged between two families in ireland  the brodricks and the donovans  over the sinking of a copper mine in hungry hill by copper john brodrick the feud has repercussions down three generations4\\r\\ncopper john brodrick wants to mine copper at hungry hill of his two sons henry is enthusiastic but greyhound john is reluctant the mine goes ahead despite opposition of the donovan family\\r\\nfanny rose flirts with both john and henry the donovans lead a riot at the mine which results in henrys death\\r\\njohn becomes a lawyer and is the heir to the mine but is reluctant to take over he resumes his romance with fanny rose',\n",
            "       b'the film begins with a flashforward to a later scene in the movie in which russell redds cube and jellyroll epps are running out of a concert being chased by an angry mob and shot at as they drive off in redds car the plot starts off with russell redds coming home late and sneaking into his wifes purse to get her checkbook he then hears her wake up and pretends to sleep only to be caught by his wife who already knows what happened this indicates that redds does not have all the money for the concert yet\\r\\nmeanwhile his copartner jellyroll is fooling around with another mans wife at a hotel only to be encountered by a television shows crew a cameo appearance by joey greco  who hunts down people who cheat on their loved ones suddenly ginas husband ronnie who is a cop drives into the parking lot and starts to shoot at them from his cop car as jellyroll and gina escape by car\\r\\nredds visits his mom and begs for money but is turned down and is forced to steal his wifes checkbook while she is in the shower he checks up on his son who goes by yung semore and makes sure he is ready to open up for jeezy and perform at the concert he continues his plans by picking up jellyroll and getting a rentavan to pick up young jeezy instead of getting a limo he gets jellyroll to pick them up from the airport as he runs errands around modesto california getting more money or getting hotel reservations for the rapper and his entourage\\r\\nafter taking forever to arrive at the airport jellyroll finally shows up and picks the rapper up at the airport he finds out that jeezy wants some weed badly so he decides to take them to the hood to get some he meets up with his drug dealer mondo who scolds him for getting weed for the rapper and asks if jeezy can come to his after party jellyroll insists that the rapper wants 20000 dollars to show up and mondo accepts and gives him the money this is where things start to turn for the promoters as jellyroll spends the 20000 dollars on clothes and jewelry instead of using it for the show to pay jeezy his money from there the movie turns wild and intense as russell redds and jellyroll try to figure out a way to get jeezy to perform while dodging mondo and his crew and getting the money to pay jeezy to perform',\n",
            "       b'detachment is a chronicle of one month in the lives of several high school teachers administrators and students through the eyes of a substitute teacher named henry barthes adrien brody barthes method of imparting vital knowledge to his temporary students is interrupted by the arrival of three women in his life  the damaged and naive prostitute erica sami gayle a fellow teacher christina hendricks and a troubled teen named meredith betty kaye these women all have profound effects on barthes life forcing him to both rediscover aspects of his own personality and to come to terms with both the tragic suicide of his mother and the impending death of his grandfather the film is punctuated with flashbacks of scenes of barthes young childhood and his mothers suicide\\r\\nsubplots include the struggles of dr parker lucy liu within her role as the school counselor and the painful torment of principal dearden marcia gay harden who faces her dismissal as head of this deeply flawed school',\n",
            "       b'in libya in 1942citation needed captain alex foster burton an intelligence officer with the british army allows himself to be captured by a german afrika korps convoy transporting british prisoners pretending to be injured once integrated with the prisoners remnants of a commando force and a medical unit foster outlines his plans to take over the convoy with the help of the prisoners and redirect it towards the libyan port town of tobruk\\r\\non the way they find an unexpected concentration of german tanks and they surmise that a fuel depot must be hidden nearby foster in afrika corps uniform and major tarkington clinton greyn the medical officer as his prisoner gain access to the depot and meet field marshal erwin rommel wolfgang preiss during a friendly dispute over philately between rommel and tarkington foster notices a map which indicates the location of the fuel depot\\r\\nthey make excuses leave capture a tank and blow up the fuel dump they escape towards tobruk where they destroy a coastal battery the prisoners are embarked in boats launched by attacking royal navy warships however foster and tarkington are captured by german soldiers the film leaves their fates unexplained',\n",
            "       b'set in 1869 after the civil war texas had not yet been readmitted to the union and carpetbaggers hiding behind the legal protection of the union army of occupation had taken over the state federal captain porter randolph scott a texan has to carry out orders against his own people he brings in the rebel leader ben westman charles mcgraw whom he knows is innocent of a murder that he is accused of in trying to prove his innocence porter himself becomes a wanted man',\n",
            "       b'joe brady and clarence doolittle are navy sailors who have a fourday leave in hollywood joe has his heart set on spending time with his girl the unseen lola clarence the shy choir boy turned sailor asks joe to teach him how to get girls donald a little boy who wants to join the navy is found wandering around the boulevard by a cop who takes him to the police station clarence and joe end up being picked up by the cops to help convince donald to go home after the two sailors wait at home and entertain donald donalds aunt susie arrives clarence is smitten with her from the beginning susan goes on to tell them that she has been trying to find work in music and longs to perform with jos\\xc3\\xa9 iturbi trying to make susan impressed with clarence joe tells her that clarence is a personal friend of iturbi and that he has arranged an audition for susan with him that night they go out to a cafe on an mgm recreation of olvera street where clarence meets a girl from brooklyn and they hit it off the next day joe visits donalds school and tells the kids the story of how he got his medal and how he brought happiness to a lonesome king played by jerry mouse from tom and jerry with tom briefly appearing as a servant and joy to the forest animals of the kingdom\\r\\nmeanwhile clarence has been trying to get into metrogoldwynmayer studios to find iturbi with no luck after many failed attempts to find iturbi including a rehearsal at the hollywood bowl all hope is lost for joe and clarence who want to come clean with susan and tell her there was no audition on clarence and joes last day of leave susan runs into iturbi in the studio commissary who has no idea of the audition susan begins to call joe whom by now she has fallen in love with to yell at him iturbi stops her and agrees to get her a screen test which turns out to be very successful the movie ends as iturbi conducts the choir in singing anchors aweigh and joe susan clarence and the girl from brooklyn kiss',\n",
            "       b'the peace and quiet enjoyed by the residents of the exclusive neighborhood of rock bay long island is disturbed by a newspaper gossip column tidbit that one of their maids is writing a tellall book about her employers since the author is not identified each family fears that its secrets will be aired in public among those confused and distraught are dr sommerfield melville cooper and his wife sophia spring byington their teenage daughter miranda virginia weidler however is thrilled their longtime cook mrs mckessic marjorie main arranges a meeting of the neighborhood servants in which they decide to band together against the attempts by many of their employers to spy on them to learn who the writer is\\r\\nthe author is the sommerfields young maid martha lindstrom marsha hunt she secretly visits her publisher joel archer allyn joslyn to try to get him to stop planting stories in the newspapers to generate interest in the upcoming book\\r\\nwhen the sommerfields son jeff richard carlson returns unexpectedly after a year and a half away studying the eskimos he introduces the family to his new fiancee mathematician sylvia norwood frances drake this upsets martha greatly although she manages to hide it it turns out that just before he left on his expedition jeff got drunk and married martha when he sobered up he had second thoughts as he had to leave almost immediately he gave martha money to get an annulment or a divorce unbeknownst to him she did not do so as she was in love with him instead she took night classes to make herself more acceptable to his social class jeff is surprised to find her still working for his family when he discovers they are still married he insists she get the marriage dissolved so he can wed sylvia\\r\\nto complicate her life even further both archer and local casanova and handyman danny obrien barry nelson are strongly attracted to martha she is tempted by archer as jeff shows no signs of returning her feelings for him\\r\\nfinally archer crashes the sommerfields dinner party and is provoked by the guests harsh comments into stating first that he will be publishing the book and then that martha is the author after the last revelation martha flees with archer in his car jeff realizes he loves her he chases and catches her and they are reconciled',\n",
            "       b'leonard hoffman is a los angeles insurance agent with a problem on his hands he has teenage triplets who are all gifted musicians but wife arlene insists that the kids attend college at yale requiring more than 40000 in tuition rather than less expensive schools like nearby ucla\\r\\nthis situation is on leonards mind when he pays a business call to the beverly hills mansion of steve and blanche rickey he is met by a flirtatious and scantily clad blanche who explains a problem of her ownsteve is dying with less than a week to live but accidentally let his lifeinsurance policy lapse\\r\\na scheme is hatched involving a policy with a doubleindemnity clause steve has to die in an unexpected fashion for this to happen but he may or may not cooperate',\n",
            "       b'bob wiley is a goodnatured man with great work ethic but he suffers from multiple phobias and is divorced because his exwife likes neil diamond he feels good about the results of an initial session with dr leo marvin an egotistical new york psychoanalyst however bob is immediately left on his own with a copy of leos new book baby steps when the doctor goes on vacation to lake winnipesaukee new hampshire for a month unable to cope bob follows leo to his vacation home leo is annoyed because he does not see patients on vacation but seeing how desperate bob is tells him to take a vacation from his problems bob seems to have made a breakthrough but the next morning he tells leo that he decided to take a vacation in spirit and fact at lake winnipesaukee as a guest of the guttmans a couple who own a coffee shop and happily welcome bob as their guest the couple encourages bob to be around leo as they hold a grudge against dr marvin for purchasing the lakeside home they had been saving for years to buy\\r\\nbob suggests that they start a friendship but leo thinks being friends with a patient is beneath him and attempts to avoid any further contact however bob swiftly ingratiates himself with leos family who think bob may have some foibles but is otherwise a balanced and sociable man leos children anna and sigmund find that bob relates well to their problems in contrast with their fathers clinical approach bob gains an enjoyment of life from his association with them he goes sailing with anna and helps sigmund to dive into the lake which leo was unable to help him with leo then angrily pushes bob into the lake and leos wife fay insists on inviting bob to dinner to apologize bob who believes leos slights against him are accidental andor part of his therapy accepts the invitation after dinner a thunderstorm forces bob to spend the night leo wants bob out of the house early the next morning before good morning america arrives to interview him about baby steps the television crew arrives early and oblivious to leos discomfort suggest having bob on the show as well leo is tense and makes a fool out of himself during the interview while bob is relaxed and speaks glowingly of leo and the book unintentionally stealing the spotlight\\r\\noutraged leo throws a tantrum and then attempts to have bob committed but bob is soon released after telling the staff of the institution therapy jokes easily demonstrating his sanity forced to retrieve him leo then abandons bob in the middle of nowhere but bob quickly gets a ride back to leos house while various mishaps delay leo until nightfall leo is then surprised by the birthday party that fay has been secretly planning for him and he is delighted to see his beloved sister lily but when bob appears and puts his arm around lily leo becomes enraged and attacks him bob remains oblivious to leos hostility until fay explains that leo has a grudge against bob who then agrees to leave meanwhile leo breaks into a general store stealing a shotgun and 20 pounds of explosives leo kidnaps bob at gunpoint and leads him deep into the woods ties him up and straps the explosives onto him calling it death therapy leo then returns to the house gleefully preparing his cover story believing the explosives to be props and used as a metaphor for his problems bob applies leos baby steps approach and manages to free himself both of his physical restraints and his fears he reunites with the marvins and praises leo for curing him with death therapy the marvins vacation home detonates after bob reveals that he left the explosives inside the shock leaves leo in a catatonic state\\r\\nsome time later the stillcatatonic leo is brought to bob and lilys wedding upon their pronouncement as husband and wife leo regains his senses and screams no but the sentiment is lost in the familys excitement at his recovery text at the end reveals that bob went back to school and became a psychologist then wrote a best selling book titled death therapy and that leo is suing him for the rights',\n",
            "       b'film begins when jinn sreenath bhasi narrates about a village and few of the village guys such as ahmed unni mukundan a web journalist and passionate football player1  who accidentally saw a girl chandini sreedharan2 in a film festival held at kozhikode and become lonely thinking about her things change when shadiya joins his college for a project and teacher ali santhosh keezhztoor wants ahmed to guide shadiya about the lectures and college campus two of them fall in love and later decides to marry secretly being his best friend ahmed tells faizal aju varghese about his affair and their marriage faizal tells this matter to ajmal saiju kurup ahmeds brother on the day where shadiya and ahmed left the town for marriage ajmal along with faizal and few of their friends went in search for ahmed and shadiya film portrays the remaining incidents on this day\\r\\nthe music label for the movie is muzik247'],\n",
            "      dtype=object)>, 'Ethnicity_American': <tf.Tensor: shape=(32,), dtype=uint8, numpy=\n",
            "array([0, 1, 1, 0, 1, 0, 1, 1, 0, 1, 1, 0, 0, 0, 1, 0, 0, 1, 1, 1, 0, 1,\n",
            "       0, 1, 1, 1, 1, 1, 1, 1, 1, 0], dtype=uint8)>, 'Ethnicity_Assamese': <tf.Tensor: shape=(32,), dtype=uint8, numpy=\n",
            "array([0, 0, 0, 0, 0, 0, 0, 0, 0, 0, 0, 0, 0, 0, 0, 0, 0, 0, 0, 0, 0, 0,\n",
            "       0, 0, 0, 0, 0, 0, 0, 0, 0, 0], dtype=uint8)>, 'Ethnicity_Australian': <tf.Tensor: shape=(32,), dtype=uint8, numpy=\n",
            "array([0, 0, 0, 0, 0, 0, 0, 0, 0, 0, 0, 0, 0, 0, 0, 0, 0, 0, 0, 0, 0, 0,\n",
            "       0, 0, 0, 0, 0, 0, 0, 0, 0, 0], dtype=uint8)>, 'Ethnicity_Bangladeshi': <tf.Tensor: shape=(32,), dtype=uint8, numpy=\n",
            "array([0, 0, 0, 0, 0, 0, 0, 0, 0, 0, 0, 0, 0, 0, 0, 0, 0, 0, 0, 0, 1, 0,\n",
            "       0, 0, 0, 0, 0, 0, 0, 0, 0, 0], dtype=uint8)>, 'Ethnicity_Bengali': <tf.Tensor: shape=(32,), dtype=uint8, numpy=\n",
            "array([0, 0, 0, 0, 0, 0, 0, 0, 0, 0, 0, 0, 0, 0, 0, 0, 0, 0, 0, 0, 0, 0,\n",
            "       0, 0, 0, 0, 0, 0, 0, 0, 0, 0], dtype=uint8)>, 'Ethnicity_Bollywood': <tf.Tensor: shape=(32,), dtype=uint8, numpy=\n",
            "array([0, 0, 0, 0, 0, 0, 0, 0, 0, 0, 0, 0, 0, 0, 0, 0, 0, 0, 0, 0, 0, 0,\n",
            "       0, 0, 0, 0, 0, 0, 0, 0, 0, 0], dtype=uint8)>, 'Ethnicity_British': <tf.Tensor: shape=(32,), dtype=uint8, numpy=\n",
            "array([0, 0, 0, 1, 0, 1, 0, 0, 1, 0, 0, 1, 0, 0, 0, 1, 0, 0, 0, 0, 0, 0,\n",
            "       1, 0, 0, 0, 0, 0, 0, 0, 0, 0], dtype=uint8)>, 'Ethnicity_Canadian': <tf.Tensor: shape=(32,), dtype=uint8, numpy=\n",
            "array([0, 0, 0, 0, 0, 0, 0, 0, 0, 0, 0, 0, 0, 0, 0, 0, 0, 0, 0, 0, 0, 0,\n",
            "       0, 0, 0, 0, 0, 0, 0, 0, 0, 0], dtype=uint8)>, 'Ethnicity_Chinese': <tf.Tensor: shape=(32,), dtype=uint8, numpy=\n",
            "array([0, 0, 0, 0, 0, 0, 0, 0, 0, 0, 0, 0, 0, 0, 0, 0, 0, 0, 0, 0, 0, 0,\n",
            "       0, 0, 0, 0, 0, 0, 0, 0, 0, 0], dtype=uint8)>, 'Ethnicity_Egyptian': <tf.Tensor: shape=(32,), dtype=uint8, numpy=\n",
            "array([0, 0, 0, 0, 0, 0, 0, 0, 0, 0, 0, 0, 0, 0, 0, 0, 0, 0, 0, 0, 0, 0,\n",
            "       0, 0, 0, 0, 0, 0, 0, 0, 0, 0], dtype=uint8)>, 'Ethnicity_Filipino': <tf.Tensor: shape=(32,), dtype=uint8, numpy=\n",
            "array([0, 0, 0, 0, 0, 0, 0, 0, 0, 0, 0, 0, 0, 0, 0, 0, 0, 0, 0, 0, 0, 0,\n",
            "       0, 0, 0, 0, 0, 0, 0, 0, 0, 0], dtype=uint8)>, 'Ethnicity_Hong Kong': <tf.Tensor: shape=(32,), dtype=uint8, numpy=\n",
            "array([0, 0, 0, 0, 0, 0, 0, 0, 0, 0, 0, 0, 0, 0, 0, 0, 0, 0, 0, 0, 0, 0,\n",
            "       0, 0, 0, 0, 0, 0, 0, 0, 0, 0], dtype=uint8)>, 'Ethnicity_Japanese': <tf.Tensor: shape=(32,), dtype=uint8, numpy=\n",
            "array([0, 0, 0, 0, 0, 0, 0, 0, 0, 0, 0, 0, 0, 0, 0, 0, 0, 0, 0, 0, 0, 0,\n",
            "       0, 0, 0, 0, 0, 0, 0, 0, 0, 0], dtype=uint8)>, 'Ethnicity_Kannada': <tf.Tensor: shape=(32,), dtype=uint8, numpy=\n",
            "array([0, 0, 0, 0, 0, 0, 0, 0, 0, 0, 0, 0, 0, 0, 0, 0, 0, 0, 0, 0, 0, 0,\n",
            "       0, 0, 0, 0, 0, 0, 0, 0, 0, 0], dtype=uint8)>, 'Ethnicity_Malayalam': <tf.Tensor: shape=(32,), dtype=uint8, numpy=\n",
            "array([0, 0, 0, 0, 0, 0, 0, 0, 0, 0, 0, 0, 0, 0, 0, 0, 0, 0, 0, 0, 0, 0,\n",
            "       0, 0, 0, 0, 0, 0, 0, 0, 0, 1], dtype=uint8)>, 'Ethnicity_Malaysian': <tf.Tensor: shape=(32,), dtype=uint8, numpy=\n",
            "array([0, 0, 0, 0, 0, 0, 0, 0, 0, 0, 0, 0, 0, 0, 0, 0, 0, 0, 0, 0, 0, 0,\n",
            "       0, 0, 0, 0, 0, 0, 0, 0, 0, 0], dtype=uint8)>, 'Ethnicity_Maldivian': <tf.Tensor: shape=(32,), dtype=uint8, numpy=\n",
            "array([0, 0, 0, 0, 0, 0, 0, 0, 0, 0, 0, 0, 0, 0, 0, 0, 0, 0, 0, 0, 0, 0,\n",
            "       0, 0, 0, 0, 0, 0, 0, 0, 0, 0], dtype=uint8)>, 'Ethnicity_Marathi': <tf.Tensor: shape=(32,), dtype=uint8, numpy=\n",
            "array([0, 0, 0, 0, 0, 0, 0, 0, 0, 0, 0, 0, 0, 0, 0, 0, 0, 0, 0, 0, 0, 0,\n",
            "       0, 0, 0, 0, 0, 0, 0, 0, 0, 0], dtype=uint8)>, 'Ethnicity_Punjabi': <tf.Tensor: shape=(32,), dtype=uint8, numpy=\n",
            "array([0, 0, 0, 0, 0, 0, 0, 0, 0, 0, 0, 0, 0, 0, 0, 0, 0, 0, 0, 0, 0, 0,\n",
            "       0, 0, 0, 0, 0, 0, 0, 0, 0, 0], dtype=uint8)>, 'Ethnicity_Russian': <tf.Tensor: shape=(32,), dtype=uint8, numpy=\n",
            "array([0, 0, 0, 0, 0, 0, 0, 0, 0, 0, 0, 0, 0, 0, 0, 0, 0, 0, 0, 0, 0, 0,\n",
            "       0, 0, 0, 0, 0, 0, 0, 0, 0, 0], dtype=uint8)>, 'Ethnicity_South_Korean': <tf.Tensor: shape=(32,), dtype=uint8, numpy=\n",
            "array([0, 0, 0, 0, 0, 0, 0, 0, 0, 0, 0, 0, 0, 0, 0, 0, 0, 0, 0, 0, 0, 0,\n",
            "       0, 0, 0, 0, 0, 0, 0, 0, 0, 0], dtype=uint8)>, 'Ethnicity_Tamil': <tf.Tensor: shape=(32,), dtype=uint8, numpy=\n",
            "array([0, 0, 0, 0, 0, 0, 0, 0, 0, 0, 0, 0, 1, 1, 0, 0, 0, 0, 0, 0, 0, 0,\n",
            "       0, 0, 0, 0, 0, 0, 0, 0, 0, 0], dtype=uint8)>, 'Ethnicity_Telugu': <tf.Tensor: shape=(32,), dtype=uint8, numpy=\n",
            "array([1, 0, 0, 0, 0, 0, 0, 0, 0, 0, 0, 0, 0, 0, 0, 0, 1, 0, 0, 0, 0, 0,\n",
            "       0, 0, 0, 0, 0, 0, 0, 0, 0, 0], dtype=uint8)>, 'Ethnicity_Turkish': <tf.Tensor: shape=(32,), dtype=uint8, numpy=\n",
            "array([0, 0, 0, 0, 0, 0, 0, 0, 0, 0, 0, 0, 0, 0, 0, 0, 0, 0, 0, 0, 0, 0,\n",
            "       0, 0, 0, 0, 0, 0, 0, 0, 0, 0], dtype=uint8)>, 'label': <tf.Tensor: shape=(32,), dtype=int64, numpy=\n",
            "array([ 0,  9,  0, 15, 13,  8, 12, 13, 14,  7,  0, 12,  0,  0, 12, 12,  0,\n",
            "        0,  0,  0, 16,  8, 12,  8, 12,  0,  0, 14, 16,  8,  8,  7])>}\n"
          ]
        }
      ]
    },
    {
      "cell_type": "code",
      "source": [
        "train_df = pd.DataFrame.from_dict(dict(raw_train_ds))\n",
        "val_df = pd.DataFrame.from_dict(dict(raw_val_ds))\n",
        "test_df = pd.DataFrame.from_dict(dict(raw_test_ds))"
      ],
      "metadata": {
        "id": "5EmUxjPcLEFV",
        "outputId": "c5139e61-ca7e-4e96-a442-e6f9e60ff680",
        "colab": {
          "base_uri": "https://localhost:8080/",
          "height": 200
        }
      },
      "execution_count": 24,
      "outputs": [
        {
          "output_type": "error",
          "ename": "ValueError",
          "evalue": "ignored",
          "traceback": [
            "\u001b[0;31m---------------------------------------------------------------------------\u001b[0m",
            "\u001b[0;31mValueError\u001b[0m                                Traceback (most recent call last)",
            "\u001b[0;32m<ipython-input-24-aa1eaca61a71>\u001b[0m in \u001b[0;36m<module>\u001b[0;34m\u001b[0m\n\u001b[0;32m----> 1\u001b[0;31m \u001b[0mtrain_df\u001b[0m \u001b[0;34m=\u001b[0m \u001b[0mpd\u001b[0m\u001b[0;34m.\u001b[0m\u001b[0mDataFrame\u001b[0m\u001b[0;34m.\u001b[0m\u001b[0mfrom_dict\u001b[0m\u001b[0;34m(\u001b[0m\u001b[0mdict\u001b[0m\u001b[0;34m(\u001b[0m\u001b[0mraw_train_ds\u001b[0m\u001b[0;34m)\u001b[0m\u001b[0;34m)\u001b[0m\u001b[0;34m\u001b[0m\u001b[0;34m\u001b[0m\u001b[0m\n\u001b[0m\u001b[1;32m      2\u001b[0m \u001b[0mval_df\u001b[0m \u001b[0;34m=\u001b[0m \u001b[0mpd\u001b[0m\u001b[0;34m.\u001b[0m\u001b[0mDataFrame\u001b[0m\u001b[0;34m.\u001b[0m\u001b[0mfrom_dict\u001b[0m\u001b[0;34m(\u001b[0m\u001b[0mdict\u001b[0m\u001b[0;34m(\u001b[0m\u001b[0mraw_val_ds\u001b[0m\u001b[0;34m)\u001b[0m\u001b[0;34m)\u001b[0m\u001b[0;34m\u001b[0m\u001b[0;34m\u001b[0m\u001b[0m\n\u001b[1;32m      3\u001b[0m \u001b[0mtest_df\u001b[0m \u001b[0;34m=\u001b[0m \u001b[0mpd\u001b[0m\u001b[0;34m.\u001b[0m\u001b[0mDataFrame\u001b[0m\u001b[0;34m.\u001b[0m\u001b[0mfrom_dict\u001b[0m\u001b[0;34m(\u001b[0m\u001b[0mdict\u001b[0m\u001b[0;34m(\u001b[0m\u001b[0mraw_test_ds\u001b[0m\u001b[0;34m)\u001b[0m\u001b[0;34m)\u001b[0m\u001b[0;34m\u001b[0m\u001b[0;34m\u001b[0m\u001b[0m\n",
            "\u001b[0;31mValueError\u001b[0m: dictionary update sequence element #0 has length 27; 2 is required"
          ]
        }
      ]
    },
    {
      "cell_type": "code",
      "source": [
        "# define parameters\n",
        "max_features = 500\n",
        "batch_size = 32\n",
        "epochs = 10\n",
        "learning_rate = 0.001\n",
        "\n",
        "# load data\n",
        "train_ds, val_ds, test_ds, n_labels = load_data_wiki(path)\n",
        "\n",
        "# create text vectorization layer\n",
        "text_vectorizer = TextVectorization(max_tokens=max_features, output_mode='binary')\n",
        "train_text = train_ds.pop('Title')\n",
        "text_vectorizer.adapt(train_text)\n",
        "\n",
        "# define the model\n",
        "model = tf.keras.Sequential([\n",
        "    text_vectorizer,\n",
        "    tf.keras.layers.Dense(64, activation='relu'),\n",
        "    tf.keras.layers.Dense(n_labels, activation='softmax')\n",
        "])\n",
        "\n",
        "# compile the model\n",
        "optimizer = tf.keras.optimizers.Adam(learning_rate=learning_rate)\n",
        "model.compile(optimizer=optimizer, loss='sparse_categorical_crossentropy', metrics=['accuracy'])\n",
        "\n",
        "# train the model\n",
        "history = model.fit(train_ds, epochs=epochs, validation_data=val_ds, verbose=2)\n",
        "\n",
        "# evaluate the model on test data\n",
        "test_loss, test_acc = model.evaluate(test_ds)\n",
        "print('Test accuracy:', test_acc)\n"
      ],
      "metadata": {
        "id": "p-57TyHhDM6t",
        "outputId": "f4ebec8d-cd44-4dff-9638-73b9ce7c4211",
        "colab": {
          "base_uri": "https://localhost:8080/",
          "height": 235
        }
      },
      "execution_count": 15,
      "outputs": [
        {
          "output_type": "error",
          "ename": "AttributeError",
          "evalue": "ignored",
          "traceback": [
            "\u001b[0;31m---------------------------------------------------------------------------\u001b[0m",
            "\u001b[0;31mAttributeError\u001b[0m                            Traceback (most recent call last)",
            "\u001b[0;32m<ipython-input-15-e895a2abc709>\u001b[0m in \u001b[0;36m<module>\u001b[0;34m\u001b[0m\n\u001b[1;32m     10\u001b[0m \u001b[0;31m# create text vectorization layer\u001b[0m\u001b[0;34m\u001b[0m\u001b[0;34m\u001b[0m\u001b[0;34m\u001b[0m\u001b[0m\n\u001b[1;32m     11\u001b[0m \u001b[0mtext_vectorizer\u001b[0m \u001b[0;34m=\u001b[0m \u001b[0mTextVectorization\u001b[0m\u001b[0;34m(\u001b[0m\u001b[0mmax_tokens\u001b[0m\u001b[0;34m=\u001b[0m\u001b[0mmax_features\u001b[0m\u001b[0;34m,\u001b[0m \u001b[0moutput_mode\u001b[0m\u001b[0;34m=\u001b[0m\u001b[0;34m'binary'\u001b[0m\u001b[0;34m)\u001b[0m\u001b[0;34m\u001b[0m\u001b[0;34m\u001b[0m\u001b[0m\n\u001b[0;32m---> 12\u001b[0;31m \u001b[0mtrain_text\u001b[0m \u001b[0;34m=\u001b[0m \u001b[0mtrain_ds\u001b[0m\u001b[0;34m.\u001b[0m\u001b[0mpop\u001b[0m\u001b[0;34m(\u001b[0m\u001b[0;34m'Title'\u001b[0m\u001b[0;34m)\u001b[0m\u001b[0;34m\u001b[0m\u001b[0;34m\u001b[0m\u001b[0m\n\u001b[0m\u001b[1;32m     13\u001b[0m \u001b[0mtext_vectorizer\u001b[0m\u001b[0;34m.\u001b[0m\u001b[0madapt\u001b[0m\u001b[0;34m(\u001b[0m\u001b[0mtrain_text\u001b[0m\u001b[0;34m)\u001b[0m\u001b[0;34m\u001b[0m\u001b[0;34m\u001b[0m\u001b[0m\n\u001b[1;32m     14\u001b[0m \u001b[0;34m\u001b[0m\u001b[0m\n",
            "\u001b[0;31mAttributeError\u001b[0m: 'BatchDataset' object has no attribute 'pop'"
          ]
        }
      ]
    },
    {
      "cell_type": "markdown",
      "source": [
        "The dictionary can now be used with tf.data.Dataset.from_tensor_slices to create the training dataset. The same process can be followed for the validation and test sets. Be sure to print intermediate results (dataframes, datasets) to ensure that the datasets are in the expected format before using them for training."
      ],
      "metadata": {
        "id": "Uqln4yACV8BY"
      }
    },
    {
      "cell_type": "code",
      "source": [
        "import pandas as pd\n",
        "import numpy as np\n",
        "import tensorflow as tf\n",
        "\n",
        "# Load the movie plots dataset\n",
        "df = pd.read_csv(path, compression='gzip')\n",
        "\n",
        "# Preprocess the titles column\n",
        "def preprocess_titles(title):\n",
        "    # Remove parentheses and their contents\n",
        "    title = re.sub(r'\\([^)]*\\)', '', title)\n",
        "    # Remove any remaining punctuation\n",
        "    title = re.sub(r'[^\\w\\s]', '', title)\n",
        "    # Convert to lowercase\n",
        "    title = title.lower()\n",
        "    return title\n",
        "\n",
        "df['Title'] = df['Title'].apply(preprocess_titles)\n",
        "\n",
        "# Convert Origin/Ethnicity and Genre to one-hot encoded variables\n",
        "df = pd.get_dummies(df, columns=['Origin/Ethnicity', 'Genre'])\n",
        "\n",
        "# Split the dataset into train, validation, and test sets\n",
        "train_df, val_df, test_df = np.split(df.sample(frac=1, random_state=42), [int(0.6*len(df)), int(0.8*len(df))])\n",
        "\n",
        "# Convert the dataframes to dictionaries\n",
        "train_dict = {'Title': train_df['Title'].values, 'Origin/Ethnicity': train_df.filter(like='Origin/Ethnicity').values.astype(np.float64), 'Plot': train_df['Plot'].values, 'Genre': train_df.filter(like='Genre').values.astype(np.float64)}\n",
        "val_dict = {'Title': val_df['Title'].values, 'Origin/Ethnicity': val_df.filter(like='Origin/Ethnicity').values.astype(np.float64), 'Plot': val_df['Plot'].values, 'Genre': val_df.filter(like='Genre').values.astype(np.float64)}\n",
        "test_dict = {'Title': test_df['Title'].values, 'Origin/Ethnicity': test_df.filter(like='Origin/Ethnicity').values.astype(np.float64), 'Plot': test_df['Plot'].values, 'Genre': test_df.filter(like='Genre').values.astype(np.float64)}\n",
        "\n",
        "# Create tf.data.Dataset objects from the dictionaries\n",
        "train_dataset = tf.data.Dataset.from_tensor_slices(train_dict)\n",
        "val_dataset = tf.data.Dataset.from_tensor_slices(val_dict)\n",
        "test_dataset = tf.data.Dataset.from_tensor_slices(test_dict)\n",
        "\n",
        "# Print the first few entries in the training dataset\n",
        "for elem in train_dataset.take(5):\n",
        "    print(elem)\n"
      ],
      "metadata": {
        "id": "7FM7O2RDV8oN",
        "outputId": "1c98e1b3-8236-4f88-d7ad-f7661cc93d9d",
        "colab": {
          "base_uri": "https://localhost:8080/"
        }
      },
      "execution_count": null,
      "outputs": [
        {
          "output_type": "stream",
          "name": "stdout",
          "text": [
            "{'Title': <tf.Tensor: shape=(), dtype=string, numpy=b'creature with the atom brain'>, 'Origin/Ethnicity': <tf.Tensor: shape=(24,), dtype=float64, numpy=\n",
            "array([1., 0., 0., 0., 0., 0., 0., 0., 0., 0., 0., 0., 0., 0., 0., 0., 0.,\n",
            "       0., 0., 0., 0., 0., 0., 0.])>, 'Plot': <tf.Tensor: shape=(), dtype=string, numpy=b\"A hulking zombie breaks into a mansion and kills a gangster named Hennesy. The blood stains left behind at the crime scene are radioactive, and the fingerprints of the killer are of a man who had died days before the murder; the police are baffled.\\r\\nGangster boss Frank Buchanan, who had been forced to flee the United States before he was deported, was betrayed by members of his own underworld gang. While traveling in Europe, he finds ex-Nazi scientist Wilhelm Steigg (Gaye), who is trying to reanimate the dead in order to provide a menial labor pool that is easily exploited. Buchanan funds the research and brings the scientist to America with the unstated goal of sending Steigg's zombies out to murder those who ousted him; one by one, they are killed in the same fashion.\\r\\nThe police eventually discover the common connection between the murdered gang members and Buchanan. They try to put the remaining three into protective custody, but Buchanan uses a reanimated dead cop to kill one of them, and a reanimated dead police captain to kill the remaining two. When the zombie captain is captured, police doctor, Dr. Chet Walker (Denning) discovers an atomic-powered remote control brain implant and deduces what has been going on.\\r\\nPolice and army troops converge on Buchanan's lead-lined mansion, and he sends out his unkillable zombies to battle them. Walker, however, is able to get into the mansion and smash the atomic-powered equipment that controls the zombies; after doing so, they all collapse. Buchanan is about to shoot Walker, but the still-animated zombie police captain, now under Walker's control, grabs and strangles Buchanan before he can fire a shot.\">, 'Genre': <tf.Tensor: shape=(20,), dtype=float64, numpy=\n",
            "array([1., 0., 0., 0., 0., 0., 0., 0., 0., 0., 0., 0., 0., 0., 0., 0., 0.,\n",
            "       0., 0., 0.])>}\n",
            "{'Title': <tf.Tensor: shape=(), dtype=string, numpy=b'son of paleface'>, 'Origin/Ethnicity': <tf.Tensor: shape=(24,), dtype=float64, numpy=\n",
            "array([1., 0., 0., 0., 0., 0., 0., 0., 0., 0., 0., 0., 0., 0., 0., 0., 0.,\n",
            "       0., 0., 0., 0., 0., 0., 0.])>, 'Plot': <tf.Tensor: shape=(), dtype=string, numpy=b'Peter \"Junior\" Potter (Hope) has graduated from Harvard and now heads west to the town of Sawbuck Pass to claim his Daddy\\'s fortune. Driving into town in a jalopy and wearing a comical plaid suit, he splashes mud all over a crowd of townspeople. He also discovers to his horror that practically everyone in town claims to be owed a debt, and that his father\\'s treasure chest is empty.\\r\\nJunior stalls the townfolk for as long as he can, continually making allusions to his wealth. He makes the acquaintance of a singing cowboy named Roy (Rogers) and a sexy saloon performer with the masculine name of Mike (Russell), who has to fend off Junior\\'s persistent advances. A grizzled local character also befriends Junior and continues offering him advice, eventually finding the hiding place of his father\\'s hidden fortune. Meanwhile, a mysterious masked bandit known only as \"The Torch\" has been leading midnight raids.\\r\\nWhat the wise-cracking, clueless Junior doesn\\'t know is that the object of his affections, Mike, is in fact The Torch, and that Roy is a government agent with a Smith & Wesson Model 320 Revolving Rifle hidden in his guitar case, bent on capturing her.'>, 'Genre': <tf.Tensor: shape=(20,), dtype=float64, numpy=\n",
            "array([0., 1., 0., 0., 0., 0., 0., 0., 0., 0., 0., 0., 0., 0., 0., 0., 0.,\n",
            "       0., 0., 0.])>}\n",
            "{'Title': <tf.Tensor: shape=(), dtype=string, numpy=b'the lady with a lamp'>, 'Origin/Ethnicity': <tf.Tensor: shape=(24,), dtype=float64, numpy=\n",
            "array([0., 0., 0., 0., 0., 0., 1., 0., 0., 0., 0., 0., 0., 0., 0., 0., 0.,\n",
            "       0., 0., 0., 0., 0., 0., 0.])>, 'Plot': <tf.Tensor: shape=(), dtype=string, numpy=b'Illustrating the political complexities the hard-headed nurse had to battle in order to achieve sanitary medical conditions during the Crimean War. Opposed in the uppermost circles of British government because she is \"merely\" a woman, Florence Nightingale is championed by the Hon. Sidney Herbert (Michael Wilding), minister of war. Herbert pulls strings to allow Nightingale and her nursing staff access to battlefield hospitals, and in so doing changes the course of medical history.[3]'>, 'Genre': <tf.Tensor: shape=(20,), dtype=float64, numpy=\n",
            "array([0., 0., 0., 0., 0., 1., 0., 0., 0., 0., 0., 0., 0., 0., 0., 0., 0.,\n",
            "       0., 0., 0.])>}\n",
            "{'Title': <tf.Tensor: shape=(), dtype=string, numpy=b'felix and meira'>, 'Origin/Ethnicity': <tf.Tensor: shape=(24,), dtype=float64, numpy=\n",
            "array([0., 0., 0., 0., 0., 0., 0., 1., 0., 0., 0., 0., 0., 0., 0., 0., 0.,\n",
            "       0., 0., 0., 0., 0., 0., 0.])>, 'Plot': <tf.Tensor: shape=(), dtype=string, numpy=b\"In Mile End, Montreal, a Hassidic Jewish woman named Meira lives a miserable life, married to Shulem who does not allow her to listen to secular music. They have a young daughter named Elishiva, but Meira confides in her friend that she does not want any more children, despite their religious duty. Word reaches Shulem, who berates Meira for shaming the small family. By chance, Meira meets F\\xc3\\xa9lix, a French Canadian man who has just lost his father Th\\xc3\\xa9odore, who at the end of his life no longer knew F\\xc3\\xa9lix was his son. Meira is mystified by the fact that F\\xc3\\xa9lix has no children, as he is single, a novel concept for her as she comes from a culture where women have as many as 14 children. She avoids eye contact with him, and becomes enraged when, while they are playing Ping-Pong, F\\xc3\\xa9lix's sister Caroline unexpectedly arrives and sees her.\\r\\nF\\xc3\\xa9lix and Meira go out dancing. Caroline also informs F\\xc3\\xa9lix that their mother had an affair, drawing parallel to F\\xc3\\xa9lix's interest in a married woman. Eventually, Shulem sees F\\xc3\\xa9lix and Meira walking on a street together, rushes up behind them and begins slapping F\\xc3\\xa9lix.\\r\\nLater, Shulem visits F\\xc3\\xa9lix in his apartment, informing him that if Meira and F\\xc3\\xa9lix reunite, Meira will never be allowed to return to the Hassidic community. Shulem also asks F\\xc3\\xa9lix to keep Meira safe and cared for. Before leaving, Shulem notices a folded up piece of paper, that F\\xc3\\xa9lix says was written by Th\\xc3\\xa9odore and never read. Shulem reads it, revealing Th\\xc3\\xa9odore apologized for bullying F\\xc3\\xa9lix to conform to the family, where he never felt comfortable. F\\xc3\\xa9lix and Meira take Elishiva to Venice.\">, 'Genre': <tf.Tensor: shape=(20,), dtype=float64, numpy=\n",
            "array([0., 0., 0., 0., 0., 0., 0., 0., 0., 0., 0., 0., 1., 0., 0., 0., 0.,\n",
            "       0., 0., 0.])>}\n",
            "{'Title': <tf.Tensor: shape=(), dtype=string, numpy=b'crime on the hill'>, 'Origin/Ethnicity': <tf.Tensor: shape=(24,), dtype=float64, numpy=\n",
            "array([0., 0., 0., 0., 0., 0., 1., 0., 0., 0., 0., 0., 0., 0., 0., 0., 0.,\n",
            "       0., 0., 0., 0., 0., 0., 0.])>, 'Plot': <tf.Tensor: shape=(), dtype=string, numpy=b'A man tries to clear the name of his uncle who is wrongly convicted of a murdering the squire in a picturesque English village.'>, 'Genre': <tf.Tensor: shape=(20,), dtype=float64, numpy=\n",
            "array([0., 0., 0., 0., 0., 0., 0., 0., 0., 0., 0., 0., 0., 0., 0., 1., 0.,\n",
            "       0., 0., 0.])>}\n"
          ]
        }
      ]
    },
    {
      "cell_type": "markdown",
      "source": [
        "In this example, preprocess_titles() is a function that extracts the movie titles from the text data, and y is the target variable for classification (e.g., 1 for action movies, 0 for romance movies). The number of epochs is set to 50, but this value can be adjusted based on the performance of the model on the training data."
      ],
      "metadata": {
        "id": "SYk85dgnGJij"
      }
    },
    {
      "cell_type": "code",
      "source": [
        "import pandas as pd\n",
        "import numpy as np\n",
        "import tensorflow as tf\n",
        "\n",
        "# Load the movie plots dataset\n",
        "df = pd.read_csv(path, compression='gzip')\n",
        "\n",
        "# Preprocess the titles column\n",
        "def preprocess_titles(title):\n",
        "    # Remove parentheses and their contents\n",
        "    title = re.sub(r'\\([^)]*\\)', '', title)\n",
        "    # Remove any remaining punctuation\n",
        "    title = re.sub(r'[^\\w\\s]', '', title)\n",
        "    # Convert to lowercase\n",
        "    title = title.lower()\n",
        "    return title\n",
        "\n",
        "df['Title'] = df['Title'].apply(preprocess_titles)\n",
        "\n",
        "# Convert Origin/Ethnicity and Genre to one-hot encoded variables\n",
        "df = pd.get_dummies(df, columns=['Origin/Ethnicity', 'Genre'])\n",
        "\n",
        "# Split the dataset into train, validation, and test sets\n",
        "train_df, val_df, test_df = np.split(df.sample(frac=1, random_state=42), [int(0.6*len(df)), int(0.8*len(df))])\n",
        "\n",
        "# Convert the dataframes to dictionaries\n",
        "train_dict = {'Title': train_df['Title'].values, 'Origin/Ethnicity': train_df.filter(like='Origin/Ethnicity').values.astype(np.float64), 'Plot': train_df['Plot'].values, 'Genre': train_df.filter(like='Genre').values.astype(np.float64)}\n",
        "val_dict = {'Title': val_df['Title'].values, 'Origin/Ethnicity': val_df.filter(like='Origin/Ethnicity').values.astype(np.float64), 'Plot': val_df['Plot'].values, 'Genre': val_df.filter(like='Genre').values.astype(np.float64)}\n",
        "test_dict = {'Title': test_df['Title'].values, 'Origin/Ethnicity': test_df.filter(like='Origin/Ethnicity').values.astype(np.float64), 'Plot': test_df['Plot'].values, 'Genre': test_df.filter(like='Genre').values.astype(np.float64)}\n",
        "\n",
        "# Create tf.data.Dataset objects from the dictionaries\n",
        "train_dataset = tf.data.Dataset.from_tensor_slices(train_dict)\n",
        "val_dataset = tf.data.Dataset.from_tensor_slices(val_dict)\n",
        "test_dataset = tf.data.Dataset.from_tensor_slices(test_dict)\n",
        "\n",
        "# Print the first few entries in the training dataset\n",
        "for elem in train_dataset.take(5):\n",
        "    print(elem)\n"
      ],
      "metadata": {
        "id": "jNkKdztvR_VT",
        "outputId": "8571942f-8cbd-4e0e-bf9f-649b6a0ad349",
        "colab": {
          "base_uri": "https://localhost:8080/"
        }
      },
      "execution_count": 5,
      "outputs": [
        {
          "output_type": "stream",
          "name": "stdout",
          "text": [
            "{'Title': <tf.Tensor: shape=(), dtype=string, numpy=b'creature with the atom brain'>, 'Origin/Ethnicity': <tf.Tensor: shape=(24,), dtype=float64, numpy=\n",
            "array([1., 0., 0., 0., 0., 0., 0., 0., 0., 0., 0., 0., 0., 0., 0., 0., 0.,\n",
            "       0., 0., 0., 0., 0., 0., 0.])>, 'Plot': <tf.Tensor: shape=(), dtype=string, numpy=b\"A hulking zombie breaks into a mansion and kills a gangster named Hennesy. The blood stains left behind at the crime scene are radioactive, and the fingerprints of the killer are of a man who had died days before the murder; the police are baffled.\\r\\nGangster boss Frank Buchanan, who had been forced to flee the United States before he was deported, was betrayed by members of his own underworld gang. While traveling in Europe, he finds ex-Nazi scientist Wilhelm Steigg (Gaye), who is trying to reanimate the dead in order to provide a menial labor pool that is easily exploited. Buchanan funds the research and brings the scientist to America with the unstated goal of sending Steigg's zombies out to murder those who ousted him; one by one, they are killed in the same fashion.\\r\\nThe police eventually discover the common connection between the murdered gang members and Buchanan. They try to put the remaining three into protective custody, but Buchanan uses a reanimated dead cop to kill one of them, and a reanimated dead police captain to kill the remaining two. When the zombie captain is captured, police doctor, Dr. Chet Walker (Denning) discovers an atomic-powered remote control brain implant and deduces what has been going on.\\r\\nPolice and army troops converge on Buchanan's lead-lined mansion, and he sends out his unkillable zombies to battle them. Walker, however, is able to get into the mansion and smash the atomic-powered equipment that controls the zombies; after doing so, they all collapse. Buchanan is about to shoot Walker, but the still-animated zombie police captain, now under Walker's control, grabs and strangles Buchanan before he can fire a shot.\">, 'Genre': <tf.Tensor: shape=(20,), dtype=float64, numpy=\n",
            "array([1., 0., 0., 0., 0., 0., 0., 0., 0., 0., 0., 0., 0., 0., 0., 0., 0.,\n",
            "       0., 0., 0.])>}\n",
            "{'Title': <tf.Tensor: shape=(), dtype=string, numpy=b'son of paleface'>, 'Origin/Ethnicity': <tf.Tensor: shape=(24,), dtype=float64, numpy=\n",
            "array([1., 0., 0., 0., 0., 0., 0., 0., 0., 0., 0., 0., 0., 0., 0., 0., 0.,\n",
            "       0., 0., 0., 0., 0., 0., 0.])>, 'Plot': <tf.Tensor: shape=(), dtype=string, numpy=b'Peter \"Junior\" Potter (Hope) has graduated from Harvard and now heads west to the town of Sawbuck Pass to claim his Daddy\\'s fortune. Driving into town in a jalopy and wearing a comical plaid suit, he splashes mud all over a crowd of townspeople. He also discovers to his horror that practically everyone in town claims to be owed a debt, and that his father\\'s treasure chest is empty.\\r\\nJunior stalls the townfolk for as long as he can, continually making allusions to his wealth. He makes the acquaintance of a singing cowboy named Roy (Rogers) and a sexy saloon performer with the masculine name of Mike (Russell), who has to fend off Junior\\'s persistent advances. A grizzled local character also befriends Junior and continues offering him advice, eventually finding the hiding place of his father\\'s hidden fortune. Meanwhile, a mysterious masked bandit known only as \"The Torch\" has been leading midnight raids.\\r\\nWhat the wise-cracking, clueless Junior doesn\\'t know is that the object of his affections, Mike, is in fact The Torch, and that Roy is a government agent with a Smith & Wesson Model 320 Revolving Rifle hidden in his guitar case, bent on capturing her.'>, 'Genre': <tf.Tensor: shape=(20,), dtype=float64, numpy=\n",
            "array([0., 1., 0., 0., 0., 0., 0., 0., 0., 0., 0., 0., 0., 0., 0., 0., 0.,\n",
            "       0., 0., 0.])>}\n",
            "{'Title': <tf.Tensor: shape=(), dtype=string, numpy=b'the lady with a lamp'>, 'Origin/Ethnicity': <tf.Tensor: shape=(24,), dtype=float64, numpy=\n",
            "array([0., 0., 0., 0., 0., 0., 1., 0., 0., 0., 0., 0., 0., 0., 0., 0., 0.,\n",
            "       0., 0., 0., 0., 0., 0., 0.])>, 'Plot': <tf.Tensor: shape=(), dtype=string, numpy=b'Illustrating the political complexities the hard-headed nurse had to battle in order to achieve sanitary medical conditions during the Crimean War. Opposed in the uppermost circles of British government because she is \"merely\" a woman, Florence Nightingale is championed by the Hon. Sidney Herbert (Michael Wilding), minister of war. Herbert pulls strings to allow Nightingale and her nursing staff access to battlefield hospitals, and in so doing changes the course of medical history.[3]'>, 'Genre': <tf.Tensor: shape=(20,), dtype=float64, numpy=\n",
            "array([0., 0., 0., 0., 0., 1., 0., 0., 0., 0., 0., 0., 0., 0., 0., 0., 0.,\n",
            "       0., 0., 0.])>}\n",
            "{'Title': <tf.Tensor: shape=(), dtype=string, numpy=b'felix and meira'>, 'Origin/Ethnicity': <tf.Tensor: shape=(24,), dtype=float64, numpy=\n",
            "array([0., 0., 0., 0., 0., 0., 0., 1., 0., 0., 0., 0., 0., 0., 0., 0., 0.,\n",
            "       0., 0., 0., 0., 0., 0., 0.])>, 'Plot': <tf.Tensor: shape=(), dtype=string, numpy=b\"In Mile End, Montreal, a Hassidic Jewish woman named Meira lives a miserable life, married to Shulem who does not allow her to listen to secular music. They have a young daughter named Elishiva, but Meira confides in her friend that she does not want any more children, despite their religious duty. Word reaches Shulem, who berates Meira for shaming the small family. By chance, Meira meets F\\xc3\\xa9lix, a French Canadian man who has just lost his father Th\\xc3\\xa9odore, who at the end of his life no longer knew F\\xc3\\xa9lix was his son. Meira is mystified by the fact that F\\xc3\\xa9lix has no children, as he is single, a novel concept for her as she comes from a culture where women have as many as 14 children. She avoids eye contact with him, and becomes enraged when, while they are playing Ping-Pong, F\\xc3\\xa9lix's sister Caroline unexpectedly arrives and sees her.\\r\\nF\\xc3\\xa9lix and Meira go out dancing. Caroline also informs F\\xc3\\xa9lix that their mother had an affair, drawing parallel to F\\xc3\\xa9lix's interest in a married woman. Eventually, Shulem sees F\\xc3\\xa9lix and Meira walking on a street together, rushes up behind them and begins slapping F\\xc3\\xa9lix.\\r\\nLater, Shulem visits F\\xc3\\xa9lix in his apartment, informing him that if Meira and F\\xc3\\xa9lix reunite, Meira will never be allowed to return to the Hassidic community. Shulem also asks F\\xc3\\xa9lix to keep Meira safe and cared for. Before leaving, Shulem notices a folded up piece of paper, that F\\xc3\\xa9lix says was written by Th\\xc3\\xa9odore and never read. Shulem reads it, revealing Th\\xc3\\xa9odore apologized for bullying F\\xc3\\xa9lix to conform to the family, where he never felt comfortable. F\\xc3\\xa9lix and Meira take Elishiva to Venice.\">, 'Genre': <tf.Tensor: shape=(20,), dtype=float64, numpy=\n",
            "array([0., 0., 0., 0., 0., 0., 0., 0., 0., 0., 0., 0., 1., 0., 0., 0., 0.,\n",
            "       0., 0., 0.])>}\n",
            "{'Title': <tf.Tensor: shape=(), dtype=string, numpy=b'crime on the hill'>, 'Origin/Ethnicity': <tf.Tensor: shape=(24,), dtype=float64, numpy=\n",
            "array([0., 0., 0., 0., 0., 0., 1., 0., 0., 0., 0., 0., 0., 0., 0., 0., 0.,\n",
            "       0., 0., 0., 0., 0., 0., 0.])>, 'Plot': <tf.Tensor: shape=(), dtype=string, numpy=b'A man tries to clear the name of his uncle who is wrongly convicted of a murdering the squire in a picturesque English village.'>, 'Genre': <tf.Tensor: shape=(20,), dtype=float64, numpy=\n",
            "array([0., 0., 0., 0., 0., 0., 0., 0., 0., 0., 0., 0., 0., 0., 0., 1., 0.,\n",
            "       0., 0., 0.])>}\n"
          ]
        }
      ]
    },
    {
      "cell_type": "code",
      "source": [
        "from keras.models import Sequential\n",
        "from keras.layers import Dense\n",
        "from sklearn.feature_extraction.text import CountVectorizer\n",
        "\n",
        "# Preprocess the text data to extract only the movie title\n",
        "titles = preprocess_titles(\"The Shawshank Redemption\")\n",
        "\n",
        "# Convert the titles into a binary bag-of-words representation with a vocabulary of 500 words\n",
        "vectorizer = CountVectorizer(binary=True, max_features=500)\n",
        "X = vectorizer.fit_transform(titles)\n",
        "\n",
        "# Create a linear classification model with a single output layer\n",
        "model = Sequential()\n",
        "model.add(Dense(1, input_dim=X.shape[1], activation='sigmoid'))\n",
        "\n",
        "# Compile the model using the Adam optimizer with a learning rate of 0.001 and the binary cross-entropy loss function\n",
        "model.compile(optimizer='adam', loss='binary_crossentropy', metrics=['accuracy'])\n",
        "\n",
        "# Train the model using the fit method of the Keras model\n",
        "model.fit(X, y, epochs=50, batch_size=32)\n"
      ],
      "metadata": {
        "id": "M0nbUtXsGKQh"
      },
      "execution_count": null,
      "outputs": []
    }
  ]
}